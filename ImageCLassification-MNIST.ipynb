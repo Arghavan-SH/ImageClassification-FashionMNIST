{
 "cells": [
  {
   "cell_type": "code",
   "execution_count": 225,
   "metadata": {
    "id": "jkrVI_X2HtyU"
   },
   "outputs": [],
   "source": [
    "import numpy as np\n",
    "from urllib.request import urlopen\n",
    "import pandas as pd\n",
    "\n",
    "\n",
    "import matplotlib.pyplot as plt\n",
    "import tensorflow as tf\n",
    "from tensorflow import keras\n",
    "\n",
    "import datetime\n",
    "from sklearn import preprocessing\n",
    "from sklearn.metrics import classification_report\n",
    "\n",
    "\n",
    "np.random.seed(42)"
   ]
  },
  {
   "cell_type": "code",
   "execution_count": 162,
   "metadata": {
    "id": "UrpZ52OXH6rK"
   },
   "outputs": [],
   "source": [
    "import numpy as np\n",
    "from urllib.request import urlopen\n",
    "\n",
    "def load_fashion_mnist():\n",
    "\n",
    "    url_base = \"https://www.math.unipd.it/~dasan/\"\n",
    "    Y_train = np.frombuffer(urlopen(url_base + \"train-labels-idx1-ubyte\").read(), dtype=np.uint8, offset=8)\n",
    "    X_train = np.frombuffer(urlopen(url_base + \"train-images-idx3-ubyte\").read(), dtype=np.uint8, offset=16).reshape(len(Y_train), 784) # besides loadng \n",
    "                                                                                            #the data, I already flatten it into a vector\n",
    "    Y_test = np.frombuffer(urlopen(url_base + \"t10k-labels-idx1-ubyte\").read(), dtype=np.uint8, offset=8)\n",
    "    X_test = np.frombuffer(urlopen(url_base + \"t10k-images-idx3-ubyte\").read(), dtype=np.uint8, offset=16).reshape(len(Y_test), 784)\n",
    "\n",
    "    return X_train, Y_train, X_test, Y_test\n"
   ]
  },
  {
   "cell_type": "code",
   "execution_count": 223,
   "metadata": {
    "colab": {
     "base_uri": "https://localhost:8080/"
    },
    "id": "YfB520THICv_",
    "outputId": "8b8d3470-28fe-41e4-b502-f1936c7bc178"
   },
   "outputs": [
    {
     "name": "stdout",
     "output_type": "stream",
     "text": [
      "(60000, 784) (60000,) (10000, 784) (10000,)\n"
     ]
    }
   ],
   "source": [
    "X_train, Y_train, X_test, Y_test = load_fashion_mnist()\n",
    "print(X_train.shape, Y_train.shape, X_test.shape, Y_test.shape)"
   ]
  },
  {
   "cell_type": "code",
   "execution_count": 227,
   "metadata": {},
   "outputs": [
    {
     "data": {
      "text/html": [
       "<div>\n",
       "<style scoped>\n",
       "    .dataframe tbody tr th:only-of-type {\n",
       "        vertical-align: middle;\n",
       "    }\n",
       "\n",
       "    .dataframe tbody tr th {\n",
       "        vertical-align: top;\n",
       "    }\n",
       "\n",
       "    .dataframe thead th {\n",
       "        text-align: right;\n",
       "    }\n",
       "</style>\n",
       "<table border=\"1\" class=\"dataframe\">\n",
       "  <thead>\n",
       "    <tr style=\"text-align: right;\">\n",
       "      <th></th>\n",
       "      <th>T-shirt/top</th>\n",
       "      <th>Trouser</th>\n",
       "      <th>Pullover</th>\n",
       "      <th>Dress</th>\n",
       "      <th>Coat</th>\n",
       "      <th>Sandal</th>\n",
       "      <th>Shirt</th>\n",
       "      <th>Sneaker</th>\n",
       "      <th>Bag</th>\n",
       "      <th>Ankle boot</th>\n",
       "    </tr>\n",
       "  </thead>\n",
       "  <tbody>\n",
       "    <tr>\n",
       "      <th>Count</th>\n",
       "      <td>6000</td>\n",
       "      <td>6000</td>\n",
       "      <td>6000</td>\n",
       "      <td>6000</td>\n",
       "      <td>6000</td>\n",
       "      <td>6000</td>\n",
       "      <td>6000</td>\n",
       "      <td>6000</td>\n",
       "      <td>6000</td>\n",
       "      <td>6000</td>\n",
       "    </tr>\n",
       "  </tbody>\n",
       "</table>\n",
       "</div>"
      ],
      "text/plain": [
       "       T-shirt/top  Trouser  Pullover  Dress  Coat  Sandal  Shirt  Sneaker  \\\n",
       "Count         6000     6000      6000   6000  6000    6000   6000     6000   \n",
       "\n",
       "        Bag  Ankle boot  \n",
       "Count  6000        6000  "
      ]
     },
     "metadata": {},
     "output_type": "display_data"
    },
    {
     "data": {
      "text/plain": [
       "<matplotlib.axes._subplots.AxesSubplot at 0x16c09a76588>"
      ]
     },
     "execution_count": 227,
     "metadata": {},
     "output_type": "execute_result"
    },
    {
     "data": {
      "image/png": "[encoded data removed]",
      "text/plain": [
       "<Figure size 432x288 with 1 Axes>"
      ]
     },
     "metadata": {
      "needs_background": "light"
     },
     "output_type": "display_data"
    }
   ],
   "source": [
    "unique, counts = np.unique(Y_train, return_counts=True) # Count the unique values\n",
    "\n",
    "Y_class_fr = pd.DataFrame(counts, index = class_names)\n",
    "Y_class_fr = Y_class_fr.rename(columns={0: \"Count\"})   # Rename the columns\n",
    "\n",
    "display(Y_class_fr.transpose())                     # Display the count\n",
    "\n",
    "Y_class_fr.plot.bar(legend = False)     # Create a barplot"
   ]
  },
  {
   "cell_type": "code",
   "execution_count": 219,
   "metadata": {
    "id": "9c9PAvs5eDYx"
   },
   "outputs": [],
   "source": [
    "X_valid, X_train = X_train[:10000], X_train[10000:] \n",
    "Y_valid, Y_train = Y_train[:10000], Y_train[10000:]\n",
    "\n",
    "class_names = [\"T-shirt/top\", \"Trouser\", \"Pullover\", \"Dress\", \"Coat\",\n",
    "               \"Sandal\", \"Shirt\", \"Sneaker\", \"Bag\", \"Ankle boot\"]"
   ]
  },
  {
   "cell_type": "code",
   "execution_count": 228,
   "metadata": {},
   "outputs": [
    {
     "data": {
      "image/png": "[encoded data removed]",
      "text/plain": [
       "<Figure size 1008x576 with 50 Axes>"
      ]
     },
     "metadata": {
      "needs_background": "light"
     },
     "output_type": "display_data"
    }
   ],
   "source": [
    "n_rows =5\n",
    "n_cols=10\n",
    "plt.figure(figsize=(n_cols*1.4,n_rows*1.6))\n",
    "for row in range (n_rows):\n",
    "    for col in range(n_cols):\n",
    "        index= n_cols*row+col\n",
    "        plt.subplot(n_rows,n_cols,index+1)\n",
    "        plt.imshow(X_train[index].reshape(28,28),cmap=\"binary\",interpolation=\"nearest\")\n",
    "        plt.axis('off')\n",
    "        plt.title(class_names[Y_train[index]])\n",
    "plt.show()"
   ]
  },
  {
   "cell_type": "code",
   "execution_count": 220,
   "metadata": {
    "id": "bDzHZoBVebXx"
   },
   "outputs": [],
   "source": [
    "X_train = preprocessing.normalize(X_train)\n",
    "X_valid = preprocessing.normalize(X_valid)\n",
    "X_test = preprocessing.normalize(X_test)"
   ]
  },
  {
   "cell_type": "markdown",
   "metadata": {},
   "source": [
    "## NN with 3layers"
   ]
  },
  {
   "cell_type": "markdown",
   "metadata": {},
   "source": [
    "### Grid search for number of units"
   ]
  },
  {
   "cell_type": "code",
   "execution_count": 59,
   "metadata": {},
   "outputs": [
    {
     "name": "stderr",
     "output_type": "stream",
     "text": [
      "C:\\Users\\Arghavan\\Anaconda3\\lib\\site-packages\\ipykernel_launcher.py:14: DeprecationWarning: KerasRegressor is deprecated, use Sci-Keras (https://github.com/adriangb/scikeras) instead.\n",
      "  \n"
     ]
    }
   ],
   "source": [
    "def build_model_n(n_units1=64,n_units2=64):\n",
    "    model = keras.models.Sequential([\n",
    "                        \n",
    "                          keras.layers.Dense(n_units1, activation=\"relu\"),\n",
    "                          keras.layers.Dense(n_units2, activation=\"relu\"),\n",
    "                          keras.layers.Dense(10, activation=\"sigmoid\")\n",
    "                                     ])\n",
    "    \n",
    "    model.compile(loss=\"sparse_categorical_crossentropy\",\n",
    "              optimizer=keras.optimizers.Adam(0.01),\n",
    "              metrics=[\"accuracy\"])\n",
    "    \n",
    "    return model\n",
    "keras_reg = keras.wrappers.scikit_learn.KerasRegressor(build_model_n)"
   ]
  },
  {
   "cell_type": "code",
   "execution_count": 60,
   "metadata": {},
   "outputs": [],
   "source": [
    "param_distribs = {\n",
    "    \"n_units1\": [64,128,256],\n",
    "    \"n_units2\": [64,128,256],\n",
    "    \n",
    "}"
   ]
  },
  {
   "cell_type": "code",
   "execution_count": 61,
   "metadata": {},
   "outputs": [],
   "source": [
    "from sklearn.model_selection import GridSearchCV\n",
    "\n",
    "grid_search = GridSearchCV(keras_reg, param_distribs)"
   ]
  },
  {
   "cell_type": "code",
   "execution_count": 62,
   "metadata": {},
   "outputs": [
    {
     "name": "stderr",
     "output_type": "stream",
     "text": [
      "C:\\Users\\Arghavan\\Anaconda3\\lib\\site-packages\\sklearn\\base.py:65: DeprecationWarning: KerasRegressor is deprecated, use Sci-Keras (https://github.com/adriangb/scikeras) instead.\n",
      "  new_object = klass(**new_object_params)\n",
      "C:\\Users\\Arghavan\\Anaconda3\\lib\\site-packages\\sklearn\\base.py:65: DeprecationWarning: KerasRegressor is deprecated, use Sci-Keras (https://github.com/adriangb/scikeras) instead.\n",
      "  new_object = klass(**new_object_params)\n"
     ]
    },
    {
     "name": "stdout",
     "output_type": "stream",
     "text": [
      "Epoch 1/5\n",
      "1042/1042 [==============================] - 5s 4ms/step - loss: 0.5571 - accuracy: 0.7945 - val_loss: 0.4644 - val_accuracy: 0.8336\n",
      "Epoch 2/5\n",
      "1042/1042 [==============================] - 6s 6ms/step - loss: 0.4183 - accuracy: 0.8478 - val_loss: 0.3904 - val_accuracy: 0.8613\n",
      "Epoch 3/5\n",
      "1042/1042 [==============================] - 5s 5ms/step - loss: 0.3799 - accuracy: 0.8605 - val_loss: 0.4387 - val_accuracy: 0.8355\n",
      "Epoch 4/5\n",
      "1042/1042 [==============================] - 7s 7ms/step - loss: 0.3609 - accuracy: 0.8677 - val_loss: 0.4031 - val_accuracy: 0.8577\n",
      "Epoch 5/5\n",
      "1042/1042 [==============================] - 5s 5ms/step - loss: 0.3477 - accuracy: 0.8724 - val_loss: 0.3905 - val_accuracy: 0.8645\n",
      "521/521 [==============================] - 2s 3ms/step - loss: 0.3873 - accuracy: 0.8631\n",
      "1042/1042 [==============================] - 3s 3ms/step - loss: 0.3294 - accuracy: 0.8813\n"
     ]
    },
    {
     "name": "stderr",
     "output_type": "stream",
     "text": [
      "C:\\Users\\Arghavan\\Anaconda3\\lib\\site-packages\\sklearn\\base.py:65: DeprecationWarning: KerasRegressor is deprecated, use Sci-Keras (https://github.com/adriangb/scikeras) instead.\n",
      "  new_object = klass(**new_object_params)\n"
     ]
    },
    {
     "name": "stdout",
     "output_type": "stream",
     "text": [
      "Epoch 1/5\n",
      "1042/1042 [==============================] - 4s 4ms/step - loss: 0.5528 - accuracy: 0.7947 - val_loss: 0.4819 - val_accuracy: 0.8265\n",
      "Epoch 2/5\n",
      "1042/1042 [==============================] - 6s 6ms/step - loss: 0.4197 - accuracy: 0.8457 - val_loss: 0.4359 - val_accuracy: 0.8393\n",
      "Epoch 3/5\n",
      "1042/1042 [==============================] - 5s 5ms/step - loss: 0.3867 - accuracy: 0.8550 - val_loss: 0.4423 - val_accuracy: 0.8383\n",
      "Epoch 4/5\n",
      "1042/1042 [==============================] - 7s 6ms/step - loss: 0.3637 - accuracy: 0.8637 - val_loss: 0.4081 - val_accuracy: 0.8590\n",
      "Epoch 5/5\n",
      "1042/1042 [==============================] - 5s 5ms/step - loss: 0.3467 - accuracy: 0.8731 - val_loss: 0.3856 - val_accuracy: 0.8650\n",
      "521/521 [==============================] - 1s 2ms/step - loss: 0.3836 - accuracy: 0.8703\n",
      "1042/1042 [==============================] - 4s 4ms/step - loss: 0.3202 - accuracy: 0.8801\n"
     ]
    },
    {
     "name": "stderr",
     "output_type": "stream",
     "text": [
      "C:\\Users\\Arghavan\\Anaconda3\\lib\\site-packages\\sklearn\\base.py:65: DeprecationWarning: KerasRegressor is deprecated, use Sci-Keras (https://github.com/adriangb/scikeras) instead.\n",
      "  new_object = klass(**new_object_params)\n"
     ]
    },
    {
     "name": "stdout",
     "output_type": "stream",
     "text": [
      "Epoch 1/5\n",
      "1042/1042 [==============================] - 6s 5ms/step - loss: 0.5574 - accuracy: 0.7935 - val_loss: 0.4220 - val_accuracy: 0.8468\n",
      "Epoch 2/5\n",
      "1042/1042 [==============================] - 5s 5ms/step - loss: 0.4173 - accuracy: 0.8475 - val_loss: 0.3882 - val_accuracy: 0.8537\n",
      "Epoch 3/5\n",
      "1042/1042 [==============================] - 6s 6ms/step - loss: 0.3829 - accuracy: 0.8595 - val_loss: 0.4038 - val_accuracy: 0.8490\n",
      "Epoch 4/5\n",
      "1042/1042 [==============================] - 6s 6ms/step - loss: 0.3606 - accuracy: 0.8670 - val_loss: 0.4081 - val_accuracy: 0.8417\n",
      "Epoch 5/5\n",
      "1042/1042 [==============================] - 7s 6ms/step - loss: 0.3500 - accuracy: 0.8710 - val_loss: 0.4027 - val_accuracy: 0.8558\n",
      "521/521 [==============================] - 2s 4ms/step - loss: 0.4129 - accuracy: 0.8544\n",
      "1042/1042 [==============================] - 5s 4ms/step - loss: 0.3341 - accuracy: 0.8751\n"
     ]
    },
    {
     "name": "stderr",
     "output_type": "stream",
     "text": [
      "C:\\Users\\Arghavan\\Anaconda3\\lib\\site-packages\\sklearn\\base.py:65: DeprecationWarning: KerasRegressor is deprecated, use Sci-Keras (https://github.com/adriangb/scikeras) instead.\n",
      "  new_object = klass(**new_object_params)\n"
     ]
    },
    {
     "name": "stdout",
     "output_type": "stream",
     "text": [
      "Epoch 1/5\n",
      "1042/1042 [==============================] - 8s 6ms/step - loss: 0.5523 - accuracy: 0.7966 - val_loss: 0.4662 - val_accuracy: 0.8272\n",
      "Epoch 2/5\n",
      "1042/1042 [==============================] - 6s 6ms/step - loss: 0.4208 - accuracy: 0.8468 - val_loss: 0.3987 - val_accuracy: 0.8526\n",
      "Epoch 3/5\n",
      "1042/1042 [==============================] - 7s 7ms/step - loss: 0.3849 - accuracy: 0.8606 - val_loss: 0.3728 - val_accuracy: 0.8636\n",
      "Epoch 4/5\n",
      "1042/1042 [==============================] - 5s 5ms/step - loss: 0.3650 - accuracy: 0.8660 - val_loss: 0.4027 - val_accuracy: 0.8559\n",
      "Epoch 5/5\n",
      "1042/1042 [==============================] - 6s 6ms/step - loss: 0.3472 - accuracy: 0.8723 - val_loss: 0.3861 - val_accuracy: 0.8643\n",
      "521/521 [==============================] - 3s 5ms/step - loss: 0.3869 - accuracy: 0.8643\n",
      "1042/1042 [==============================] - 5s 5ms/step - loss: 0.3174 - accuracy: 0.8808\n"
     ]
    },
    {
     "name": "stderr",
     "output_type": "stream",
     "text": [
      "C:\\Users\\Arghavan\\Anaconda3\\lib\\site-packages\\sklearn\\base.py:65: DeprecationWarning: KerasRegressor is deprecated, use Sci-Keras (https://github.com/adriangb/scikeras) instead.\n",
      "  new_object = klass(**new_object_params)\n"
     ]
    },
    {
     "name": "stdout",
     "output_type": "stream",
     "text": [
      "Epoch 1/5\n",
      "1042/1042 [==============================] - 8s 7ms/step - loss: 0.5465 - accuracy: 0.7959 - val_loss: 0.4541 - val_accuracy: 0.8326\n",
      "Epoch 2/5\n",
      "1042/1042 [==============================] - 7s 7ms/step - loss: 0.4240 - accuracy: 0.8426 - val_loss: 0.4147 - val_accuracy: 0.8436\n",
      "Epoch 3/5\n",
      "1042/1042 [==============================] - 7s 7ms/step - loss: 0.3906 - accuracy: 0.8535 - val_loss: 0.3934 - val_accuracy: 0.8620\n",
      "Epoch 4/5\n",
      "1042/1042 [==============================] - 7s 6ms/step - loss: 0.3652 - accuracy: 0.8653 - val_loss: 0.4052 - val_accuracy: 0.8580\n",
      "Epoch 5/5\n",
      "1042/1042 [==============================] - 7s 6ms/step - loss: 0.3488 - accuracy: 0.8701 - val_loss: 0.3721 - val_accuracy: 0.8661\n",
      "521/521 [==============================] - 2s 3ms/step - loss: 0.3703 - accuracy: 0.8678\n",
      "1042/1042 [==============================] - 4s 4ms/step - loss: 0.3164 - accuracy: 0.8812\n"
     ]
    },
    {
     "name": "stderr",
     "output_type": "stream",
     "text": [
      "C:\\Users\\Arghavan\\Anaconda3\\lib\\site-packages\\sklearn\\base.py:65: DeprecationWarning: KerasRegressor is deprecated, use Sci-Keras (https://github.com/adriangb/scikeras) instead.\n",
      "  new_object = klass(**new_object_params)\n"
     ]
    },
    {
     "name": "stdout",
     "output_type": "stream",
     "text": [
      "Epoch 1/5\n",
      "1042/1042 [==============================] - 7s 6ms/step - loss: 0.5472 - accuracy: 0.7980 - val_loss: 0.4367 - val_accuracy: 0.8375\n",
      "Epoch 2/5\n",
      "1042/1042 [==============================] - 5s 5ms/step - loss: 0.4147 - accuracy: 0.8468 - val_loss: 0.4755 - val_accuracy: 0.8339\n",
      "Epoch 3/5\n",
      "1042/1042 [==============================] - 5s 5ms/step - loss: 0.3814 - accuracy: 0.8583 - val_loss: 0.3965 - val_accuracy: 0.8559\n",
      "Epoch 4/5\n",
      "1042/1042 [==============================] - 6s 6ms/step - loss: 0.3550 - accuracy: 0.8676 - val_loss: 0.3811 - val_accuracy: 0.8575\n",
      "Epoch 5/5\n",
      "1042/1042 [==============================] - 7s 7ms/step - loss: 0.3385 - accuracy: 0.8742 - val_loss: 0.4107 - val_accuracy: 0.8518\n",
      "521/521 [==============================] - 3s 5ms/step - loss: 0.4215 - accuracy: 0.8476\n",
      "1042/1042 [==============================] - 5s 5ms/step - loss: 0.3484 - accuracy: 0.8696\n"
     ]
    },
    {
     "name": "stderr",
     "output_type": "stream",
     "text": [
      "C:\\Users\\Arghavan\\Anaconda3\\lib\\site-packages\\sklearn\\base.py:65: DeprecationWarning: KerasRegressor is deprecated, use Sci-Keras (https://github.com/adriangb/scikeras) instead.\n",
      "  new_object = klass(**new_object_params)\n"
     ]
    },
    {
     "name": "stdout",
     "output_type": "stream",
     "text": [
      "Epoch 1/5\n",
      "1042/1042 [==============================] - 7s 6ms/step - loss: 0.5485 - accuracy: 0.7947 - val_loss: 0.4585 - val_accuracy: 0.8314\n",
      "Epoch 2/5\n",
      "1042/1042 [==============================] - 7s 7ms/step - loss: 0.4267 - accuracy: 0.8449 - val_loss: 0.3902 - val_accuracy: 0.8592\n",
      "Epoch 3/5\n",
      "1042/1042 [==============================] - 8s 8ms/step - loss: 0.3867 - accuracy: 0.8577 - val_loss: 0.4070 - val_accuracy: 0.8559\n",
      "Epoch 4/5\n",
      "1042/1042 [==============================] - 8s 7ms/step - loss: 0.3670 - accuracy: 0.8654 - val_loss: 0.3843 - val_accuracy: 0.8650\n",
      "Epoch 5/5\n",
      "1042/1042 [==============================] - 8s 8ms/step - loss: 0.3449 - accuracy: 0.8737 - val_loss: 0.3856 - val_accuracy: 0.8658\n",
      "521/521 [==============================] - 2s 4ms/step - loss: 0.3838 - accuracy: 0.8634\n",
      "1042/1042 [==============================] - 5s 5ms/step - loss: 0.3128 - accuracy: 0.8849\n"
     ]
    },
    {
     "name": "stderr",
     "output_type": "stream",
     "text": [
      "C:\\Users\\Arghavan\\Anaconda3\\lib\\site-packages\\sklearn\\base.py:65: DeprecationWarning: KerasRegressor is deprecated, use Sci-Keras (https://github.com/adriangb/scikeras) instead.\n",
      "  new_object = klass(**new_object_params)\n"
     ]
    },
    {
     "name": "stdout",
     "output_type": "stream",
     "text": [
      "Epoch 1/5\n",
      "1042/1042 [==============================] - 5s 4ms/step - loss: 0.5553 - accuracy: 0.7918 - val_loss: 0.4422 - val_accuracy: 0.8338\n",
      "Epoch 2/5\n",
      "1042/1042 [==============================] - 8s 8ms/step - loss: 0.4269 - accuracy: 0.8417 - val_loss: 0.4330 - val_accuracy: 0.8413\n",
      "Epoch 3/5\n",
      "1042/1042 [==============================] - 7s 7ms/step - loss: 0.3951 - accuracy: 0.8536 - val_loss: 0.4088 - val_accuracy: 0.8557\n",
      "Epoch 4/5\n",
      "1042/1042 [==============================] - 8s 8ms/step - loss: 0.3655 - accuracy: 0.8653 - val_loss: 0.4025 - val_accuracy: 0.8539\n",
      "Epoch 5/5\n",
      "1042/1042 [==============================] - 8s 8ms/step - loss: 0.3557 - accuracy: 0.8672 - val_loss: 0.4191 - val_accuracy: 0.8475\n",
      "521/521 [==============================] - 1s 2ms/step - loss: 0.4127 - accuracy: 0.8522\n",
      "1042/1042 [==============================] - 2s 2ms/step - loss: 0.3635 - accuracy: 0.8612\n"
     ]
    },
    {
     "name": "stderr",
     "output_type": "stream",
     "text": [
      "C:\\Users\\Arghavan\\Anaconda3\\lib\\site-packages\\sklearn\\base.py:65: DeprecationWarning: KerasRegressor is deprecated, use Sci-Keras (https://github.com/adriangb/scikeras) instead.\n",
      "  new_object = klass(**new_object_params)\n"
     ]
    },
    {
     "name": "stdout",
     "output_type": "stream",
     "text": [
      "Epoch 1/5\n",
      "1042/1042 [==============================] - 6s 5ms/step - loss: 0.5585 - accuracy: 0.7915 - val_loss: 0.4756 - val_accuracy: 0.8290\n",
      "Epoch 2/5\n",
      "1042/1042 [==============================] - 8s 8ms/step - loss: 0.4228 - accuracy: 0.8463 - val_loss: 0.4854 - val_accuracy: 0.8265\n",
      "Epoch 3/5\n",
      "1042/1042 [==============================] - 8s 8ms/step - loss: 0.3886 - accuracy: 0.8577 - val_loss: 0.4143 - val_accuracy: 0.8500\n",
      "Epoch 4/5\n",
      "1042/1042 [==============================] - 8s 8ms/step - loss: 0.3662 - accuracy: 0.8640 - val_loss: 0.4503 - val_accuracy: 0.8382\n",
      "Epoch 5/5\n",
      "1042/1042 [==============================] - 8s 8ms/step - loss: 0.3491 - accuracy: 0.8718 - val_loss: 0.4074 - val_accuracy: 0.8542\n",
      "521/521 [==============================] - 2s 4ms/step - loss: 0.4045 - accuracy: 0.8553\n",
      "1042/1042 [==============================] - 3s 3ms/step - loss: 0.3376 - accuracy: 0.8718\n"
     ]
    },
    {
     "name": "stderr",
     "output_type": "stream",
     "text": [
      "C:\\Users\\Arghavan\\Anaconda3\\lib\\site-packages\\sklearn\\base.py:65: DeprecationWarning: KerasRegressor is deprecated, use Sci-Keras (https://github.com/adriangb/scikeras) instead.\n",
      "  new_object = klass(**new_object_params)\n"
     ]
    },
    {
     "name": "stdout",
     "output_type": "stream",
     "text": [
      "Epoch 1/5\n",
      "1042/1042 [==============================] - 6s 5ms/step - loss: 0.5384 - accuracy: 0.8009 - val_loss: 0.4532 - val_accuracy: 0.8318\n",
      "Epoch 2/5\n",
      "1042/1042 [==============================] - 4s 3ms/step - loss: 0.4175 - accuracy: 0.8456 - val_loss: 0.4416 - val_accuracy: 0.8415\n",
      "Epoch 3/5\n",
      "1042/1042 [==============================] - 3s 3ms/step - loss: 0.3809 - accuracy: 0.8597 - val_loss: 0.3855 - val_accuracy: 0.8604\n",
      "Epoch 4/5\n",
      "1042/1042 [==============================] - 3s 3ms/step - loss: 0.3550 - accuracy: 0.8690 - val_loss: 0.4067 - val_accuracy: 0.8559\n",
      "Epoch 5/5\n",
      "1042/1042 [==============================] - 3s 3ms/step - loss: 0.3379 - accuracy: 0.8752 - val_loss: 0.3699 - val_accuracy: 0.8679\n",
      "521/521 [==============================] - 1s 2ms/step - loss: 0.3727 - accuracy: 0.8665\n",
      "1042/1042 [==============================] - 2s 2ms/step - loss: 0.3044 - accuracy: 0.8850\n"
     ]
    },
    {
     "name": "stderr",
     "output_type": "stream",
     "text": [
      "C:\\Users\\Arghavan\\Anaconda3\\lib\\site-packages\\sklearn\\base.py:65: DeprecationWarning: KerasRegressor is deprecated, use Sci-Keras (https://github.com/adriangb/scikeras) instead.\n",
      "  new_object = klass(**new_object_params)\n"
     ]
    },
    {
     "name": "stdout",
     "output_type": "stream",
     "text": [
      "Epoch 1/5\n",
      "1042/1042 [==============================] - 4s 3ms/step - loss: 0.5558 - accuracy: 0.7919 - val_loss: 0.4609 - val_accuracy: 0.8283\n",
      "Epoch 2/5\n",
      "1042/1042 [==============================] - 3s 3ms/step - loss: 0.4154 - accuracy: 0.8459 - val_loss: 0.4037 - val_accuracy: 0.8524\n",
      "Epoch 3/5\n",
      "1042/1042 [==============================] - 4s 4ms/step - loss: 0.3770 - accuracy: 0.8591 - val_loss: 0.4500 - val_accuracy: 0.8347\n",
      "Epoch 4/5\n",
      "1042/1042 [==============================] - 3s 3ms/step - loss: 0.3596 - accuracy: 0.8653 - val_loss: 0.4072 - val_accuracy: 0.8555\n",
      "Epoch 5/5\n",
      "1042/1042 [==============================] - 3s 3ms/step - loss: 0.3433 - accuracy: 0.8714 - val_loss: 0.4026 - val_accuracy: 0.8626\n",
      "521/521 [==============================] - 1s 2ms/step - loss: 0.3996 - accuracy: 0.8616\n",
      "1042/1042 [==============================] - 2s 2ms/step - loss: 0.3317 - accuracy: 0.8770\n"
     ]
    },
    {
     "name": "stderr",
     "output_type": "stream",
     "text": [
      "C:\\Users\\Arghavan\\Anaconda3\\lib\\site-packages\\sklearn\\base.py:65: DeprecationWarning: KerasRegressor is deprecated, use Sci-Keras (https://github.com/adriangb/scikeras) instead.\n",
      "  new_object = klass(**new_object_params)\n"
     ]
    },
    {
     "name": "stdout",
     "output_type": "stream",
     "text": [
      "Epoch 1/5\n",
      "1042/1042 [==============================] - 4s 3ms/step - loss: 0.5449 - accuracy: 0.7986 - val_loss: 0.5020 - val_accuracy: 0.7978\n",
      "Epoch 2/5\n",
      "1042/1042 [==============================] - 4s 4ms/step - loss: 0.4073 - accuracy: 0.8505 - val_loss: 0.4009 - val_accuracy: 0.8529\n",
      "Epoch 3/5\n",
      "1042/1042 [==============================] - 4s 4ms/step - loss: 0.3760 - accuracy: 0.8611 - val_loss: 0.4147 - val_accuracy: 0.8581\n",
      "Epoch 4/5\n",
      "1042/1042 [==============================] - 3s 3ms/step - loss: 0.3471 - accuracy: 0.8725 - val_loss: 0.3729 - val_accuracy: 0.8676\n",
      "Epoch 5/5\n",
      "1042/1042 [==============================] - 4s 4ms/step - loss: 0.3388 - accuracy: 0.8740 - val_loss: 0.4411 - val_accuracy: 0.8434\n",
      "521/521 [==============================] - 1s 2ms/step - loss: 0.4504 - accuracy: 0.8429\n",
      "1042/1042 [==============================] - 2s 2ms/step - loss: 0.3793 - accuracy: 0.8580\n"
     ]
    },
    {
     "name": "stderr",
     "output_type": "stream",
     "text": [
      "C:\\Users\\Arghavan\\Anaconda3\\lib\\site-packages\\sklearn\\base.py:65: DeprecationWarning: KerasRegressor is deprecated, use Sci-Keras (https://github.com/adriangb/scikeras) instead.\n",
      "  new_object = klass(**new_object_params)\n"
     ]
    },
    {
     "name": "stdout",
     "output_type": "stream",
     "text": [
      "Epoch 1/5\n",
      "1042/1042 [==============================] - 5s 4ms/step - loss: 0.5449 - accuracy: 0.7984 - val_loss: 0.5970 - val_accuracy: 0.7930\n",
      "Epoch 2/5\n",
      "1042/1042 [==============================] - 4s 4ms/step - loss: 0.4167 - accuracy: 0.8472 - val_loss: 0.3976 - val_accuracy: 0.8588\n",
      "Epoch 3/5\n",
      "1042/1042 [==============================] - 4s 4ms/step - loss: 0.3784 - accuracy: 0.8608 - val_loss: 0.4093 - val_accuracy: 0.8556\n",
      "Epoch 4/5\n",
      "1042/1042 [==============================] - 4s 4ms/step - loss: 0.3602 - accuracy: 0.8677 - val_loss: 0.3733 - val_accuracy: 0.8679\n",
      "Epoch 5/5\n",
      "1042/1042 [==============================] - 4s 4ms/step - loss: 0.3417 - accuracy: 0.8743 - val_loss: 0.3966 - val_accuracy: 0.8650\n",
      "521/521 [==============================] - 1s 2ms/step - loss: 0.3968 - accuracy: 0.8609\n",
      "1042/1042 [==============================] - 2s 2ms/step - loss: 0.3382 - accuracy: 0.8782\n"
     ]
    },
    {
     "name": "stderr",
     "output_type": "stream",
     "text": [
      "C:\\Users\\Arghavan\\Anaconda3\\lib\\site-packages\\sklearn\\base.py:65: DeprecationWarning: KerasRegressor is deprecated, use Sci-Keras (https://github.com/adriangb/scikeras) instead.\n",
      "  new_object = klass(**new_object_params)\n"
     ]
    },
    {
     "name": "stdout",
     "output_type": "stream",
     "text": [
      "Epoch 1/5\n",
      "1042/1042 [==============================] - 4s 4ms/step - loss: 0.5542 - accuracy: 0.7921 - val_loss: 0.4657 - val_accuracy: 0.8226\n",
      "Epoch 2/5\n",
      "1042/1042 [==============================] - 4s 3ms/step - loss: 0.4226 - accuracy: 0.8434 - val_loss: 0.4321 - val_accuracy: 0.8414\n",
      "Epoch 3/5\n",
      "1042/1042 [==============================] - 4s 3ms/step - loss: 0.3815 - accuracy: 0.8607 - val_loss: 0.3816 - val_accuracy: 0.8643\n",
      "Epoch 4/5\n",
      "1042/1042 [==============================] - 3s 3ms/step - loss: 0.3619 - accuracy: 0.8662 - val_loss: 0.4175 - val_accuracy: 0.8476\n",
      "Epoch 5/5\n",
      "1042/1042 [==============================] - 4s 3ms/step - loss: 0.3452 - accuracy: 0.8711 - val_loss: 0.3979 - val_accuracy: 0.8590\n",
      "521/521 [==============================] - 1s 2ms/step - loss: 0.3885 - accuracy: 0.8605\n",
      "1042/1042 [==============================] - 2s 2ms/step - loss: 0.3307 - accuracy: 0.8755\n"
     ]
    },
    {
     "name": "stderr",
     "output_type": "stream",
     "text": [
      "C:\\Users\\Arghavan\\Anaconda3\\lib\\site-packages\\sklearn\\base.py:65: DeprecationWarning: KerasRegressor is deprecated, use Sci-Keras (https://github.com/adriangb/scikeras) instead.\n",
      "  new_object = klass(**new_object_params)\n"
     ]
    },
    {
     "name": "stdout",
     "output_type": "stream",
     "text": [
      "Epoch 1/5\n",
      "1042/1042 [==============================] - 4s 4ms/step - loss: 0.5381 - accuracy: 0.8000 - val_loss: 0.5351 - val_accuracy: 0.8049\n",
      "Epoch 2/5\n",
      "1042/1042 [==============================] - 4s 3ms/step - loss: 0.4189 - accuracy: 0.8465 - val_loss: 0.4469 - val_accuracy: 0.8366\n",
      "Epoch 3/5\n",
      "1042/1042 [==============================] - 3s 3ms/step - loss: 0.3835 - accuracy: 0.8562 - val_loss: 0.4451 - val_accuracy: 0.8384\n",
      "Epoch 4/5\n",
      "1042/1042 [==============================] - 3s 3ms/step - loss: 0.3582 - accuracy: 0.8667 - val_loss: 0.3737 - val_accuracy: 0.8634\n",
      "Epoch 5/5\n",
      "1042/1042 [==============================] - 4s 3ms/step - loss: 0.3414 - accuracy: 0.8737 - val_loss: 0.3877 - val_accuracy: 0.8605\n",
      "521/521 [==============================] - 1s 2ms/step - loss: 0.3918 - accuracy: 0.8607\n",
      "1042/1042 [==============================] - 2s 2ms/step - loss: 0.3217 - accuracy: 0.8835\n"
     ]
    },
    {
     "name": "stderr",
     "output_type": "stream",
     "text": [
      "C:\\Users\\Arghavan\\Anaconda3\\lib\\site-packages\\sklearn\\base.py:65: DeprecationWarning: KerasRegressor is deprecated, use Sci-Keras (https://github.com/adriangb/scikeras) instead.\n",
      "  new_object = klass(**new_object_params)\n"
     ]
    },
    {
     "name": "stdout",
     "output_type": "stream",
     "text": [
      "Epoch 1/5\n",
      "1042/1042 [==============================] - 5s 4ms/step - loss: 0.5544 - accuracy: 0.7945 - val_loss: 0.4656 - val_accuracy: 0.8351\n",
      "Epoch 2/5\n",
      "1042/1042 [==============================] - 4s 4ms/step - loss: 0.4243 - accuracy: 0.8439 - val_loss: 0.4444 - val_accuracy: 0.8437\n",
      "Epoch 3/5\n",
      "1042/1042 [==============================] - 4s 4ms/step - loss: 0.3817 - accuracy: 0.8606 - val_loss: 0.3995 - val_accuracy: 0.8554\n",
      "Epoch 4/5\n",
      "1042/1042 [==============================] - 4s 4ms/step - loss: 0.3563 - accuracy: 0.8686 - val_loss: 0.3747 - val_accuracy: 0.8621\n",
      "Epoch 5/5\n",
      "1042/1042 [==============================] - 4s 4ms/step - loss: 0.3410 - accuracy: 0.8734 - val_loss: 0.3662 - val_accuracy: 0.8683\n",
      "521/521 [==============================] - 1s 2ms/step - loss: 0.3639 - accuracy: 0.8694\n",
      "1042/1042 [==============================] - 2s 2ms/step - loss: 0.2966 - accuracy: 0.8870\n"
     ]
    },
    {
     "name": "stderr",
     "output_type": "stream",
     "text": [
      "C:\\Users\\Arghavan\\Anaconda3\\lib\\site-packages\\sklearn\\base.py:65: DeprecationWarning: KerasRegressor is deprecated, use Sci-Keras (https://github.com/adriangb/scikeras) instead.\n",
      "  new_object = klass(**new_object_params)\n"
     ]
    },
    {
     "name": "stdout",
     "output_type": "stream",
     "text": [
      "Epoch 1/5\n",
      "1042/1042 [==============================] - 4s 4ms/step - loss: 0.5473 - accuracy: 0.7945 - val_loss: 0.4675 - val_accuracy: 0.8223\n",
      "Epoch 2/5\n",
      "1042/1042 [==============================] - 4s 4ms/step - loss: 0.4189 - accuracy: 0.8437 - val_loss: 0.4177 - val_accuracy: 0.8481\n",
      "Epoch 3/5\n",
      "1042/1042 [==============================] - 4s 4ms/step - loss: 0.3873 - accuracy: 0.8564 - val_loss: 0.4866 - val_accuracy: 0.8378\n",
      "Epoch 4/5\n",
      "1042/1042 [==============================] - 4s 4ms/step - loss: 0.3657 - accuracy: 0.8639 - val_loss: 0.4141 - val_accuracy: 0.8549\n",
      "Epoch 5/5\n",
      "1042/1042 [==============================] - 4s 4ms/step - loss: 0.3501 - accuracy: 0.8690 - val_loss: 0.4080 - val_accuracy: 0.8567\n",
      "521/521 [==============================] - 1s 2ms/step - loss: 0.3986 - accuracy: 0.8600\n",
      "1042/1042 [==============================] - 2s 2ms/step - loss: 0.3310 - accuracy: 0.8746\n"
     ]
    },
    {
     "name": "stderr",
     "output_type": "stream",
     "text": [
      "C:\\Users\\Arghavan\\Anaconda3\\lib\\site-packages\\sklearn\\base.py:65: DeprecationWarning: KerasRegressor is deprecated, use Sci-Keras (https://github.com/adriangb/scikeras) instead.\n",
      "  new_object = klass(**new_object_params)\n"
     ]
    },
    {
     "name": "stdout",
     "output_type": "stream",
     "text": [
      "Epoch 1/5\n",
      "1042/1042 [==============================] - 5s 4ms/step - loss: 0.5424 - accuracy: 0.7988 - val_loss: 0.4299 - val_accuracy: 0.8389\n",
      "Epoch 2/5\n",
      "1042/1042 [==============================] - 4s 4ms/step - loss: 0.4212 - accuracy: 0.8451 - val_loss: 0.4183 - val_accuracy: 0.8500\n",
      "Epoch 3/5\n",
      "1042/1042 [==============================] - 4s 4ms/step - loss: 0.3812 - accuracy: 0.8577 - val_loss: 0.3942 - val_accuracy: 0.8546\n",
      "Epoch 4/5\n",
      "1042/1042 [==============================] - 4s 4ms/step - loss: 0.3584 - accuracy: 0.8658 - val_loss: 0.4168 - val_accuracy: 0.8490\n",
      "Epoch 5/5\n",
      "1042/1042 [==============================] - 4s 4ms/step - loss: 0.3412 - accuracy: 0.8752 - val_loss: 0.3810 - val_accuracy: 0.8633\n",
      "521/521 [==============================] - 1s 2ms/step - loss: 0.3781 - accuracy: 0.8646\n",
      "1042/1042 [==============================] - 2s 2ms/step - loss: 0.3082 - accuracy: 0.8803\n"
     ]
    },
    {
     "name": "stderr",
     "output_type": "stream",
     "text": [
      "C:\\Users\\Arghavan\\Anaconda3\\lib\\site-packages\\sklearn\\base.py:65: DeprecationWarning: KerasRegressor is deprecated, use Sci-Keras (https://github.com/adriangb/scikeras) instead.\n",
      "  new_object = klass(**new_object_params)\n"
     ]
    },
    {
     "name": "stdout",
     "output_type": "stream",
     "text": [
      "Epoch 1/5\n",
      "1042/1042 [==============================] - 5s 4ms/step - loss: 0.5373 - accuracy: 0.8017 - val_loss: 0.4733 - val_accuracy: 0.8334\n",
      "Epoch 2/5\n",
      "1042/1042 [==============================] - 4s 4ms/step - loss: 0.4127 - accuracy: 0.8489 - val_loss: 0.4172 - val_accuracy: 0.8532\n",
      "Epoch 3/5\n",
      "1042/1042 [==============================] - 4s 4ms/step - loss: 0.3744 - accuracy: 0.8617 - val_loss: 0.3839 - val_accuracy: 0.8624\n",
      "Epoch 4/5\n",
      "1042/1042 [==============================] - 4s 4ms/step - loss: 0.3509 - accuracy: 0.8711 - val_loss: 0.3588 - val_accuracy: 0.8721\n",
      "Epoch 5/5\n",
      "1042/1042 [==============================] - 4s 4ms/step - loss: 0.3343 - accuracy: 0.8764 - val_loss: 0.4161 - val_accuracy: 0.8565\n",
      "521/521 [==============================] - 1s 2ms/step - loss: 0.4170 - accuracy: 0.8513\n",
      "1042/1042 [==============================] - 2s 2ms/step - loss: 0.3480 - accuracy: 0.8731\n"
     ]
    },
    {
     "name": "stderr",
     "output_type": "stream",
     "text": [
      "C:\\Users\\Arghavan\\Anaconda3\\lib\\site-packages\\sklearn\\base.py:65: DeprecationWarning: KerasRegressor is deprecated, use Sci-Keras (https://github.com/adriangb/scikeras) instead.\n",
      "  new_object = klass(**new_object_params)\n"
     ]
    },
    {
     "name": "stdout",
     "output_type": "stream",
     "text": [
      "Epoch 1/5\n",
      "1042/1042 [==============================] - 5s 4ms/step - loss: 0.5478 - accuracy: 0.7959 - val_loss: 0.4577 - val_accuracy: 0.8291\n",
      "Epoch 2/5\n",
      "1042/1042 [==============================] - 4s 4ms/step - loss: 0.4156 - accuracy: 0.8489 - val_loss: 0.4558 - val_accuracy: 0.8285\n",
      "Epoch 3/5\n",
      "1042/1042 [==============================] - 4s 4ms/step - loss: 0.3796 - accuracy: 0.8597 - val_loss: 0.3936 - val_accuracy: 0.8596\n",
      "Epoch 4/5\n",
      "1042/1042 [==============================] - 4s 4ms/step - loss: 0.3584 - accuracy: 0.8661 - val_loss: 0.3756 - val_accuracy: 0.8647\n",
      "Epoch 5/5\n",
      "1042/1042 [==============================] - 4s 4ms/step - loss: 0.3374 - accuracy: 0.8757 - val_loss: 0.3734 - val_accuracy: 0.8712\n",
      "521/521 [==============================] - 1s 2ms/step - loss: 0.3679 - accuracy: 0.8715\n",
      "1042/1042 [==============================] - 2s 2ms/step - loss: 0.3059 - accuracy: 0.8867\n"
     ]
    },
    {
     "name": "stderr",
     "output_type": "stream",
     "text": [
      "C:\\Users\\Arghavan\\Anaconda3\\lib\\site-packages\\sklearn\\base.py:65: DeprecationWarning: KerasRegressor is deprecated, use Sci-Keras (https://github.com/adriangb/scikeras) instead.\n",
      "  new_object = klass(**new_object_params)\n"
     ]
    },
    {
     "name": "stdout",
     "output_type": "stream",
     "text": [
      "Epoch 1/5\n",
      "1042/1042 [==============================] - 5s 4ms/step - loss: 0.5404 - accuracy: 0.8020 - val_loss: 0.4679 - val_accuracy: 0.8306\n",
      "Epoch 2/5\n",
      "1042/1042 [==============================] - 4s 4ms/step - loss: 0.4107 - accuracy: 0.8476 - val_loss: 0.4426 - val_accuracy: 0.8336\n",
      "Epoch 3/5\n",
      "1042/1042 [==============================] - 4s 4ms/step - loss: 0.3718 - accuracy: 0.8643 - val_loss: 0.3848 - val_accuracy: 0.8600\n",
      "Epoch 4/5\n",
      "1042/1042 [==============================] - 4s 4ms/step - loss: 0.3435 - accuracy: 0.8734 - val_loss: 0.3656 - val_accuracy: 0.8683\n",
      "Epoch 5/5\n",
      "1042/1042 [==============================] - 4s 4ms/step - loss: 0.3378 - accuracy: 0.8764 - val_loss: 0.3460 - val_accuracy: 0.8755\n",
      "521/521 [==============================] - 1s 2ms/step - loss: 0.3635 - accuracy: 0.8693\n",
      "1042/1042 [==============================] - 2s 2ms/step - loss: 0.2926 - accuracy: 0.8909\n"
     ]
    },
    {
     "name": "stderr",
     "output_type": "stream",
     "text": [
      "C:\\Users\\Arghavan\\Anaconda3\\lib\\site-packages\\sklearn\\base.py:65: DeprecationWarning: KerasRegressor is deprecated, use Sci-Keras (https://github.com/adriangb/scikeras) instead.\n",
      "  new_object = klass(**new_object_params)\n"
     ]
    },
    {
     "name": "stdout",
     "output_type": "stream",
     "text": [
      "Epoch 1/5\n",
      "1042/1042 [==============================] - 5s 4ms/step - loss: 0.5517 - accuracy: 0.7972 - val_loss: 0.4478 - val_accuracy: 0.8423\n",
      "Epoch 2/5\n",
      "1042/1042 [==============================] - 4s 4ms/step - loss: 0.4172 - accuracy: 0.8474 - val_loss: 0.4176 - val_accuracy: 0.8473\n",
      "Epoch 3/5\n",
      "1042/1042 [==============================] - 5s 4ms/step - loss: 0.3775 - accuracy: 0.8603 - val_loss: 0.4239 - val_accuracy: 0.8425\n",
      "Epoch 4/5\n",
      "1042/1042 [==============================] - 5s 5ms/step - loss: 0.3538 - accuracy: 0.8696 - val_loss: 0.3994 - val_accuracy: 0.8593\n",
      "Epoch 5/5\n",
      "1042/1042 [==============================] - 4s 4ms/step - loss: 0.3373 - accuracy: 0.8753 - val_loss: 0.3466 - val_accuracy: 0.8767\n",
      "521/521 [==============================] - 1s 2ms/step - loss: 0.3556 - accuracy: 0.8730\n",
      "1042/1042 [==============================] - 2s 2ms/step - loss: 0.2878 - accuracy: 0.8930\n"
     ]
    },
    {
     "name": "stderr",
     "output_type": "stream",
     "text": [
      "C:\\Users\\Arghavan\\Anaconda3\\lib\\site-packages\\sklearn\\base.py:65: DeprecationWarning: KerasRegressor is deprecated, use Sci-Keras (https://github.com/adriangb/scikeras) instead.\n",
      "  new_object = klass(**new_object_params)\n"
     ]
    },
    {
     "name": "stdout",
     "output_type": "stream",
     "text": [
      "Epoch 1/5\n",
      "1042/1042 [==============================] - 5s 4ms/step - loss: 0.5526 - accuracy: 0.7952 - val_loss: 0.4231 - val_accuracy: 0.8451\n",
      "Epoch 2/5\n",
      "1042/1042 [==============================] - 4s 4ms/step - loss: 0.4192 - accuracy: 0.8450 - val_loss: 0.4052 - val_accuracy: 0.8494\n",
      "Epoch 3/5\n",
      "1042/1042 [==============================] - 4s 4ms/step - loss: 0.3759 - accuracy: 0.8618 - val_loss: 0.3749 - val_accuracy: 0.8694\n",
      "Epoch 4/5\n",
      "1042/1042 [==============================] - 4s 4ms/step - loss: 0.3539 - accuracy: 0.8687 - val_loss: 0.3905 - val_accuracy: 0.8644\n",
      "Epoch 5/5\n",
      "1042/1042 [==============================] - 4s 4ms/step - loss: 0.3377 - accuracy: 0.8752 - val_loss: 0.3933 - val_accuracy: 0.8633\n",
      "521/521 [==============================] - 1s 2ms/step - loss: 0.3845 - accuracy: 0.8663\n",
      "1042/1042 [==============================] - 2s 2ms/step - loss: 0.3266 - accuracy: 0.8768\n"
     ]
    },
    {
     "name": "stderr",
     "output_type": "stream",
     "text": [
      "C:\\Users\\Arghavan\\Anaconda3\\lib\\site-packages\\sklearn\\base.py:65: DeprecationWarning: KerasRegressor is deprecated, use Sci-Keras (https://github.com/adriangb/scikeras) instead.\n",
      "  new_object = klass(**new_object_params)\n"
     ]
    },
    {
     "name": "stdout",
     "output_type": "stream",
     "text": [
      "Epoch 1/5\n",
      "1042/1042 [==============================] - 5s 5ms/step - loss: 0.5412 - accuracy: 0.8010 - val_loss: 0.4453 - val_accuracy: 0.8377\n",
      "Epoch 2/5\n",
      "1042/1042 [==============================] - 4s 4ms/step - loss: 0.4133 - accuracy: 0.8464 - val_loss: 0.4193 - val_accuracy: 0.8475\n",
      "Epoch 3/5\n",
      "1042/1042 [==============================] - 5s 4ms/step - loss: 0.3807 - accuracy: 0.8612 - val_loss: 0.4023 - val_accuracy: 0.8513\n",
      "Epoch 4/5\n",
      "1042/1042 [==============================] - 4s 4ms/step - loss: 0.3539 - accuracy: 0.8707 - val_loss: 0.3955 - val_accuracy: 0.8587\n",
      "Epoch 5/5\n",
      "1042/1042 [==============================] - 5s 5ms/step - loss: 0.3372 - accuracy: 0.8742 - val_loss: 0.3854 - val_accuracy: 0.8640\n",
      "521/521 [==============================] - 1s 2ms/step - loss: 0.4026 - accuracy: 0.8561\n",
      "1042/1042 [==============================] - 2s 2ms/step - loss: 0.3219 - accuracy: 0.8795\n"
     ]
    },
    {
     "name": "stderr",
     "output_type": "stream",
     "text": [
      "C:\\Users\\Arghavan\\Anaconda3\\lib\\site-packages\\sklearn\\base.py:65: DeprecationWarning: KerasRegressor is deprecated, use Sci-Keras (https://github.com/adriangb/scikeras) instead.\n",
      "  new_object = klass(**new_object_params)\n"
     ]
    },
    {
     "name": "stdout",
     "output_type": "stream",
     "text": [
      "Epoch 1/5\n",
      "1042/1042 [==============================] - 6s 5ms/step - loss: 0.5495 - accuracy: 0.7970 - val_loss: 0.4992 - val_accuracy: 0.8135\n",
      "Epoch 2/5\n",
      "1042/1042 [==============================] - 5s 5ms/step - loss: 0.4158 - accuracy: 0.8487 - val_loss: 0.4497 - val_accuracy: 0.8444\n",
      "Epoch 3/5\n",
      "1042/1042 [==============================] - 5s 5ms/step - loss: 0.3779 - accuracy: 0.8613 - val_loss: 0.4214 - val_accuracy: 0.8473\n",
      "Epoch 4/5\n",
      "1042/1042 [==============================] - 4s 4ms/step - loss: 0.3532 - accuracy: 0.8701 - val_loss: 0.3720 - val_accuracy: 0.8641\n",
      "Epoch 5/5\n",
      "1042/1042 [==============================] - 5s 5ms/step - loss: 0.3423 - accuracy: 0.8736 - val_loss: 0.3779 - val_accuracy: 0.8641\n",
      "521/521 [==============================] - 1s 2ms/step - loss: 0.3805 - accuracy: 0.8634\n",
      "1042/1042 [==============================] - 3s 3ms/step - loss: 0.3150 - accuracy: 0.8838\n"
     ]
    },
    {
     "name": "stderr",
     "output_type": "stream",
     "text": [
      "C:\\Users\\Arghavan\\Anaconda3\\lib\\site-packages\\sklearn\\base.py:65: DeprecationWarning: KerasRegressor is deprecated, use Sci-Keras (https://github.com/adriangb/scikeras) instead.\n",
      "  new_object = klass(**new_object_params)\n"
     ]
    },
    {
     "name": "stdout",
     "output_type": "stream",
     "text": [
      "Epoch 1/5\n",
      "1042/1042 [==============================] - 5s 5ms/step - loss: 0.5458 - accuracy: 0.7979 - val_loss: 0.4938 - val_accuracy: 0.8259\n",
      "Epoch 2/5\n",
      "1042/1042 [==============================] - 5s 5ms/step - loss: 0.4253 - accuracy: 0.8442 - val_loss: 0.4305 - val_accuracy: 0.8448\n",
      "Epoch 3/5\n",
      "1042/1042 [==============================] - 5s 5ms/step - loss: 0.3783 - accuracy: 0.8612 - val_loss: 0.4114 - val_accuracy: 0.8527\n",
      "Epoch 4/5\n",
      "1042/1042 [==============================] - 5s 5ms/step - loss: 0.3608 - accuracy: 0.8660 - val_loss: 0.4722 - val_accuracy: 0.8439\n",
      "Epoch 5/5\n",
      "1042/1042 [==============================] - 5s 5ms/step - loss: 0.3424 - accuracy: 0.8705 - val_loss: 0.3681 - val_accuracy: 0.8705\n",
      "521/521 [==============================] - 1s 2ms/step - loss: 0.3674 - accuracy: 0.8751\n",
      "1042/1042 [==============================] - 2s 2ms/step - loss: 0.3013 - accuracy: 0.8881\n"
     ]
    },
    {
     "name": "stderr",
     "output_type": "stream",
     "text": [
      "C:\\Users\\Arghavan\\Anaconda3\\lib\\site-packages\\sklearn\\base.py:65: DeprecationWarning: KerasRegressor is deprecated, use Sci-Keras (https://github.com/adriangb/scikeras) instead.\n",
      "  new_object = klass(**new_object_params)\n"
     ]
    },
    {
     "name": "stdout",
     "output_type": "stream",
     "text": [
      "Epoch 1/5\n",
      "1042/1042 [==============================] - 5s 5ms/step - loss: 0.5487 - accuracy: 0.7983 - val_loss: 0.4732 - val_accuracy: 0.8272\n",
      "Epoch 2/5\n",
      "1042/1042 [==============================] - 8s 7ms/step - loss: 0.4241 - accuracy: 0.8451 - val_loss: 0.5170 - val_accuracy: 0.8197\n",
      "Epoch 3/5\n",
      "1042/1042 [==============================] - 7s 7ms/step - loss: 0.3837 - accuracy: 0.8598 - val_loss: 0.3794 - val_accuracy: 0.8594\n",
      "Epoch 4/5\n",
      "1042/1042 [==============================] - 8s 8ms/step - loss: 0.3494 - accuracy: 0.8694 - val_loss: 0.3930 - val_accuracy: 0.8601\n",
      "Epoch 5/5\n",
      "1042/1042 [==============================] - 9s 8ms/step - loss: 0.3384 - accuracy: 0.8744 - val_loss: 0.3933 - val_accuracy: 0.8528\n",
      "521/521 [==============================] - 2s 4ms/step - loss: 0.3927 - accuracy: 0.8591\n",
      "1042/1042 [==============================] - 5s 5ms/step - loss: 0.3297 - accuracy: 0.8737\n"
     ]
    },
    {
     "name": "stderr",
     "output_type": "stream",
     "text": [
      "C:\\Users\\Arghavan\\Anaconda3\\lib\\site-packages\\sklearn\\base.py:65: DeprecationWarning: KerasRegressor is deprecated, use Sci-Keras (https://github.com/adriangb/scikeras) instead.\n",
      "  new_object = klass(**new_object_params)\n"
     ]
    },
    {
     "name": "stdout",
     "output_type": "stream",
     "text": [
      "Epoch 1/5\n",
      "1563/1563 [==============================] - 9s 5ms/step - loss: 0.5164 - accuracy: 0.8094 - val_loss: 0.4353 - val_accuracy: 0.8409\n",
      "Epoch 2/5\n",
      "1563/1563 [==============================] - 10s 7ms/step - loss: 0.4048 - accuracy: 0.8538 - val_loss: 0.4022 - val_accuracy: 0.8537\n",
      "Epoch 3/5\n",
      "1563/1563 [==============================] - 10s 7ms/step - loss: 0.3731 - accuracy: 0.8628 - val_loss: 0.3788 - val_accuracy: 0.8626\n",
      "Epoch 4/5\n",
      "1563/1563 [==============================] - 10s 7ms/step - loss: 0.3549 - accuracy: 0.8708 - val_loss: 0.3846 - val_accuracy: 0.8655\n",
      "Epoch 5/5\n",
      "1563/1563 [==============================] - 10s 6ms/step - loss: 0.3397 - accuracy: 0.8746 - val_loss: 0.3688 - val_accuracy: 0.8636\n"
     ]
    },
    {
     "data": {
      "text/plain": [
       "GridSearchCV(cv='warn', error_score='raise-deprecating',\n",
       "       estimator=<keras.wrappers.scikit_learn.KerasRegressor object at 0x0000016C2E9B3C50>,\n",
       "       fit_params=None, iid='warn', n_jobs=None,\n",
       "       param_grid={'n_units1': [64, 128, 256], 'n_units2': [64, 128, 256]},\n",
       "       pre_dispatch='2*n_jobs', refit=True, return_train_score='warn',\n",
       "       scoring=None, verbose=0)"
      ]
     },
     "execution_count": 62,
     "metadata": {},
     "output_type": "execute_result"
    }
   ],
   "source": [
    "grid_search.fit(X_train, Y_train, epochs=5,\n",
    "                validation_data=(X_valid, Y_valid))"
   ]
  },
  {
   "cell_type": "code",
   "execution_count": 63,
   "metadata": {},
   "outputs": [
    {
     "name": "stdout",
     "output_type": "stream",
     "text": [
      "{'n_units1': 128, 'n_units2': 256}\n",
      "313/313 [==============================] - 1s 2ms/step - loss: 0.4003 - accuracy: 0.8543\n"
     ]
    },
    {
     "data": {
      "text/plain": [
       "[0.4003118574619293, 0.8543000221252441]"
      ]
     },
     "execution_count": 63,
     "metadata": {},
     "output_type": "execute_result"
    }
   ],
   "source": [
    "print(grid_search.best_params_)\n",
    "\n",
    "model = grid_search.best_estimator_.model\n",
    "model.evaluate(X_test, Y_test)"
   ]
  },
  {
   "cell_type": "markdown",
   "metadata": {},
   "source": [
    "### Grid search learning rate considering \"Adam\" optimizer (using previous results for units):\n",
    "**Adam 0.1,0.01,0.001**\n"
   ]
  },
  {
   "cell_type": "code",
   "execution_count": 106,
   "metadata": {},
   "outputs": [
    {
     "name": "stderr",
     "output_type": "stream",
     "text": [
      "C:\\Users\\Arghavan\\Anaconda3\\lib\\site-packages\\ipykernel_launcher.py:14: DeprecationWarning: KerasRegressor is deprecated, use Sci-Keras (https://github.com/adriangb/scikeras) instead.\n",
      "  \n"
     ]
    }
   ],
   "source": [
    "def build_model_lr(lr=0.1):\n",
    "    model = keras.models.Sequential([\n",
    "                        \n",
    "                          keras.layers.Dense(128, activation=\"relu\"),\n",
    "                          keras.layers.Dense(256, activation=\"relu\"),\n",
    "                          keras.layers.Dense(10, activation=\"sigmoid\")\n",
    "                                     ])\n",
    "    \n",
    "    model.compile(loss=\"sparse_categorical_crossentropy\",\n",
    "              optimizer=keras.optimizers.Adam(learning_rate=lr),\n",
    "              metrics=[\"accuracy\"])\n",
    "    \n",
    "    return model\n",
    "keras_reg_lr = keras.wrappers.scikit_learn.KerasRegressor(build_model_lr)"
   ]
  },
  {
   "cell_type": "code",
   "execution_count": 107,
   "metadata": {},
   "outputs": [],
   "source": [
    "param_lr = {\n",
    "    \"lr\": [0.1,0.01,0.001],\n",
    "}"
   ]
  },
  {
   "cell_type": "code",
   "execution_count": 108,
   "metadata": {},
   "outputs": [],
   "source": [
    "grid_search_lr = GridSearchCV(keras_reg_lr, param_lr)"
   ]
  },
  {
   "cell_type": "code",
   "execution_count": 109,
   "metadata": {},
   "outputs": [
    {
     "name": "stderr",
     "output_type": "stream",
     "text": [
      "C:\\Users\\Arghavan\\Anaconda3\\lib\\site-packages\\sklearn\\model_selection\\_split.py:2053: FutureWarning: You should specify a value for 'cv' instead of relying on the default value. The default value will change from 3 to 5 in version 0.22.\n",
      "  warnings.warn(CV_WARNING, FutureWarning)\n",
      "C:\\Users\\Arghavan\\Anaconda3\\lib\\site-packages\\sklearn\\base.py:65: DeprecationWarning: KerasRegressor is deprecated, use Sci-Keras (https://github.com/adriangb/scikeras) instead.\n",
      "  new_object = klass(**new_object_params)\n",
      "C:\\Users\\Arghavan\\Anaconda3\\lib\\site-packages\\sklearn\\base.py:65: DeprecationWarning: KerasRegressor is deprecated, use Sci-Keras (https://github.com/adriangb/scikeras) instead.\n",
      "  new_object = klass(**new_object_params)\n"
     ]
    },
    {
     "name": "stdout",
     "output_type": "stream",
     "text": [
      "Epoch 1/5\n",
      "1042/1042 [==============================] - 7s 6ms/step - loss: 1.0288 - accuracy: 0.6422 - val_loss: 0.8263 - val_accuracy: 0.7256\n",
      "Epoch 2/5\n",
      "1042/1042 [==============================] - 7s 7ms/step - loss: 0.8840 - accuracy: 0.6896 - val_loss: 0.9664 - val_accuracy: 0.7079\n",
      "Epoch 3/5\n",
      "1042/1042 [==============================] - 6s 6ms/step - loss: 0.9755 - accuracy: 0.6444 - val_loss: 0.9966 - val_accuracy: 0.5844\n",
      "Epoch 4/5\n",
      "1042/1042 [==============================] - 7s 7ms/step - loss: 0.9282 - accuracy: 0.6390 - val_loss: 0.8743 - val_accuracy: 0.6839\n",
      "Epoch 5/5\n",
      "1042/1042 [==============================] - 8s 7ms/step - loss: 0.9718 - accuracy: 0.6402 - val_loss: 1.1332 - val_accuracy: 0.5749\n",
      "521/521 [==============================] - 2s 4ms/step - loss: 1.1274 - accuracy: 0.5819\n",
      "1042/1042 [==============================] - 4s 4ms/step - loss: 1.1148 - accuracy: 0.5843\n"
     ]
    },
    {
     "name": "stderr",
     "output_type": "stream",
     "text": [
      "C:\\Users\\Arghavan\\Anaconda3\\lib\\site-packages\\sklearn\\base.py:65: DeprecationWarning: KerasRegressor is deprecated, use Sci-Keras (https://github.com/adriangb/scikeras) instead.\n",
      "  new_object = klass(**new_object_params)\n"
     ]
    },
    {
     "name": "stdout",
     "output_type": "stream",
     "text": [
      "Epoch 1/5\n",
      "1042/1042 [==============================] - 6s 5ms/step - loss: 1.1096 - accuracy: 0.6010 - val_loss: 0.9627 - val_accuracy: 0.6150\n",
      "Epoch 2/5\n",
      "1042/1042 [==============================] - 6s 6ms/step - loss: 1.0321 - accuracy: 0.6217 - val_loss: 0.8821 - val_accuracy: 0.6853\n",
      "Epoch 3/5\n",
      "1042/1042 [==============================] - 7s 7ms/step - loss: 0.9570 - accuracy: 0.6418 - val_loss: 1.0684 - val_accuracy: 0.6198\n",
      "Epoch 4/5\n",
      "1042/1042 [==============================] - 6s 6ms/step - loss: 0.9523 - accuracy: 0.6366 - val_loss: 0.8497 - val_accuracy: 0.6976\n",
      "Epoch 5/5\n",
      "1042/1042 [==============================] - 5s 5ms/step - loss: 0.9364 - accuracy: 0.6582 - val_loss: 0.9063 - val_accuracy: 0.6962\n",
      "521/521 [==============================] - 1s 2ms/step - loss: 0.8938 - accuracy: 0.6957\n",
      "1042/1042 [==============================] - 3s 2ms/step - loss: 0.8790 - accuracy: 0.6989\n"
     ]
    },
    {
     "name": "stderr",
     "output_type": "stream",
     "text": [
      "C:\\Users\\Arghavan\\Anaconda3\\lib\\site-packages\\sklearn\\base.py:65: DeprecationWarning: KerasRegressor is deprecated, use Sci-Keras (https://github.com/adriangb/scikeras) instead.\n",
      "  new_object = klass(**new_object_params)\n"
     ]
    },
    {
     "name": "stdout",
     "output_type": "stream",
     "text": [
      "Epoch 1/5\n",
      "1042/1042 [==============================] - 7s 6ms/step - loss: 1.0960 - accuracy: 0.6082 - val_loss: 0.8073 - val_accuracy: 0.6781\n",
      "Epoch 2/5\n",
      "1042/1042 [==============================] - 8s 8ms/step - loss: 0.8563 - accuracy: 0.6789 - val_loss: 2.7360 - val_accuracy: 0.6643\n",
      "Epoch 3/5\n",
      "1042/1042 [==============================] - 7s 7ms/step - loss: 1.2918 - accuracy: 0.5313 - val_loss: 1.1355 - val_accuracy: 0.5352\n",
      "Epoch 4/5\n",
      "1042/1042 [==============================] - 6s 6ms/step - loss: 1.0266 - accuracy: 0.5859 - val_loss: 0.9163 - val_accuracy: 0.6183\n",
      "Epoch 5/5\n",
      "1042/1042 [==============================] - 7s 6ms/step - loss: 0.9245 - accuracy: 0.6370 - val_loss: 0.9873 - val_accuracy: 0.6432\n",
      "521/521 [==============================] - 2s 4ms/step - loss: 0.9871 - accuracy: 0.6349: 0s - loss: 0.9906 - accuracy\n",
      "1042/1042 [==============================] - 2s 2ms/step - loss: 0.9588 - accuracy: 0.6424\n"
     ]
    },
    {
     "name": "stderr",
     "output_type": "stream",
     "text": [
      "C:\\Users\\Arghavan\\Anaconda3\\lib\\site-packages\\sklearn\\base.py:65: DeprecationWarning: KerasRegressor is deprecated, use Sci-Keras (https://github.com/adriangb/scikeras) instead.\n",
      "  new_object = klass(**new_object_params)\n"
     ]
    },
    {
     "name": "stdout",
     "output_type": "stream",
     "text": [
      "Epoch 1/5\n",
      "1042/1042 [==============================] - 6s 5ms/step - loss: 0.5573 - accuracy: 0.7932 - val_loss: 0.4540 - val_accuracy: 0.8335\n",
      "Epoch 2/5\n",
      "1042/1042 [==============================] - 4s 4ms/step - loss: 0.4197 - accuracy: 0.8483 - val_loss: 0.4288 - val_accuracy: 0.8493\n",
      "Epoch 3/5\n",
      "1042/1042 [==============================] - 4s 4ms/step - loss: 0.3840 - accuracy: 0.8588 - val_loss: 0.4086 - val_accuracy: 0.8523\n",
      "Epoch 4/5\n",
      "1042/1042 [==============================] - 6s 6ms/step - loss: 0.3630 - accuracy: 0.8654 - val_loss: 0.4283 - val_accuracy: 0.8518\n",
      "Epoch 5/5\n",
      "1042/1042 [==============================] - 7s 6ms/step - loss: 0.3465 - accuracy: 0.8725 - val_loss: 0.3986 - val_accuracy: 0.8533\n",
      "521/521 [==============================] - 1s 2ms/step - loss: 0.3896 - accuracy: 0.8564\n",
      "1042/1042 [==============================] - 2s 2ms/step - loss: 0.3375 - accuracy: 0.8742\n"
     ]
    },
    {
     "name": "stderr",
     "output_type": "stream",
     "text": [
      "C:\\Users\\Arghavan\\Anaconda3\\lib\\site-packages\\sklearn\\base.py:65: DeprecationWarning: KerasRegressor is deprecated, use Sci-Keras (https://github.com/adriangb/scikeras) instead.\n",
      "  new_object = klass(**new_object_params)\n"
     ]
    },
    {
     "name": "stdout",
     "output_type": "stream",
     "text": [
      "Epoch 1/5\n",
      "1042/1042 [==============================] - 5s 4ms/step - loss: 0.5545 - accuracy: 0.7948 - val_loss: 0.4410 - val_accuracy: 0.8369\n",
      "Epoch 2/5\n",
      "1042/1042 [==============================] - 4s 4ms/step - loss: 0.4206 - accuracy: 0.8457 - val_loss: 0.4168 - val_accuracy: 0.8503\n",
      "Epoch 3/5\n",
      "1042/1042 [==============================] - 4s 4ms/step - loss: 0.3821 - accuracy: 0.8603 - val_loss: 0.3982 - val_accuracy: 0.8585\n",
      "Epoch 4/5\n",
      "1042/1042 [==============================] - 4s 4ms/step - loss: 0.3593 - accuracy: 0.8657 - val_loss: 0.4349 - val_accuracy: 0.8432\n",
      "Epoch 5/5\n",
      "1042/1042 [==============================] - 4s 4ms/step - loss: 0.3473 - accuracy: 0.8718 - val_loss: 0.4119 - val_accuracy: 0.8532\n",
      "521/521 [==============================] - 1s 2ms/step - loss: 0.4139 - accuracy: 0.8514\n",
      "1042/1042 [==============================] - 2s 2ms/step - loss: 0.3509 - accuracy: 0.8689\n"
     ]
    },
    {
     "name": "stderr",
     "output_type": "stream",
     "text": [
      "C:\\Users\\Arghavan\\Anaconda3\\lib\\site-packages\\sklearn\\base.py:65: DeprecationWarning: KerasRegressor is deprecated, use Sci-Keras (https://github.com/adriangb/scikeras) instead.\n",
      "  new_object = klass(**new_object_params)\n"
     ]
    },
    {
     "name": "stdout",
     "output_type": "stream",
     "text": [
      "Epoch 1/5\n",
      "1042/1042 [==============================] - 4s 3ms/step - loss: 0.5485 - accuracy: 0.7983 - val_loss: 0.4492 - val_accuracy: 0.8394\n",
      "Epoch 2/5\n",
      "1042/1042 [==============================] - 4s 4ms/step - loss: 0.4257 - accuracy: 0.8451 - val_loss: 0.4711 - val_accuracy: 0.8232\n",
      "Epoch 3/5\n",
      "1042/1042 [==============================] - 4s 4ms/step - loss: 0.3809 - accuracy: 0.8603 - val_loss: 0.4049 - val_accuracy: 0.8540\n",
      "Epoch 4/5\n",
      "1042/1042 [==============================] - 5s 5ms/step - loss: 0.3582 - accuracy: 0.8677 - val_loss: 0.4118 - val_accuracy: 0.8583\n",
      "Epoch 5/5\n",
      "1042/1042 [==============================] - 7s 6ms/step - loss: 0.3419 - accuracy: 0.8748 - val_loss: 0.3673 - val_accuracy: 0.8707\n",
      "521/521 [==============================] - 1s 2ms/step - loss: 0.3664 - accuracy: 0.8728\n",
      "1042/1042 [==============================] - 2s 2ms/step - loss: 0.2935 - accuracy: 0.8907\n"
     ]
    },
    {
     "name": "stderr",
     "output_type": "stream",
     "text": [
      "C:\\Users\\Arghavan\\Anaconda3\\lib\\site-packages\\sklearn\\base.py:65: DeprecationWarning: KerasRegressor is deprecated, use Sci-Keras (https://github.com/adriangb/scikeras) instead.\n",
      "  new_object = klass(**new_object_params)\n"
     ]
    },
    {
     "name": "stdout",
     "output_type": "stream",
     "text": [
      "Epoch 1/5\n",
      "1042/1042 [==============================] - 4s 4ms/step - loss: 0.6098 - accuracy: 0.7799 - val_loss: 0.4665 - val_accuracy: 0.8288\n",
      "Epoch 2/5\n",
      "1042/1042 [==============================] - 6s 6ms/step - loss: 0.4161 - accuracy: 0.8480 - val_loss: 0.3866 - val_accuracy: 0.8620\n",
      "Epoch 3/5\n",
      "1042/1042 [==============================] - 6s 6ms/step - loss: 0.3739 - accuracy: 0.8639 - val_loss: 0.4082 - val_accuracy: 0.8555\n",
      "Epoch 4/5\n",
      "1042/1042 [==============================] - 6s 6ms/step - loss: 0.3445 - accuracy: 0.8734 - val_loss: 0.3448 - val_accuracy: 0.8750\n",
      "Epoch 5/5\n",
      "1042/1042 [==============================] - 7s 6ms/step - loss: 0.3224 - accuracy: 0.8812 - val_loss: 0.3392 - val_accuracy: 0.8762\n",
      "521/521 [==============================] - 1s 2ms/step - loss: 0.3460 - accuracy: 0.8742\n",
      "1042/1042 [==============================] - 2s 2ms/step - loss: 0.2937 - accuracy: 0.8915\n"
     ]
    },
    {
     "name": "stderr",
     "output_type": "stream",
     "text": [
      "C:\\Users\\Arghavan\\Anaconda3\\lib\\site-packages\\sklearn\\base.py:65: DeprecationWarning: KerasRegressor is deprecated, use Sci-Keras (https://github.com/adriangb/scikeras) instead.\n",
      "  new_object = klass(**new_object_params)\n"
     ]
    },
    {
     "name": "stdout",
     "output_type": "stream",
     "text": [
      "Epoch 1/5\n",
      "1042/1042 [==============================] - 4s 4ms/step - loss: 0.6103 - accuracy: 0.7803 - val_loss: 0.4494 - val_accuracy: 0.8349\n",
      "Epoch 2/5\n",
      "1042/1042 [==============================] - 4s 4ms/step - loss: 0.4163 - accuracy: 0.8458 - val_loss: 0.3932 - val_accuracy: 0.8605\n",
      "Epoch 3/5\n",
      "1042/1042 [==============================] - 4s 4ms/step - loss: 0.3731 - accuracy: 0.8622 - val_loss: 0.3688 - val_accuracy: 0.8686\n",
      "Epoch 4/5\n",
      "1042/1042 [==============================] - 4s 4ms/step - loss: 0.3425 - accuracy: 0.8726 - val_loss: 0.3459 - val_accuracy: 0.8719\n",
      "Epoch 5/5\n",
      "1042/1042 [==============================] - 6s 6ms/step - loss: 0.3240 - accuracy: 0.8788 - val_loss: 0.3597 - val_accuracy: 0.8650\n",
      "521/521 [==============================] - 1s 2ms/step - loss: 0.3583 - accuracy: 0.8707\n",
      "1042/1042 [==============================] - 4s 4ms/step - loss: 0.3130 - accuracy: 0.8816\n"
     ]
    },
    {
     "name": "stderr",
     "output_type": "stream",
     "text": [
      "C:\\Users\\Arghavan\\Anaconda3\\lib\\site-packages\\sklearn\\base.py:65: DeprecationWarning: KerasRegressor is deprecated, use Sci-Keras (https://github.com/adriangb/scikeras) instead.\n",
      "  new_object = klass(**new_object_params)\n"
     ]
    },
    {
     "name": "stdout",
     "output_type": "stream",
     "text": [
      "Epoch 1/5\n",
      "1042/1042 [==============================] - 8s 8ms/step - loss: 0.6053 - accuracy: 0.7821 - val_loss: 0.4515 - val_accuracy: 0.8331\n",
      "Epoch 2/5\n",
      "1042/1042 [==============================] - 8s 8ms/step - loss: 0.4125 - accuracy: 0.8493 - val_loss: 0.3836 - val_accuracy: 0.8603\n",
      "Epoch 3/5\n",
      "1042/1042 [==============================] - 8s 8ms/step - loss: 0.3675 - accuracy: 0.8659 - val_loss: 0.3634 - val_accuracy: 0.8658\n",
      "Epoch 4/5\n",
      "1042/1042 [==============================] - 8s 7ms/step - loss: 0.3391 - accuracy: 0.8758 - val_loss: 0.3459 - val_accuracy: 0.8755\n",
      "Epoch 5/5\n",
      "1042/1042 [==============================] - 6s 6ms/step - loss: 0.3182 - accuracy: 0.8818 - val_loss: 0.3549 - val_accuracy: 0.8689\n",
      "521/521 [==============================] - 2s 4ms/step - loss: 0.3583 - accuracy: 0.8685: 0s - loss: 0.3\n",
      "1042/1042 [==============================] - ETA: 0s - loss: 0.2997 - accuracy: 0.88 - 4s 4ms/step - loss: 0.2998 - accuracy: 0.8871\n"
     ]
    },
    {
     "name": "stderr",
     "output_type": "stream",
     "text": [
      "C:\\Users\\Arghavan\\Anaconda3\\lib\\site-packages\\sklearn\\base.py:65: DeprecationWarning: KerasRegressor is deprecated, use Sci-Keras (https://github.com/adriangb/scikeras) instead.\n",
      "  new_object = klass(**new_object_params)\n"
     ]
    },
    {
     "name": "stdout",
     "output_type": "stream",
     "text": [
      "Epoch 1/5\n",
      "1563/1563 [==============================] - 10s 6ms/step - loss: 0.5553 - accuracy: 0.7996 - val_loss: 0.4429 - val_accuracy: 0.8304\n",
      "Epoch 2/5\n",
      "1563/1563 [==============================] - 6s 4ms/step - loss: 0.3937 - accuracy: 0.8566 - val_loss: 0.3649 - val_accuracy: 0.8645\n",
      "Epoch 3/5\n",
      "1563/1563 [==============================] - 9s 6ms/step - loss: 0.3517 - accuracy: 0.8711 - val_loss: 0.3550 - val_accuracy: 0.8716\n",
      "Epoch 4/5\n",
      "1563/1563 [==============================] - 9s 6ms/step - loss: 0.3279 - accuracy: 0.8792 - val_loss: 0.3652 - val_accuracy: 0.8630\n",
      "Epoch 5/5\n",
      "1563/1563 [==============================] - 10s 6ms/step - loss: 0.3064 - accuracy: 0.8874 - val_loss: 0.3303 - val_accuracy: 0.8781\n"
     ]
    },
    {
     "data": {
      "text/plain": [
       "GridSearchCV(cv='warn', error_score='raise-deprecating',\n",
       "       estimator=<keras.wrappers.scikit_learn.KerasRegressor object at 0x0000016C09ABD0F0>,\n",
       "       fit_params=None, iid='warn', n_jobs=None,\n",
       "       param_grid={'lr': [0.1, 0.01, 0.001]}, pre_dispatch='2*n_jobs',\n",
       "       refit=True, return_train_score='warn', scoring=None, verbose=0)"
      ]
     },
     "execution_count": 109,
     "metadata": {},
     "output_type": "execute_result"
    }
   ],
   "source": [
    "grid_search_lr.fit(X_train, Y_train, epochs=5,\n",
    "                validation_data=(X_valid, Y_valid))"
   ]
  },
  {
   "cell_type": "code",
   "execution_count": 110,
   "metadata": {},
   "outputs": [
    {
     "name": "stdout",
     "output_type": "stream",
     "text": [
      "{'lr': 0.001}\n",
      "313/313 [==============================] - 1s 2ms/step - loss: 0.3560 - accuracy: 0.8700\n"
     ]
    },
    {
     "data": {
      "text/plain": [
       "[0.3559688627719879, 0.8700000047683716]"
      ]
     },
     "execution_count": 110,
     "metadata": {},
     "output_type": "execute_result"
    }
   ],
   "source": [
    "print(grid_search_lr.best_params_)\n",
    "\n",
    "model = grid_search_lr.best_estimator_.model\n",
    "model.evaluate(X_test, Y_test)"
   ]
  },
  {
   "cell_type": "markdown",
   "metadata": {},
   "source": [
    "### Grid search learning rate considering \"SGD\" optimizer (using previous results for units):\n",
    "**SGD 0.1,0.01,0.001**"
   ]
  },
  {
   "cell_type": "code",
   "execution_count": 111,
   "metadata": {},
   "outputs": [
    {
     "name": "stderr",
     "output_type": "stream",
     "text": [
      "C:\\Users\\Arghavan\\Anaconda3\\lib\\site-packages\\ipykernel_launcher.py:14: DeprecationWarning: KerasRegressor is deprecated, use Sci-Keras (https://github.com/adriangb/scikeras) instead.\n",
      "  \n"
     ]
    }
   ],
   "source": [
    "def build_model_slr(lr=0.1):\n",
    "    model = keras.models.Sequential([\n",
    "                        \n",
    "                          keras.layers.Dense(128, activation=\"relu\"),\n",
    "                          keras.layers.Dense(256, activation=\"relu\"),\n",
    "                          keras.layers.Dense(10, activation=\"sigmoid\")\n",
    "                                     ])\n",
    "    \n",
    "    model.compile(loss=\"sparse_categorical_crossentropy\",\n",
    "              optimizer=keras.optimizers.SGD(learning_rate=lr),\n",
    "              metrics=[\"accuracy\"])\n",
    "    \n",
    "    return model\n",
    "keras_reg_slr = keras.wrappers.scikit_learn.KerasRegressor(build_model_slr)"
   ]
  },
  {
   "cell_type": "code",
   "execution_count": 112,
   "metadata": {},
   "outputs": [],
   "source": [
    "grid_search_slr = GridSearchCV(keras_reg_slr, param_lr)"
   ]
  },
  {
   "cell_type": "code",
   "execution_count": 113,
   "metadata": {},
   "outputs": [
    {
     "name": "stderr",
     "output_type": "stream",
     "text": [
      "C:\\Users\\Arghavan\\Anaconda3\\lib\\site-packages\\sklearn\\base.py:65: DeprecationWarning: KerasRegressor is deprecated, use Sci-Keras (https://github.com/adriangb/scikeras) instead.\n",
      "  new_object = klass(**new_object_params)\n",
      "C:\\Users\\Arghavan\\Anaconda3\\lib\\site-packages\\sklearn\\base.py:65: DeprecationWarning: KerasRegressor is deprecated, use Sci-Keras (https://github.com/adriangb/scikeras) instead.\n",
      "  new_object = klass(**new_object_params)\n"
     ]
    },
    {
     "name": "stdout",
     "output_type": "stream",
     "text": [
      "Epoch 1/5\n",
      "1042/1042 [==============================] - 3s 3ms/step - loss: 1.0740 - accuracy: 0.6256 - val_loss: 0.6821 - val_accuracy: 0.7279cy\n",
      "Epoch 2/5\n",
      "1042/1042 [==============================] - 3s 3ms/step - loss: 0.5702 - accuracy: 0.7847 - val_loss: 0.5500 - val_accuracy: 0.7948\n",
      "Epoch 3/5\n",
      "1042/1042 [==============================] - 3s 3ms/step - loss: 0.5012 - accuracy: 0.8173 - val_loss: 0.5044 - val_accuracy: 0.8164\n",
      "Epoch 4/5\n",
      "1042/1042 [==============================] - 3s 3ms/step - loss: 0.4675 - accuracy: 0.8300 - val_loss: 0.4866 - val_accuracy: 0.8261\n",
      "Epoch 5/5\n",
      "1042/1042 [==============================] - 3s 3ms/step - loss: 0.4467 - accuracy: 0.8391 - val_loss: 0.4648 - val_accuracy: 0.8309: 0.83\n",
      "521/521 [==============================] - 1s 1ms/step - loss: 0.4673 - accuracy: 0.8258\n",
      "1042/1042 [==============================] - 2s 1ms/step - loss: 0.4459 - accuracy: 0.8361\n"
     ]
    },
    {
     "name": "stderr",
     "output_type": "stream",
     "text": [
      "C:\\Users\\Arghavan\\Anaconda3\\lib\\site-packages\\sklearn\\base.py:65: DeprecationWarning: KerasRegressor is deprecated, use Sci-Keras (https://github.com/adriangb/scikeras) instead.\n",
      "  new_object = klass(**new_object_params)\n"
     ]
    },
    {
     "name": "stdout",
     "output_type": "stream",
     "text": [
      "Epoch 1/5\n",
      "1042/1042 [==============================] - 4s 3ms/step - loss: 1.0942 - accuracy: 0.6185 - val_loss: 0.7146 - val_accuracy: 0.7300 - ETA: 0s - loss: 1.1077 - accuracy: 0.\n",
      "Epoch 2/5\n",
      "1042/1042 [==============================] - 3s 3ms/step - loss: 0.5794 - accuracy: 0.7803 - val_loss: 0.5607 - val_accuracy: 0.7818\n",
      "Epoch 3/5\n",
      "1042/1042 [==============================] - 3s 3ms/step - loss: 0.5064 - accuracy: 0.8121 - val_loss: 0.5334 - val_accuracy: 0.8006\n",
      "Epoch 4/5\n",
      "1042/1042 [==============================] - 3s 3ms/step - loss: 0.4732 - accuracy: 0.8239 - val_loss: 0.5065 - val_accuracy: 0.8142\n",
      "Epoch 5/5\n",
      "1042/1042 [==============================] - 3s 3ms/step - loss: 0.4486 - accuracy: 0.8339 - val_loss: 0.4563 - val_accuracy: 0.8314\n",
      "521/521 [==============================] - 1s 2ms/step - loss: 0.4497 - accuracy: 0.8375\n",
      "1042/1042 [==============================] - 2s 2ms/step - loss: 0.4356 - accuracy: 0.8378: 1s - loss: 0.4153 -  - ETA: 1s - loss: 0.4 - ETA: 0s - loss: 0.436\n",
      "Epoch 1/5\n"
     ]
    },
    {
     "name": "stderr",
     "output_type": "stream",
     "text": [
      "C:\\Users\\Arghavan\\Anaconda3\\lib\\site-packages\\sklearn\\base.py:65: DeprecationWarning: KerasRegressor is deprecated, use Sci-Keras (https://github.com/adriangb/scikeras) instead.\n",
      "  new_object = klass(**new_object_params)\n"
     ]
    },
    {
     "name": "stdout",
     "output_type": "stream",
     "text": [
      "1042/1042 [==============================] - 3s 3ms/step - loss: 1.0792 - accuracy: 0.6220 - val_loss: 0.6323 - val_accuracy: 0.7719\n",
      "Epoch 2/5\n",
      "1042/1042 [==============================] - 3s 3ms/step - loss: 0.5775 - accuracy: 0.7835 - val_loss: 0.6056 - val_accuracy: 0.7789\n",
      "Epoch 3/5\n",
      "1042/1042 [==============================] - 3s 3ms/step - loss: 0.5031 - accuracy: 0.8170 - val_loss: 0.5118 - val_accuracy: 0.8121\n",
      "Epoch 4/5\n",
      "1042/1042 [==============================] - 3s 3ms/step - loss: 0.4691 - accuracy: 0.8291 - val_loss: 0.4692 - val_accuracy: 0.8310\n",
      "Epoch 5/5\n",
      "1042/1042 [==============================] - 3s 3ms/step - loss: 0.4462 - accuracy: 0.8366 - val_loss: 0.4396 - val_accuracy: 0.8426\n",
      "521/521 [==============================] - 1s 1ms/step - loss: 0.4363 - accuracy: 0.8383\n",
      "1042/1042 [==============================] - 2s 2ms/step - loss: 0.4180 - accuracy: 0.8490: 0s - loss:\n",
      "Epoch 1/5\n"
     ]
    },
    {
     "name": "stderr",
     "output_type": "stream",
     "text": [
      "C:\\Users\\Arghavan\\Anaconda3\\lib\\site-packages\\sklearn\\base.py:65: DeprecationWarning: KerasRegressor is deprecated, use Sci-Keras (https://github.com/adriangb/scikeras) instead.\n",
      "  new_object = klass(**new_object_params)\n"
     ]
    },
    {
     "name": "stdout",
     "output_type": "stream",
     "text": [
      "1042/1042 [==============================] - 3s 3ms/step - loss: 2.1931 - accuracy: 0.3767 - val_loss: 2.0049 - val_accuracy: 0.4829cy: 0. - ETA: 0s - loss: 2.2366 - accuracy: 0. - ETA: 0s - loss: 2.2316 - accu - ETA: 0s - loss: 2.2159 - ac\n",
      "Epoch 2/5\n",
      "1042/1042 [==============================] - 3s 3ms/step - loss: 1.6753 - accuracy: 0.4989 - val_loss: 1.3879 - val_accuracy: 0.5664\n",
      "Epoch 3/5\n",
      "1042/1042 [==============================] - 3s 3ms/step - loss: 1.2219 - accuracy: 0.6105 - val_loss: 1.0892 - val_accuracy: 0.6401\n",
      "Epoch 4/5\n",
      "1042/1042 [==============================] - 3s 3ms/step - loss: 0.9958 - accuracy: 0.6531 - val_loss: 0.9184 - val_accuracy: 0.6695\n",
      "Epoch 5/5\n",
      "1042/1042 [==============================] - 3s 3ms/step - loss: 0.8594 - accuracy: 0.6870 - val_loss: 0.8133 - val_accuracy: 0.6910\n",
      "521/521 [==============================] - 1s 2ms/step - loss: 0.8197 - accuracy: 0.6879\n",
      "1042/1042 [==============================] - 2s 2ms/step - loss: 0.8090 - accuracy: 0.6907: 0s - loss: 0.8100 -  - ETA: 0s - loss: 0.8100 - ac\n",
      "Epoch 1/5\n"
     ]
    },
    {
     "name": "stderr",
     "output_type": "stream",
     "text": [
      "C:\\Users\\Arghavan\\Anaconda3\\lib\\site-packages\\sklearn\\base.py:65: DeprecationWarning: KerasRegressor is deprecated, use Sci-Keras (https://github.com/adriangb/scikeras) instead.\n",
      "  new_object = klass(**new_object_params)\n"
     ]
    },
    {
     "name": "stdout",
     "output_type": "stream",
     "text": [
      "1042/1042 [==============================] - 3s 3ms/step - loss: 2.1990 - accuracy: 0.4426 - val_loss: 2.0190 - val_accuracy: 0.5108\n",
      "Epoch 2/5\n",
      "1042/1042 [==============================] - 3s 3ms/step - loss: 1.6892 - accuracy: 0.5108 - val_loss: 1.3989 - val_accuracy: 0.5587\n",
      "Epoch 3/5\n",
      "1042/1042 [==============================] - 3s 3ms/step - loss: 1.2279 - accuracy: 0.6019 - val_loss: 1.0860 - val_accuracy: 0.6522s: 1.3223 - ac\n",
      "Epoch 4/5\n",
      "1042/1042 [==============================] - 3s 3ms/step - loss: 0.9948 - accuracy: 0.6548 - val_loss: 0.9173 - val_accuracy: 0.6816\n",
      "Epoch 5/5\n",
      "1042/1042 [==============================] - 3s 3ms/step - loss: 0.8582 - accuracy: 0.6932 - val_loss: 0.8095 - val_accuracy: 0.7035\n",
      "521/521 [==============================] - 1s 2ms/step - loss: 0.8037 - accuracy: 0.7055: 0s - loss: 0.8019 - accuracy: 0.70\n",
      "1042/1042 [==============================] - 2s 2ms/step - loss: 0.8088 - accuracy: 0.7032\n",
      "Epoch 1/5\n"
     ]
    },
    {
     "name": "stderr",
     "output_type": "stream",
     "text": [
      "C:\\Users\\Arghavan\\Anaconda3\\lib\\site-packages\\sklearn\\base.py:65: DeprecationWarning: KerasRegressor is deprecated, use Sci-Keras (https://github.com/adriangb/scikeras) instead.\n",
      "  new_object = klass(**new_object_params)\n"
     ]
    },
    {
     "name": "stdout",
     "output_type": "stream",
     "text": [
      "1042/1042 [==============================] - 3s 3ms/step - loss: 2.2160 - accuracy: 0.4146 - val_loss: 2.0541 - val_accuracy: 0.4651\n",
      "Epoch 2/5\n",
      "1042/1042 [==============================] - 3s 3ms/step - loss: 1.7105 - accuracy: 0.4982 - val_loss: 1.3991 - val_accuracy: 0.5377\n",
      "Epoch 3/5\n",
      "1042/1042 [==============================] - 3s 3ms/step - loss: 1.2271 - accuracy: 0.6006 - val_loss: 1.0872 - val_accuracy: 0.6431\n",
      "Epoch 4/5\n",
      "1042/1042 [==============================] - 3s 3ms/step - loss: 0.9998 - accuracy: 0.6509 - val_loss: 0.9235 - val_accuracy: 0.6789\n",
      "Epoch 5/5\n",
      "1042/1042 [==============================] - 3s 3ms/step - loss: 0.8676 - accuracy: 0.6899 - val_loss: 0.8180 - val_accuracy: 0.7105\n",
      "521/521 [==============================] - 1s 2ms/step - loss: 0.8126 - accuracy: 0.7110: 0s - loss: 0.8291  - ETA: 0s - loss: 0.8163 - accuracy: \n",
      "1042/1042 [==============================] - 2s 2ms/step - loss: 0.8163 - accuracy: 0.7097\n"
     ]
    },
    {
     "name": "stderr",
     "output_type": "stream",
     "text": [
      "C:\\Users\\Arghavan\\Anaconda3\\lib\\site-packages\\sklearn\\base.py:65: DeprecationWarning: KerasRegressor is deprecated, use Sci-Keras (https://github.com/adriangb/scikeras) instead.\n",
      "  new_object = klass(**new_object_params)\n"
     ]
    },
    {
     "name": "stdout",
     "output_type": "stream",
     "text": [
      "Epoch 1/5\n",
      "1042/1042 [==============================] - 3s 3ms/step - loss: 2.2960 - accuracy: 0.1785 - val_loss: 2.2886 - val_accuracy: 0.2240\n",
      "Epoch 2/5\n",
      "1042/1042 [==============================] - 3s 3ms/step - loss: 2.2815 - accuracy: 0.2480 - val_loss: 2.2746 - val_accuracy: 0.2560\n",
      "Epoch 3/5\n",
      "1042/1042 [==============================] - 3s 3ms/step - loss: 2.2678 - accuracy: 0.2764 - val_loss: 2.2606 - val_accuracy: 0.2938\n",
      "Epoch 4/5\n",
      "1042/1042 [==============================] - 3s 3ms/step - loss: 2.2529 - accuracy: 0.3260 - val_loss: 2.2447 - val_accuracy: 0.3695\n",
      "Epoch 5/5\n",
      "1042/1042 [==============================] - 3s 3ms/step - loss: 2.2356 - accuracy: 0.3970 - val_loss: 2.2258 - val_accuracy: 0.4146\n",
      "521/521 [==============================] - 1s 2ms/step - loss: 2.2264 - accuracy: 0.4148\n",
      "1042/1042 [==============================] - 2s 2ms/step - loss: 2.2259 - accuracy: 0.4199: 0s - loss: 2.2257 - ac - ETA: 0s - loss: 2.225\n",
      "Epoch 1/5\n"
     ]
    },
    {
     "name": "stderr",
     "output_type": "stream",
     "text": [
      "C:\\Users\\Arghavan\\Anaconda3\\lib\\site-packages\\sklearn\\base.py:65: DeprecationWarning: KerasRegressor is deprecated, use Sci-Keras (https://github.com/adriangb/scikeras) instead.\n",
      "  new_object = klass(**new_object_params)\n"
     ]
    },
    {
     "name": "stdout",
     "output_type": "stream",
     "text": [
      "1042/1042 [==============================] - 3s 3ms/step - loss: 2.2942 - accuracy: 0.1310 - val_loss: 2.2844 - val_accuracy: 0.2425\n",
      "Epoch 2/5\n",
      "1042/1042 [==============================] - 3s 3ms/step - loss: 2.2759 - accuracy: 0.3035 - val_loss: 2.2677 - val_accuracy: 0.3516\n",
      "Epoch 3/5\n",
      "1042/1042 [==============================] - 3s 3ms/step - loss: 2.2593 - accuracy: 0.3805 - val_loss: 2.2504 - val_accuracy: 0.4074\n",
      "Epoch 4/5\n",
      "1042/1042 [==============================] - 3s 3ms/step - loss: 2.2408 - accuracy: 0.4202 - val_loss: 2.2301 - val_accuracy: 0.4328\n",
      "Epoch 5/5\n",
      "1042/1042 [==============================] - 3s 3ms/step - loss: 2.2186 - accuracy: 0.4411 - val_loss: 2.2056 - val_accuracy: 0.4546\n",
      "521/521 [==============================] - 1s 2ms/step - loss: 2.2061 - accuracy: 0.4505\n",
      "1042/1042 [==============================] - 2s 2ms/step - loss: 2.2059 - accuracy: 0.4514: 0s - loss: 2.2060 - accuracy - ETA: 0s - loss: 2.2059 - accuracy\n"
     ]
    },
    {
     "name": "stderr",
     "output_type": "stream",
     "text": [
      "C:\\Users\\Arghavan\\Anaconda3\\lib\\site-packages\\sklearn\\base.py:65: DeprecationWarning: KerasRegressor is deprecated, use Sci-Keras (https://github.com/adriangb/scikeras) instead.\n",
      "  new_object = klass(**new_object_params)\n"
     ]
    },
    {
     "name": "stdout",
     "output_type": "stream",
     "text": [
      "Epoch 1/5\n",
      "1042/1042 [==============================] - 3s 3ms/step - loss: 2.2921 - accuracy: 0.1924 - val_loss: 2.2838 - val_accuracy: 0.2474\n",
      "Epoch 2/5\n",
      "1042/1042 [==============================] - 3s 3ms/step - loss: 2.2770 - accuracy: 0.2894 - val_loss: 2.2693 - val_accuracy: 0.3314\n",
      "Epoch 3/5\n",
      "1042/1042 [==============================] - 3s 3ms/step - loss: 2.2623 - accuracy: 0.3544 - val_loss: 2.2541 - val_accuracy: 0.3790\n",
      "Epoch 4/5\n",
      "1042/1042 [==============================] - 3s 3ms/step - loss: 2.2461 - accuracy: 0.3913 - val_loss: 2.2362 - val_accuracy: 0.4080\n",
      "Epoch 5/5\n",
      "1042/1042 [==============================] - 3s 3ms/step - loss: 2.2266 - accuracy: 0.4064 - val_loss: 2.2143 - val_accuracy: 0.4163\n",
      "521/521 [==============================] - 1s 1ms/step - loss: 2.2146 - accuracy: 0.4201\n",
      "1042/1042 [==============================] - 2s 1ms/step - loss: 2.2153 - accuracy: 0.4155: 0s -\n",
      "Epoch 1/5\n"
     ]
    },
    {
     "name": "stderr",
     "output_type": "stream",
     "text": [
      "C:\\Users\\Arghavan\\Anaconda3\\lib\\site-packages\\sklearn\\base.py:65: DeprecationWarning: KerasRegressor is deprecated, use Sci-Keras (https://github.com/adriangb/scikeras) instead.\n",
      "  new_object = klass(**new_object_params)\n"
     ]
    },
    {
     "name": "stdout",
     "output_type": "stream",
     "text": [
      "1563/1563 [==============================] - 4s 3ms/step - loss: 0.9066 - accuracy: 0.6796 - val_loss: 0.6463 - val_accuracy: 0.7625 0.9537 \n",
      "Epoch 2/5\n",
      "1563/1563 [==============================] - 4s 3ms/step - loss: 0.5211 - accuracy: 0.8064 - val_loss: 0.5338 - val_accuracy: 0.8058: 0s - loss: 0.5228 \n",
      "Epoch 3/5\n",
      "1563/1563 [==============================] - 4s 2ms/step - loss: 0.4685 - accuracy: 0.8287 - val_loss: 0.4923 - val_accuracy: 0.8154TA: 0s - loss: 0.4700 - accuracy: 0. - ETA: 0s - loss: 0.4694 - accuracy: 0.\n",
      "Epoch 4/5\n",
      "1563/1563 [==============================] - 4s 3ms/step - loss: 0.4385 - accuracy: 0.8418 - val_loss: 0.4402 - val_accuracy: 0.8396\n",
      "Epoch 5/5\n",
      "1563/1563 [==============================] - 4s 3ms/step - loss: 0.4164 - accuracy: 0.8472 - val_loss: 0.4612 - val_accuracy: 0.8340\n"
     ]
    },
    {
     "data": {
      "text/plain": [
       "GridSearchCV(cv='warn', error_score='raise-deprecating',\n",
       "       estimator=<keras.wrappers.scikit_learn.KerasRegressor object at 0x0000016C07664438>,\n",
       "       fit_params=None, iid='warn', n_jobs=None,\n",
       "       param_grid={'lr': [0.1, 0.01, 0.001]}, pre_dispatch='2*n_jobs',\n",
       "       refit=True, return_train_score='warn', scoring=None, verbose=0)"
      ]
     },
     "execution_count": 113,
     "metadata": {},
     "output_type": "execute_result"
    }
   ],
   "source": [
    "grid_search_slr.fit(X_train, Y_train, epochs=5,\n",
    "                validation_data=(X_valid, Y_valid))"
   ]
  },
  {
   "cell_type": "code",
   "execution_count": 114,
   "metadata": {},
   "outputs": [
    {
     "name": "stdout",
     "output_type": "stream",
     "text": [
      "{'lr': 0.1}\n",
      "313/313 [==============================] - 1s 2ms/step - loss: 0.4844 - accuracy: 0.8255\n"
     ]
    },
    {
     "data": {
      "text/plain": [
       "[0.48437222838401794, 0.8255000114440918]"
      ]
     },
     "execution_count": 114,
     "metadata": {},
     "output_type": "execute_result"
    }
   ],
   "source": [
    "print(grid_search_slr.best_params_)\n",
    "\n",
    "model = grid_search_slr.best_estimator_.model\n",
    "model.evaluate(X_test, Y_test)"
   ]
  },
  {
   "cell_type": "markdown",
   "metadata": {},
   "source": [
    "**The best model till now is 3layer with 128/256 unites and Adam(0.001) optimizer. lets run it for 15 epochs and plote accuracy and  evaluate and check for overfitting. we call it model1**"
   ]
  },
  {
   "cell_type": "code",
   "execution_count": 166,
   "metadata": {},
   "outputs": [],
   "source": [
    "model1 = keras.models.Sequential([\n",
    "                        \n",
    "                          keras.layers.Dense(128, activation=\"relu\"),\n",
    "                          keras.layers.Dense(256, activation=\"relu\"),\n",
    "                          keras.layers.Dense(10, activation=\"sigmoid\")\n",
    "                                     ])\n",
    "    \n",
    "model1.compile(loss=\"sparse_categorical_crossentropy\",\n",
    "              optimizer=keras.optimizers.Adam(learning_rate=0.001),\n",
    "              metrics=[\"accuracy\"])"
   ]
  },
  {
   "cell_type": "code",
   "execution_count": 167,
   "metadata": {},
   "outputs": [
    {
     "name": "stdout",
     "output_type": "stream",
     "text": [
      "Epoch 1/15\n",
      "391/391 [==============================] - 4s 9ms/step - loss: 0.6778 - accuracy: 0.7694 - val_loss: 0.4846 - val_accuracy: 0.8217\n",
      "Epoch 2/15\n",
      "391/391 [==============================] - 3s 8ms/step - loss: 0.4303 - accuracy: 0.8436 - val_loss: 0.4258 - val_accuracy: 0.8447\n",
      "Epoch 3/15\n",
      "391/391 [==============================] - 3s 8ms/step - loss: 0.3873 - accuracy: 0.8596 - val_loss: 0.3821 - val_accuracy: 0.8625\n",
      "Epoch 4/15\n",
      "391/391 [==============================] - 2s 6ms/step - loss: 0.3605 - accuracy: 0.8690 - val_loss: 0.3800 - val_accuracy: 0.8587\n",
      "Epoch 5/15\n",
      "391/391 [==============================] - 2s 6ms/step - loss: 0.3389 - accuracy: 0.8753 - val_loss: 0.3456 - val_accuracy: 0.8735\n",
      "Epoch 6/15\n",
      "391/391 [==============================] - 2s 6ms/step - loss: 0.3243 - accuracy: 0.8802 - val_loss: 0.3341 - val_accuracy: 0.8747\n",
      "Epoch 7/15\n",
      "391/391 [==============================] - 2s 6ms/step - loss: 0.3080 - accuracy: 0.8867 - val_loss: 0.3251 - val_accuracy: 0.8797\n",
      "Epoch 8/15\n",
      "391/391 [==============================] - 3s 9ms/step - loss: 0.2955 - accuracy: 0.8907 - val_loss: 0.3251 - val_accuracy: 0.8793\n",
      "Epoch 9/15\n",
      "391/391 [==============================] - 3s 7ms/step - loss: 0.2862 - accuracy: 0.8951 - val_loss: 0.3227 - val_accuracy: 0.8794\n",
      "Epoch 10/15\n",
      "391/391 [==============================] - 2s 5ms/step - loss: 0.2732 - accuracy: 0.8992 - val_loss: 0.3214 - val_accuracy: 0.8798\n",
      "Epoch 11/15\n",
      "391/391 [==============================] - 2s 5ms/step - loss: 0.2658 - accuracy: 0.9012 - val_loss: 0.3094 - val_accuracy: 0.8882\n",
      "Epoch 12/15\n",
      "391/391 [==============================] - 3s 7ms/step - loss: 0.2581 - accuracy: 0.9047 - val_loss: 0.3118 - val_accuracy: 0.8837\n",
      "Epoch 13/15\n",
      "391/391 [==============================] - 4s 11ms/step - loss: 0.2510 - accuracy: 0.9064 - val_loss: 0.3153 - val_accuracy: 0.8842\n",
      "Epoch 14/15\n",
      "391/391 [==============================] - 4s 10ms/step - loss: 0.2420 - accuracy: 0.9101 - val_loss: 0.3031 - val_accuracy: 0.8927\n",
      "Epoch 15/15\n",
      "391/391 [==============================] - 4s 11ms/step - loss: 0.2355 - accuracy: 0.9121 - val_loss: 0.3124 - val_accuracy: 0.8874\n"
     ]
    }
   ],
   "source": [
    "history = model1.fit(X_train, Y_train, epochs=15, batch_size=128,\n",
    "                  validation_data=(X_valid, Y_valid))"
   ]
  },
  {
   "cell_type": "code",
   "execution_count": 168,
   "metadata": {},
   "outputs": [
    {
     "data": {
      "image/png": "[encoded data removed]",
      "text/plain": [
       "<Figure size 576x360 with 1 Axes>"
      ]
     },
     "metadata": {
      "needs_background": "light"
     },
     "output_type": "display_data"
    }
   ],
   "source": [
    "def plot_learning_curves(history):\n",
    "    plt.figure(figsize=(8, 5))\n",
    "    plt.plot(history.epoch,history.history['accuracy'], label='train accuracy')\n",
    "    plt.plot(history.epoch,history.history['val_accuracy'], label='valid accuracy')\n",
    "    plt.legend()\n",
    "    plt.title('Accuracy')\n",
    "    plt.grid(True)\n",
    "    plt.show()\n",
    "plot_learning_curves(history)"
   ]
  },
  {
   "cell_type": "code",
   "execution_count": 169,
   "metadata": {},
   "outputs": [
    {
     "data": {
      "image/png": "[encoded data removed]",
      "text/plain": [
       "<Figure size 576x360 with 1 Axes>"
      ]
     },
     "metadata": {
      "needs_background": "light"
     },
     "output_type": "display_data"
    }
   ],
   "source": [
    "def plot_learning_curves(history):\n",
    "    plt.figure(figsize=(8, 5))\n",
    "    plt.plot(history.epoch,history.history['loss'], label='train loss')\n",
    "    plt.plot(history.epoch,history.history['val_loss'], label='valid loss')\n",
    "    plt.legend()\n",
    "    plt.title('loss')\n",
    "    plt.grid(True)\n",
    "    plt.show()\n",
    "plot_learning_curves(history)"
   ]
  },
  {
   "cell_type": "code",
   "execution_count": 170,
   "metadata": {},
   "outputs": [
    {
     "name": "stdout",
     "output_type": "stream",
     "text": [
      "313/313 - 1s - loss: 0.3369 - accuracy: 0.8814 - 663ms/epoch - 2ms/step\n",
      " accuracy: 88.14%\n"
     ]
    }
   ],
   "source": [
    "scores = model1.evaluate(X_test, Y_test, verbose=2)\n",
    "print(\" %s: %.2f%%\" % (model1.metrics_names[1], scores[1]*100))"
   ]
  },
  {
   "cell_type": "markdown",
   "metadata": {},
   "source": [
    "**As we can see there is  overffiting in our model. So I added 2 dropout Layers to the model with 2 different atchsize**"
   ]
  },
  {
   "cell_type": "code",
   "execution_count": 201,
   "metadata": {},
   "outputs": [],
   "source": [
    "model2 = keras.models.Sequential([\n",
    "                        \n",
    "                          keras.layers.Dense(128, activation=\"relu\"),\n",
    "                          keras.layers.Dropout(.2),\n",
    "                          keras.layers.Dense(256, activation=\"relu\"),\n",
    "                          keras.layers.Dropout(.2),\n",
    "                          keras.layers.Dense(10, activation=\"sigmoid\")\n",
    "                                     ])\n",
    "    \n",
    "model2.compile(loss=\"sparse_categorical_crossentropy\",\n",
    "              optimizer=keras.optimizers.Adam(learning_rate=0.001),\n",
    "              metrics=[\"accuracy\"])"
   ]
  },
  {
   "cell_type": "markdown",
   "metadata": {},
   "source": [
    "**Batch size 128:**"
   ]
  },
  {
   "cell_type": "code",
   "execution_count": 202,
   "metadata": {},
   "outputs": [
    {
     "name": "stdout",
     "output_type": "stream",
     "text": [
      "Epoch 1/15\n",
      "391/391 [==============================] - 2s 4ms/step - loss: 0.7582 - accuracy: 0.7258 - val_loss: 0.4863 - val_accuracy: 0.8186\n",
      "Epoch 2/15\n",
      "391/391 [==============================] - 1s 3ms/step - loss: 0.4580 - accuracy: 0.8352 - val_loss: 0.4098 - val_accuracy: 0.8470\n",
      "Epoch 3/15\n",
      "391/391 [==============================] - 1s 3ms/step - loss: 0.4078 - accuracy: 0.8521 - val_loss: 0.3778 - val_accuracy: 0.8633\n",
      "Epoch 4/15\n",
      "391/391 [==============================] - 1s 3ms/step - loss: 0.3829 - accuracy: 0.8609 - val_loss: 0.3588 - val_accuracy: 0.8665\n",
      "Epoch 5/15\n",
      "391/391 [==============================] - 1s 4ms/step - loss: 0.3597 - accuracy: 0.8687 - val_loss: 0.3537 - val_accuracy: 0.8668\n",
      "Epoch 6/15\n",
      "391/391 [==============================] - 1s 3ms/step - loss: 0.3473 - accuracy: 0.8741 - val_loss: 0.3403 - val_accuracy: 0.8775\n",
      "Epoch 7/15\n",
      "391/391 [==============================] - 1s 3ms/step - loss: 0.3339 - accuracy: 0.8772 - val_loss: 0.3262 - val_accuracy: 0.8807\n",
      "Epoch 8/15\n",
      "391/391 [==============================] - 1s 3ms/step - loss: 0.3212 - accuracy: 0.8812 - val_loss: 0.3279 - val_accuracy: 0.8788\n",
      "Epoch 9/15\n",
      "391/391 [==============================] - 1s 3ms/step - loss: 0.3117 - accuracy: 0.8865 - val_loss: 0.3180 - val_accuracy: 0.8809\n",
      "Epoch 10/15\n",
      "391/391 [==============================] - 1s 3ms/step - loss: 0.3053 - accuracy: 0.8869 - val_loss: 0.3196 - val_accuracy: 0.8822\n",
      "Epoch 11/15\n",
      "391/391 [==============================] - 1s 3ms/step - loss: 0.2945 - accuracy: 0.8918 - val_loss: 0.3122 - val_accuracy: 0.8840\n",
      "Epoch 12/15\n",
      "391/391 [==============================] - 1s 3ms/step - loss: 0.2900 - accuracy: 0.8934 - val_loss: 0.3208 - val_accuracy: 0.8806\n",
      "Epoch 13/15\n",
      "391/391 [==============================] - 1s 3ms/step - loss: 0.2846 - accuracy: 0.8948 - val_loss: 0.3064 - val_accuracy: 0.8861\n",
      "Epoch 14/15\n",
      "391/391 [==============================] - 1s 3ms/step - loss: 0.2775 - accuracy: 0.8969 - val_loss: 0.3050 - val_accuracy: 0.8871\n",
      "Epoch 15/15\n",
      "391/391 [==============================] - 1s 3ms/step - loss: 0.2712 - accuracy: 0.8994 - val_loss: 0.3003 - val_accuracy: 0.8911\n"
     ]
    }
   ],
   "source": [
    "history = model2.fit(X_train, Y_train, epochs=15, batch_size=128,\n",
    "                  validation_data=(X_valid, Y_valid))"
   ]
  },
  {
   "cell_type": "code",
   "execution_count": 203,
   "metadata": {},
   "outputs": [
    {
     "data": {
      "image/png": "[encoded data removed]",
      "text/plain": [
       "<Figure size 576x360 with 1 Axes>"
      ]
     },
     "metadata": {
      "needs_background": "light"
     },
     "output_type": "display_data"
    }
   ],
   "source": [
    "def plot_learning_curves(history):\n",
    "    plt.figure(figsize=(8, 5))\n",
    "    plt.plot(history.epoch,history.history['accuracy'], label='train accuracy')\n",
    "    plt.plot(history.epoch,history.history['val_accuracy'], label='valid accuracy')\n",
    "    plt.legend()\n",
    "    plt.title('Accuracy')\n",
    "    plt.grid(True)\n",
    "    plt.show()\n",
    "plot_learning_curves(history)\n"
   ]
  },
  {
   "cell_type": "code",
   "execution_count": 204,
   "metadata": {},
   "outputs": [
    {
     "data": {
      "image/png": "[encoded data removed]",
      "text/plain": [
       "<Figure size 576x360 with 1 Axes>"
      ]
     },
     "metadata": {
      "needs_background": "light"
     },
     "output_type": "display_data"
    }
   ],
   "source": [
    "def plot_learning_curves(history):\n",
    "    plt.figure(figsize=(8, 5))\n",
    "    plt.plot(history.epoch,history.history['loss'], label='train loss')\n",
    "    plt.plot(history.epoch,history.history['val_loss'], label='valid loss')\n",
    "    plt.legend()\n",
    "    plt.title('loss')\n",
    "    plt.grid(True)\n",
    "    plt.show()\n",
    "plot_learning_curves(history)"
   ]
  },
  {
   "cell_type": "code",
   "execution_count": 205,
   "metadata": {},
   "outputs": [
    {
     "name": "stdout",
     "output_type": "stream",
     "text": [
      "313/313 - 0s - loss: 0.3232 - accuracy: 0.8841 - 336ms/epoch - 1ms/step\n",
      " accuracy: 88.41%\n"
     ]
    }
   ],
   "source": [
    "scores = model2.evaluate(X_test, Y_test, verbose=2)\n",
    "print(\" %s: %.2f%%\" % (model1.metrics_names[1], scores[1]*100))"
   ]
  },
  {
   "cell_type": "markdown",
   "metadata": {},
   "source": [
    "**Batchsize 256:**"
   ]
  },
  {
   "cell_type": "code",
   "execution_count": 186,
   "metadata": {},
   "outputs": [
    {
     "name": "stdout",
     "output_type": "stream",
     "text": [
      "Epoch 1/15\n",
      "196/196 [==============================] - 6s 26ms/step - loss: 0.9081 - accuracy: 0.6795 - val_loss: 0.5226 - val_accuracy: 0.8130\n",
      "Epoch 2/15\n",
      "196/196 [==============================] - 2s 10ms/step - loss: 0.5050 - accuracy: 0.8168 - val_loss: 0.4434 - val_accuracy: 0.8398\n",
      "Epoch 3/15\n",
      "196/196 [==============================] - 3s 16ms/step - loss: 0.4459 - accuracy: 0.8387 - val_loss: 0.4054 - val_accuracy: 0.8507\n",
      "Epoch 4/15\n",
      "196/196 [==============================] - 3s 16ms/step - loss: 0.4099 - accuracy: 0.8530 - val_loss: 0.3884 - val_accuracy: 0.8582\n",
      "Epoch 5/15\n",
      "196/196 [==============================] - 4s 19ms/step - loss: 0.3868 - accuracy: 0.8590 - val_loss: 0.3727 - val_accuracy: 0.8645\n",
      "Epoch 6/15\n",
      "196/196 [==============================] - 2s 13ms/step - loss: 0.3727 - accuracy: 0.8661 - val_loss: 0.3519 - val_accuracy: 0.8707\n",
      "Epoch 7/15\n",
      "196/196 [==============================] - 1s 7ms/step - loss: 0.3559 - accuracy: 0.8717 - val_loss: 0.3463 - val_accuracy: 0.8719\n",
      "Epoch 8/15\n",
      "196/196 [==============================] - 1s 7ms/step - loss: 0.3440 - accuracy: 0.8758 - val_loss: 0.3490 - val_accuracy: 0.8697\n",
      "Epoch 9/15\n",
      "196/196 [==============================] - 1s 6ms/step - loss: 0.3347 - accuracy: 0.8784 - val_loss: 0.3324 - val_accuracy: 0.8793\n",
      "Epoch 10/15\n",
      "196/196 [==============================] - 1s 7ms/step - loss: 0.3245 - accuracy: 0.8811 - val_loss: 0.3235 - val_accuracy: 0.8832\n",
      "Epoch 11/15\n",
      "196/196 [==============================] - 1s 7ms/step - loss: 0.3160 - accuracy: 0.8834 - val_loss: 0.3260 - val_accuracy: 0.8803\n",
      "Epoch 12/15\n",
      "196/196 [==============================] - 1s 7ms/step - loss: 0.3111 - accuracy: 0.8865 - val_loss: 0.3122 - val_accuracy: 0.8854\n",
      "Epoch 13/15\n",
      "196/196 [==============================] - 1s 6ms/step - loss: 0.3006 - accuracy: 0.8909 - val_loss: 0.3096 - val_accuracy: 0.8862\n",
      "Epoch 14/15\n",
      "196/196 [==============================] - 2s 8ms/step - loss: 0.2974 - accuracy: 0.8898 - val_loss: 0.3040 - val_accuracy: 0.8870\n",
      "Epoch 15/15\n",
      "196/196 [==============================] - 3s 13ms/step - loss: 0.2891 - accuracy: 0.8931 - val_loss: 0.3051 - val_accuracy: 0.8884\n"
     ]
    }
   ],
   "source": [
    "history = model2.fit(X_train, Y_train, epochs=15, batch_size=256,\n",
    "                  validation_data=(X_valid, Y_valid))"
   ]
  },
  {
   "cell_type": "code",
   "execution_count": 187,
   "metadata": {},
   "outputs": [
    {
     "data": {
      "image/png": "[encoded data removed]",
      "text/plain": [
       "<Figure size 576x360 with 1 Axes>"
      ]
     },
     "metadata": {
      "needs_background": "light"
     },
     "output_type": "display_data"
    }
   ],
   "source": [
    "def plot_learning_curves(history):\n",
    "    plt.figure(figsize=(8, 5))\n",
    "    plt.plot(history.epoch,history.history['accuracy'], label='train accuracy')\n",
    "    plt.plot(history.epoch,history.history['val_accuracy'], label='valid accuracy')\n",
    "    plt.legend()\n",
    "    plt.title('Accuracy')\n",
    "    plt.grid(True)\n",
    "    plt.show()\n",
    "plot_learning_curves(history)"
   ]
  },
  {
   "cell_type": "code",
   "execution_count": 188,
   "metadata": {},
   "outputs": [
    {
     "data": {
      "image/png": "[encoded data removed]",
      "text/plain": [
       "<Figure size 576x360 with 1 Axes>"
      ]
     },
     "metadata": {
      "needs_background": "light"
     },
     "output_type": "display_data"
    }
   ],
   "source": [
    "def plot_learning_curves(history):\n",
    "    plt.figure(figsize=(8, 5))\n",
    "    plt.plot(history.epoch,history.history['loss'], label='train loss')\n",
    "    plt.plot(history.epoch,history.history['val_loss'], label='valid loss')\n",
    "    plt.legend()\n",
    "    plt.title('loss')\n",
    "    plt.grid(True)\n",
    "    plt.show()\n",
    "plot_learning_curves(history)"
   ]
  },
  {
   "cell_type": "code",
   "execution_count": 189,
   "metadata": {},
   "outputs": [
    {
     "name": "stdout",
     "output_type": "stream",
     "text": [
      "313/313 - 1s - loss: 0.3309 - accuracy: 0.8796 - 646ms/epoch - 2ms/step\n",
      " accuracy: 87.96%\n"
     ]
    }
   ],
   "source": [
    "scores = model2.evaluate(X_test, Y_test, verbose=2)\n",
    "print(\" %s: %.2f%%\" % (model1.metrics_names[1], scores[1]*100))"
   ]
  },
  {
   "cell_type": "markdown",
   "metadata": {},
   "source": [
    "**As we can see the accuracy decreased less than 0.5 percent but looking at loss and accuracy plots of train and validation we can say batchsize 256 is a better choice**"
   ]
  },
  {
   "cell_type": "code",
   "execution_count": 221,
   "metadata": {},
   "outputs": [],
   "source": [
    "predict_x=model2.predict(X_test) \n",
    "classes_x=np.argmax(predict_x,axis=1)"
   ]
  },
  {
   "cell_type": "code",
   "execution_count": 222,
   "metadata": {},
   "outputs": [
    {
     "name": "stdout",
     "output_type": "stream",
     "text": [
      "              precision    recall  f1-score   support\n",
      "\n",
      "           0       0.83      0.86      0.84      1000\n",
      "           1       0.99      0.97      0.98      1000\n",
      "           2       0.83      0.77      0.80      1000\n",
      "           3       0.89      0.89      0.89      1000\n",
      "           4       0.75      0.85      0.80      1000\n",
      "           5       0.96      0.97      0.97      1000\n",
      "           6       0.73      0.66      0.69      1000\n",
      "           7       0.94      0.95      0.95      1000\n",
      "           8       0.97      0.97      0.97      1000\n",
      "           9       0.96      0.96      0.96      1000\n",
      "\n",
      "   micro avg       0.88      0.88      0.88     10000\n",
      "   macro avg       0.88      0.88      0.88     10000\n",
      "weighted avg       0.88      0.88      0.88     10000\n",
      "\n"
     ]
    }
   ],
   "source": [
    "print(classification_report(Y_test, classes_x))"
   ]
  },
  {
   "cell_type": "markdown",
   "metadata": {},
   "source": [
    "## CNN \n",
    "**Out of curiosity**"
   ]
  },
  {
   "cell_type": "code",
   "execution_count": 207,
   "metadata": {
    "id": "21aevfPXefA8"
   },
   "outputs": [],
   "source": [
    "X_train = X_train.reshape(X_train.shape[0],28,28,1)\n",
    "X_valid = X_valid.reshape(X_valid.shape[0],28,28,1)\n",
    "X_test = X_test.reshape(X_test.shape[0],28,28,1)\n"
   ]
  },
  {
   "cell_type": "markdown",
   "metadata": {},
   "source": [
    "### Grid search for number of units"
   ]
  },
  {
   "cell_type": "code",
   "execution_count": 27,
   "metadata": {},
   "outputs": [
    {
     "name": "stderr",
     "output_type": "stream",
     "text": [
      "C:\\Users\\Arghavan\\Anaconda3\\lib\\site-packages\\ipykernel_launcher.py:14: DeprecationWarning: KerasRegressor is deprecated, use Sci-Keras (https://github.com/adriangb/scikeras) instead.\n",
      "  \n"
     ]
    }
   ],
   "source": [
    "def build_model(n_units1=32,n_units2=16):\n",
    "    model = keras.models.Sequential([\n",
    "    keras.layers.Conv2D(filters=n_units1, kernel_size=[3,3], activation= 'relu', input_shape=[28, 28,1]),\n",
    "    keras.layers.MaxPool2D(pool_size=[2,2]),\n",
    "    keras.layers.Conv2D(filters=n_units2, kernel_size=[2,2], activation='relu'),\n",
    "    keras.layers.Flatten(),\n",
    "    keras.layers.Dense(10, activation=\"softmax\")\n",
    "    ])\n",
    "  \n",
    "    model.compile(loss=\"sparse_categorical_crossentropy\",\n",
    "              optimizer='Adam',\n",
    "              metrics=[\"accuracy\"])\n",
    "    return model\n",
    "keras_reg = keras.wrappers.scikit_learn.KerasRegressor(build_model)"
   ]
  },
  {
   "cell_type": "code",
   "execution_count": 28,
   "metadata": {},
   "outputs": [],
   "source": [
    "param_distribs = {\n",
    "    \"n_units1\": [16, 32, 64,256],\n",
    "    \"n_units2\": [16, 32, 64,256],\n",
    "    \n",
    "}"
   ]
  },
  {
   "cell_type": "code",
   "execution_count": 30,
   "metadata": {},
   "outputs": [
    {
     "name": "stderr",
     "output_type": "stream",
     "text": [
      "C:\\Users\\Arghavan\\Anaconda3\\lib\\site-packages\\sklearn\\model_selection\\_split.py:2053: FutureWarning: You should specify a value for 'cv' instead of relying on the default value. The default value will change from 3 to 5 in version 0.22.\n",
      "  warnings.warn(CV_WARNING, FutureWarning)\n",
      "C:\\Users\\Arghavan\\Anaconda3\\lib\\site-packages\\sklearn\\base.py:65: DeprecationWarning: KerasRegressor is deprecated, use Sci-Keras (https://github.com/adriangb/scikeras) instead.\n",
      "  new_object = klass(**new_object_params)\n",
      "C:\\Users\\Arghavan\\Anaconda3\\lib\\site-packages\\sklearn\\base.py:65: DeprecationWarning: KerasRegressor is deprecated, use Sci-Keras (https://github.com/adriangb/scikeras) instead.\n",
      "  new_object = klass(**new_object_params)\n"
     ]
    },
    {
     "name": "stdout",
     "output_type": "stream",
     "text": [
      "Epoch 1/5\n",
      "261/261 [==============================] - 9s 32ms/step - loss: 0.9395 - accuracy: 0.7023 - val_loss: 0.5802 - val_accuracy: 0.7873\n",
      "Epoch 2/5\n",
      "261/261 [==============================] - 8s 31ms/step - loss: 0.5351 - accuracy: 0.8009 - val_loss: 0.5052 - val_accuracy: 0.8174\n",
      "Epoch 3/5\n",
      "261/261 [==============================] - 8s 30ms/step - loss: 0.4818 - accuracy: 0.8240 - val_loss: 0.4794 - val_accuracy: 0.8256\n",
      "Epoch 4/5\n",
      "261/261 [==============================] - 8s 29ms/step - loss: 0.4472 - accuracy: 0.8395 - val_loss: 0.4441 - val_accuracy: 0.8409\n",
      "Epoch 5/5\n",
      "261/261 [==============================] - 8s 30ms/step - loss: 0.4252 - accuracy: 0.8480 - val_loss: 0.4309 - val_accuracy: 0.8489\n",
      "521/521 [==============================] - 3s 6ms/step - loss: 0.4319 - accuracy: 0.8439\n",
      "1042/1042 [==============================] - 6s 6ms/step - loss: 0.4195 - accuracy: 0.8494\n"
     ]
    },
    {
     "name": "stderr",
     "output_type": "stream",
     "text": [
      "C:\\Users\\Arghavan\\Anaconda3\\lib\\site-packages\\sklearn\\base.py:65: DeprecationWarning: KerasRegressor is deprecated, use Sci-Keras (https://github.com/adriangb/scikeras) instead.\n",
      "  new_object = klass(**new_object_params)\n"
     ]
    },
    {
     "name": "stdout",
     "output_type": "stream",
     "text": [
      "Epoch 1/5\n",
      "261/261 [==============================] - 9s 32ms/step - loss: 0.9521 - accuracy: 0.6874 - val_loss: 0.6003 - val_accuracy: 0.7822\n",
      "Epoch 2/5\n",
      "261/261 [==============================] - 8s 31ms/step - loss: 0.5589 - accuracy: 0.7936 - val_loss: 0.5338 - val_accuracy: 0.8048\n",
      "Epoch 3/5\n",
      "261/261 [==============================] - 8s 31ms/step - loss: 0.5118 - accuracy: 0.8115 - val_loss: 0.4930 - val_accuracy: 0.8245\n",
      "Epoch 4/5\n",
      "261/261 [==============================] - 8s 31ms/step - loss: 0.4794 - accuracy: 0.8229 - val_loss: 0.4714 - val_accuracy: 0.8282\n",
      "Epoch 5/5\n",
      "261/261 [==============================] - 8s 31ms/step - loss: 0.4516 - accuracy: 0.8360 - val_loss: 0.4394 - val_accuracy: 0.8445\n",
      "521/521 [==============================] - 3s 6ms/step - loss: 0.4325 - accuracy: 0.8492\n",
      "1042/1042 [==============================] - 7s 6ms/step - loss: 0.4314 - accuracy: 0.8472\n"
     ]
    },
    {
     "name": "stderr",
     "output_type": "stream",
     "text": [
      "C:\\Users\\Arghavan\\Anaconda3\\lib\\site-packages\\sklearn\\base.py:65: DeprecationWarning: KerasRegressor is deprecated, use Sci-Keras (https://github.com/adriangb/scikeras) instead.\n",
      "  new_object = klass(**new_object_params)\n"
     ]
    },
    {
     "name": "stdout",
     "output_type": "stream",
     "text": [
      "Epoch 1/5\n",
      "261/261 [==============================] - 9s 32ms/step - loss: 0.9175 - accuracy: 0.6984 - val_loss: 0.5868 - val_accuracy: 0.7846\n",
      "Epoch 2/5\n",
      "261/261 [==============================] - 8s 31ms/step - loss: 0.5531 - accuracy: 0.7985 - val_loss: 0.5158 - val_accuracy: 0.8127\n",
      "Epoch 3/5\n",
      "261/261 [==============================] - 8s 30ms/step - loss: 0.4996 - accuracy: 0.8181 - val_loss: 0.4896 - val_accuracy: 0.8183\n",
      "Epoch 4/5\n",
      "261/261 [==============================] - 8s 29ms/step - loss: 0.4637 - accuracy: 0.8322 - val_loss: 0.4621 - val_accuracy: 0.8348\n",
      "Epoch 5/5\n",
      "261/261 [==============================] - 7s 29ms/step - loss: 0.4382 - accuracy: 0.8424 - val_loss: 0.4408 - val_accuracy: 0.8408\n",
      "521/521 [==============================] - 3s 6ms/step - loss: 0.4445 - accuracy: 0.8367\n",
      "1042/1042 [==============================] - 6s 6ms/step - loss: 0.4287 - accuracy: 0.8425\n"
     ]
    },
    {
     "name": "stderr",
     "output_type": "stream",
     "text": [
      "C:\\Users\\Arghavan\\Anaconda3\\lib\\site-packages\\sklearn\\base.py:65: DeprecationWarning: KerasRegressor is deprecated, use Sci-Keras (https://github.com/adriangb/scikeras) instead.\n",
      "  new_object = klass(**new_object_params)\n"
     ]
    },
    {
     "name": "stdout",
     "output_type": "stream",
     "text": [
      "Epoch 1/5\n",
      "261/261 [==============================] - 9s 32ms/step - loss: 0.8603 - accuracy: 0.7086 - val_loss: 0.5739 - val_accuracy: 0.7820\n",
      "Epoch 2/5\n",
      "261/261 [==============================] - 8s 31ms/step - loss: 0.5302 - accuracy: 0.8043 - val_loss: 0.5007 - val_accuracy: 0.820709 - accuracy: 0.\n",
      "Epoch 3/5\n",
      "261/261 [==============================] - 8s 31ms/step - loss: 0.4798 - accuracy: 0.8249 - val_loss: 0.4566 - val_accuracy: 0.8376\n",
      "Epoch 4/5\n",
      "261/261 [==============================] - 8s 31ms/step - loss: 0.4419 - accuracy: 0.8409 - val_loss: 0.4437 - val_accuracy: 0.8382\n",
      "Epoch 5/5\n",
      "261/261 [==============================] - 8s 31ms/step - loss: 0.4200 - accuracy: 0.8514 - val_loss: 0.4186 - val_accuracy: 0.8521\n",
      "521/521 [==============================] - 3s 6ms/step - loss: 0.4177 - accuracy: 0.8493\n",
      "1042/1042 [==============================] - 6s 6ms/step - loss: 0.4053 - accuracy: 0.8551\n"
     ]
    },
    {
     "name": "stderr",
     "output_type": "stream",
     "text": [
      "C:\\Users\\Arghavan\\Anaconda3\\lib\\site-packages\\sklearn\\base.py:65: DeprecationWarning: KerasRegressor is deprecated, use Sci-Keras (https://github.com/adriangb/scikeras) instead.\n",
      "  new_object = klass(**new_object_params)\n"
     ]
    },
    {
     "name": "stdout",
     "output_type": "stream",
     "text": [
      "Epoch 1/5\n",
      "261/261 [==============================] - 9s 34ms/step - loss: 0.8473 - accuracy: 0.7079 - val_loss: 0.5674 - val_accuracy: 0.7916\n",
      "Epoch 2/5\n",
      "261/261 [==============================] - 8s 33ms/step - loss: 0.5171 - accuracy: 0.8080 - val_loss: 0.4835 - val_accuracy: 0.8257\n",
      "Epoch 3/5\n",
      "261/261 [==============================] - 8s 32ms/step - loss: 0.4697 - accuracy: 0.8282 - val_loss: 0.4586 - val_accuracy: 0.8363\n",
      "Epoch 4/5\n",
      "261/261 [==============================] - 8s 32ms/step - loss: 0.4410 - accuracy: 0.8399 - val_loss: 0.4432 - val_accuracy: 0.8374\n",
      "Epoch 5/5\n",
      "261/261 [==============================] - 8s 32ms/step - loss: 0.4157 - accuracy: 0.8507 - val_loss: 0.4151 - val_accuracy: 0.8538\n",
      "521/521 [==============================] - 3s 6ms/step - loss: 0.4132 - accuracy: 0.8554\n",
      "1042/1042 [==============================] - 8s 8ms/step - loss: 0.4060 - accuracy: 0.8536\n"
     ]
    },
    {
     "name": "stderr",
     "output_type": "stream",
     "text": [
      "C:\\Users\\Arghavan\\Anaconda3\\lib\\site-packages\\sklearn\\base.py:65: DeprecationWarning: KerasRegressor is deprecated, use Sci-Keras (https://github.com/adriangb/scikeras) instead.\n",
      "  new_object = klass(**new_object_params)\n"
     ]
    },
    {
     "name": "stdout",
     "output_type": "stream",
     "text": [
      "Epoch 1/5\n",
      "261/261 [==============================] - 11s 38ms/step - loss: 0.8801 - accuracy: 0.7118 - val_loss: 0.5586 - val_accuracy: 0.7903\n",
      "Epoch 2/5\n",
      "261/261 [==============================] - 10s 37ms/step - loss: 0.5068 - accuracy: 0.8151 - val_loss: 0.4683 - val_accuracy: 0.8293\n",
      "Epoch 3/5\n",
      "261/261 [==============================] - 10s 37ms/step - loss: 0.4514 - accuracy: 0.8377 - val_loss: 0.4544 - val_accuracy: 0.8300\n",
      "Epoch 4/5\n",
      "261/261 [==============================] - 10s 37ms/step - loss: 0.4261 - accuracy: 0.8455 - val_loss: 0.4252 - val_accuracy: 0.8459\n",
      "Epoch 5/5\n",
      "261/261 [==============================] - 10s 37ms/step - loss: 0.4052 - accuracy: 0.8574 - val_loss: 0.4066 - val_accuracy: 0.8556\n",
      "521/521 [==============================] - 4s 8ms/step - loss: 0.4077 - accuracy: 0.8549\n",
      "1042/1042 [==============================] - 10s 10ms/step - loss: 0.3904 - accuracy: 0.8614\n"
     ]
    },
    {
     "name": "stderr",
     "output_type": "stream",
     "text": [
      "C:\\Users\\Arghavan\\Anaconda3\\lib\\site-packages\\sklearn\\base.py:65: DeprecationWarning: KerasRegressor is deprecated, use Sci-Keras (https://github.com/adriangb/scikeras) instead.\n",
      "  new_object = klass(**new_object_params)\n"
     ]
    },
    {
     "name": "stdout",
     "output_type": "stream",
     "text": [
      "Epoch 1/5\n",
      "261/261 [==============================] - 12s 43ms/step - loss: 0.7768 - accuracy: 0.7345 - val_loss: 0.5293 - val_accuracy: 0.8054\n",
      "Epoch 2/5\n",
      "261/261 [==============================] - 11s 42ms/step - loss: 0.4898 - accuracy: 0.8201 - val_loss: 0.4686 - val_accuracy: 0.8331\n",
      "Epoch 3/5\n",
      "261/261 [==============================] - 11s 42ms/step - loss: 0.4444 - accuracy: 0.8391 - val_loss: 0.4308 - val_accuracy: 0.8469\n",
      "Epoch 4/5\n",
      "261/261 [==============================] - 11s 43ms/step - loss: 0.4114 - accuracy: 0.8532 - val_loss: 0.4124 - val_accuracy: 0.8538\n",
      "Epoch 5/5\n",
      "261/261 [==============================] - 11s 42ms/step - loss: 0.3892 - accuracy: 0.8610 - val_loss: 0.3920 - val_accuracy: 0.8658\n",
      "521/521 [==============================] - 4s 8ms/step - loss: 0.3875 - accuracy: 0.8621\n",
      "1042/1042 [==============================] - 9s 8ms/step - loss: 0.3742 - accuracy: 0.8679\n"
     ]
    },
    {
     "name": "stderr",
     "output_type": "stream",
     "text": [
      "C:\\Users\\Arghavan\\Anaconda3\\lib\\site-packages\\sklearn\\base.py:65: DeprecationWarning: KerasRegressor is deprecated, use Sci-Keras (https://github.com/adriangb/scikeras) instead.\n",
      "  new_object = klass(**new_object_params)\n"
     ]
    },
    {
     "name": "stdout",
     "output_type": "stream",
     "text": [
      "Epoch 1/5\n",
      "261/261 [==============================] - 12s 44ms/step - loss: 0.8030 - accuracy: 0.7228 - val_loss: 0.5546 - val_accuracy: 0.7931\n",
      "Epoch 2/5\n",
      "261/261 [==============================] - 11s 42ms/step - loss: 0.5160 - accuracy: 0.8082 - val_loss: 0.4865 - val_accuracy: 0.8205\n",
      "Epoch 3/5\n",
      "261/261 [==============================] - 11s 42ms/step - loss: 0.4636 - accuracy: 0.8304 - val_loss: 0.4468 - val_accuracy: 0.8410\n",
      "Epoch 4/5\n",
      "261/261 [==============================] - 11s 42ms/step - loss: 0.4294 - accuracy: 0.8445 - val_loss: 0.4380 - val_accuracy: 0.8488\n",
      "Epoch 5/5\n",
      "261/261 [==============================] - 11s 42ms/step - loss: 0.4061 - accuracy: 0.8533 - val_loss: 0.4096 - val_accuracy: 0.8574\n",
      "521/521 [==============================] - 4s 8ms/step - loss: 0.3970 - accuracy: 0.8611\n",
      "1042/1042 [==============================] - 8s 7ms/step - loss: 0.3904 - accuracy: 0.8586\n"
     ]
    },
    {
     "name": "stderr",
     "output_type": "stream",
     "text": [
      "C:\\Users\\Arghavan\\Anaconda3\\lib\\site-packages\\sklearn\\base.py:65: DeprecationWarning: KerasRegressor is deprecated, use Sci-Keras (https://github.com/adriangb/scikeras) instead.\n",
      "  new_object = klass(**new_object_params)\n"
     ]
    },
    {
     "name": "stdout",
     "output_type": "stream",
     "text": [
      "Epoch 1/5\n",
      "261/261 [==============================] - 13s 47ms/step - loss: 0.8056 - accuracy: 0.7189 - val_loss: 0.5510 - val_accuracy: 0.8018\n",
      "Epoch 2/5\n",
      "261/261 [==============================] - 12s 45ms/step - loss: 0.5103 - accuracy: 0.8124 - val_loss: 0.4743 - val_accuracy: 0.8288\n",
      "Epoch 3/5\n",
      "261/261 [==============================] - 12s 45ms/step - loss: 0.4512 - accuracy: 0.8398 - val_loss: 0.4329 - val_accuracy: 0.8461\n",
      "Epoch 4/5\n",
      "261/261 [==============================] - 12s 45ms/step - loss: 0.4167 - accuracy: 0.8504 - val_loss: 0.4202 - val_accuracy: 0.8506\n",
      "Epoch 5/5\n",
      "261/261 [==============================] - 12s 45ms/step - loss: 0.3921 - accuracy: 0.8609 - val_loss: 0.3906 - val_accuracy: 0.8643\n",
      "521/521 [==============================] - 7s 13ms/step - loss: 0.3934 - accuracy: 0.8591\n",
      "1042/1042 [==============================] - 13s 13ms/step - loss: 0.3724 - accuracy: 0.86910s - loss: 0.3720 - accura\n"
     ]
    },
    {
     "name": "stderr",
     "output_type": "stream",
     "text": [
      "C:\\Users\\Arghavan\\Anaconda3\\lib\\site-packages\\sklearn\\base.py:65: DeprecationWarning: KerasRegressor is deprecated, use Sci-Keras (https://github.com/adriangb/scikeras) instead.\n",
      "  new_object = klass(**new_object_params)\n"
     ]
    },
    {
     "name": "stdout",
     "output_type": "stream",
     "text": [
      "Epoch 1/5\n",
      "261/261 [==============================] - 22s 81ms/step - loss: 0.7005 - accuracy: 0.7538 - val_loss: 0.4874 - val_accuracy: 0.8216\n",
      "Epoch 2/5\n",
      "261/261 [==============================] - 21s 80ms/step - loss: 0.4507 - accuracy: 0.8360 - val_loss: 0.4357 - val_accuracy: 0.8456\n",
      "Epoch 3/5\n",
      "261/261 [==============================] - 21s 82ms/step - loss: 0.4047 - accuracy: 0.8552 - val_loss: 0.4020 - val_accuracy: 0.8623\n",
      "Epoch 4/5\n",
      "261/261 [==============================] - 21s 80ms/step - loss: 0.3766 - accuracy: 0.8672 - val_loss: 0.3892 - val_accuracy: 0.8649\n",
      "Epoch 5/5\n",
      "261/261 [==============================] - 21s 80ms/step - loss: 0.3588 - accuracy: 0.8729 - val_loss: 0.3673 - val_accuracy: 0.8745\n",
      "521/521 [==============================] - 6s 11ms/step - loss: 0.3617 - accuracy: 0.8725\n",
      "1042/1042 [==============================] - 11s 11ms/step - loss: 0.3389 - accuracy: 0.8801\n"
     ]
    },
    {
     "name": "stderr",
     "output_type": "stream",
     "text": [
      "C:\\Users\\Arghavan\\Anaconda3\\lib\\site-packages\\sklearn\\base.py:65: DeprecationWarning: KerasRegressor is deprecated, use Sci-Keras (https://github.com/adriangb/scikeras) instead.\n",
      "  new_object = klass(**new_object_params)\n"
     ]
    },
    {
     "name": "stdout",
     "output_type": "stream",
     "text": [
      "Epoch 1/5\n",
      "261/261 [==============================] - 22s 81ms/step - loss: 0.7046 - accuracy: 0.7496 - val_loss: 0.4937 - val_accuracy: 0.8211\n",
      "Epoch 2/5\n",
      "261/261 [==============================] - 21s 80ms/step - loss: 0.4480 - accuracy: 0.8376 - val_loss: 0.4329 - val_accuracy: 0.8457\n",
      "Epoch 3/5\n",
      "261/261 [==============================] - 21s 80ms/step - loss: 0.3995 - accuracy: 0.8572 - val_loss: 0.3864 - val_accuracy: 0.8665\n",
      "Epoch 4/5\n",
      "261/261 [==============================] - 21s 79ms/step - loss: 0.3739 - accuracy: 0.8672 - val_loss: 0.3763 - val_accuracy: 0.8672\n",
      "Epoch 5/5\n",
      "261/261 [==============================] - 21s 80ms/step - loss: 0.3551 - accuracy: 0.8715 - val_loss: 0.3769 - val_accuracy: 0.8705\n",
      "521/521 [==============================] - 6s 11ms/step - loss: 0.3700 - accuracy: 0.8731\n",
      "1042/1042 [==============================] - 11s 11ms/step - loss: 0.3411 - accuracy: 0.8779\n"
     ]
    },
    {
     "name": "stderr",
     "output_type": "stream",
     "text": [
      "C:\\Users\\Arghavan\\Anaconda3\\lib\\site-packages\\sklearn\\base.py:65: DeprecationWarning: KerasRegressor is deprecated, use Sci-Keras (https://github.com/adriangb/scikeras) instead.\n",
      "  new_object = klass(**new_object_params)\n"
     ]
    },
    {
     "name": "stdout",
     "output_type": "stream",
     "text": [
      "Epoch 1/5\n",
      "261/261 [==============================] - 21s 77ms/step - loss: 0.6909 - accuracy: 0.7584 - val_loss: 0.4925 - val_accuracy: 0.8153\n",
      "Epoch 2/5\n",
      "261/261 [==============================] - 20s 77ms/step - loss: 0.4410 - accuracy: 0.8422 - val_loss: 0.4339 - val_accuracy: 0.8437\n",
      "Epoch 3/5\n",
      "261/261 [==============================] - 20s 76ms/step - loss: 0.3943 - accuracy: 0.8604 - val_loss: 0.4014 - val_accuracy: 0.8594\n",
      "Epoch 4/5\n",
      "261/261 [==============================] - 20s 76ms/step - loss: 0.3652 - accuracy: 0.8709 - val_loss: 0.3731 - val_accuracy: 0.8711\n",
      "Epoch 5/5\n",
      "261/261 [==============================] - 20s 76ms/step - loss: 0.3460 - accuracy: 0.8771 - val_loss: 0.3535 - val_accuracy: 0.8753\n",
      "521/521 [==============================] - 5s 10ms/step - loss: 0.3576 - accuracy: 0.8740\n",
      "1042/1042 [==============================] - 11s 10ms/step - loss: 0.3280 - accuracy: 0.8830\n"
     ]
    },
    {
     "name": "stderr",
     "output_type": "stream",
     "text": [
      "C:\\Users\\Arghavan\\Anaconda3\\lib\\site-packages\\sklearn\\base.py:65: DeprecationWarning: KerasRegressor is deprecated, use Sci-Keras (https://github.com/adriangb/scikeras) instead.\n",
      "  new_object = klass(**new_object_params)\n"
     ]
    },
    {
     "name": "stdout",
     "output_type": "stream",
     "text": [
      "Epoch 1/5\n",
      "261/261 [==============================] - 14s 51ms/step - loss: 0.8785 - accuracy: 0.7087 - val_loss: 0.5795 - val_accuracy: 0.7849\n",
      "Epoch 2/5\n",
      "261/261 [==============================] - 13s 50ms/step - loss: 0.5454 - accuracy: 0.7969 - val_loss: 0.5283 - val_accuracy: 0.8029\n",
      "Epoch 3/5\n",
      "261/261 [==============================] - 13s 50ms/step - loss: 0.4950 - accuracy: 0.8168 - val_loss: 0.4959 - val_accuracy: 0.8156\n",
      "Epoch 4/5\n",
      "261/261 [==============================] - 13s 50ms/step - loss: 0.4640 - accuracy: 0.8300 - val_loss: 0.4688 - val_accuracy: 0.8284\n",
      "Epoch 5/5\n",
      "261/261 [==============================] - 13s 50ms/step - loss: 0.4363 - accuracy: 0.8405 - val_loss: 0.4308 - val_accuracy: 0.8425\n",
      "521/521 [==============================] - 5s 10ms/step - loss: 0.4315 - accuracy: 0.8430\n",
      "1042/1042 [==============================] - 10s 10ms/step - loss: 0.4191 - accuracy: 0.8473\n"
     ]
    },
    {
     "name": "stderr",
     "output_type": "stream",
     "text": [
      "C:\\Users\\Arghavan\\Anaconda3\\lib\\site-packages\\sklearn\\base.py:65: DeprecationWarning: KerasRegressor is deprecated, use Sci-Keras (https://github.com/adriangb/scikeras) instead.\n",
      "  new_object = klass(**new_object_params)\n"
     ]
    },
    {
     "name": "stdout",
     "output_type": "stream",
     "text": [
      "Epoch 1/5\n",
      "261/261 [==============================] - 14s 50ms/step - loss: 0.9094 - accuracy: 0.7028 - val_loss: 0.5845 - val_accuracy: 0.7862\n",
      "Epoch 2/5\n",
      "261/261 [==============================] - 13s 49ms/step - loss: 0.5479 - accuracy: 0.7938 - val_loss: 0.5163 - val_accuracy: 0.8120oss: 0.551 - ETA: 1s -\n",
      "Epoch 3/5\n",
      "261/261 [==============================] - 13s 49ms/step - loss: 0.4982 - accuracy: 0.8141 - val_loss: 0.4743 - val_accuracy: 0.8287\n",
      "Epoch 4/5\n",
      "261/261 [==============================] - 13s 49ms/step - loss: 0.4582 - accuracy: 0.8295 - val_loss: 0.4483 - val_accuracy: 0.8360\n",
      "Epoch 5/5\n",
      "261/261 [==============================] - 13s 49ms/step - loss: 0.4341 - accuracy: 0.8424 - val_loss: 0.4237 - val_accuracy: 0.8516 - loss: 0.4354 - accuracy\n",
      "521/521 [==============================] - 4s 8ms/step - loss: 0.4191 - accuracy: 0.8530\n",
      "1042/1042 [==============================] - 9s 9ms/step - loss: 0.4146 - accuracy: 0.8512\n"
     ]
    },
    {
     "name": "stderr",
     "output_type": "stream",
     "text": [
      "C:\\Users\\Arghavan\\Anaconda3\\lib\\site-packages\\sklearn\\base.py:65: DeprecationWarning: KerasRegressor is deprecated, use Sci-Keras (https://github.com/adriangb/scikeras) instead.\n",
      "  new_object = klass(**new_object_params)\n"
     ]
    },
    {
     "name": "stdout",
     "output_type": "stream",
     "text": [
      "Epoch 1/5\n",
      "261/261 [==============================] - 14s 50ms/step - loss: 0.8857 - accuracy: 0.7039 - val_loss: 0.5834 - val_accuracy: 0.7741\n",
      "Epoch 2/5\n",
      "261/261 [==============================] - 13s 48ms/step - loss: 0.5546 - accuracy: 0.7963 - val_loss: 0.5181 - val_accuracy: 0.8164\n",
      "Epoch 3/5\n",
      "261/261 [==============================] - 13s 48ms/step - loss: 0.5084 - accuracy: 0.8147 - val_loss: 0.4945 - val_accuracy: 0.8226\n",
      "Epoch 4/5\n",
      "261/261 [==============================] - 13s 49ms/step - loss: 0.4823 - accuracy: 0.8253 - val_loss: 0.4713 - val_accuracy: 0.8305\n",
      "Epoch 5/5\n",
      "261/261 [==============================] - 13s 49ms/step - loss: 0.4565 - accuracy: 0.8374 - val_loss: 0.4641 - val_accuracy: 0.8348\n",
      "521/521 [==============================] - 4s 9ms/step - loss: 0.4617 - accuracy: 0.8295\n",
      "1042/1042 [==============================] - 10s 9ms/step - loss: 0.4468 - accuracy: 0.8368\n"
     ]
    },
    {
     "name": "stderr",
     "output_type": "stream",
     "text": [
      "C:\\Users\\Arghavan\\Anaconda3\\lib\\site-packages\\sklearn\\base.py:65: DeprecationWarning: KerasRegressor is deprecated, use Sci-Keras (https://github.com/adriangb/scikeras) instead.\n",
      "  new_object = klass(**new_object_params)\n"
     ]
    },
    {
     "name": "stdout",
     "output_type": "stream",
     "text": [
      "Epoch 1/5\n",
      "261/261 [==============================] - 14s 52ms/step - loss: 0.8491 - accuracy: 0.7058 - val_loss: 0.5534 - val_accuracy: 0.7902\n",
      "Epoch 2/5\n",
      "261/261 [==============================] - 13s 51ms/step - loss: 0.5067 - accuracy: 0.8132 - val_loss: 0.4704 - val_accuracy: 0.8279\n",
      "Epoch 3/5\n",
      "261/261 [==============================] - 13s 51ms/step - loss: 0.4530 - accuracy: 0.8383 - val_loss: 0.4446 - val_accuracy: 0.8419\n",
      "Epoch 4/5\n",
      "261/261 [==============================] - 13s 51ms/step - loss: 0.4236 - accuracy: 0.8481 - val_loss: 0.4203 - val_accuracy: 0.8533\n",
      "Epoch 5/5\n",
      "261/261 [==============================] - 13s 51ms/step - loss: 0.3993 - accuracy: 0.8583 - val_loss: 0.4135 - val_accuracy: 0.8552\n",
      "521/521 [==============================] - 4s 8ms/step - loss: 0.4098 - accuracy: 0.8543\n",
      "1042/1042 [==============================] - 10s 9ms/step - loss: 0.3958 - accuracy: 0.8603\n"
     ]
    },
    {
     "name": "stderr",
     "output_type": "stream",
     "text": [
      "C:\\Users\\Arghavan\\Anaconda3\\lib\\site-packages\\sklearn\\base.py:65: DeprecationWarning: KerasRegressor is deprecated, use Sci-Keras (https://github.com/adriangb/scikeras) instead.\n",
      "  new_object = klass(**new_object_params)\n"
     ]
    },
    {
     "name": "stdout",
     "output_type": "stream",
     "text": [
      "Epoch 1/5\n",
      "261/261 [==============================] - 14s 53ms/step - loss: 0.8416 - accuracy: 0.7056 - val_loss: 0.5507 - val_accuracy: 0.7984\n",
      "Epoch 2/5\n",
      "261/261 [==============================] - 13s 51ms/step - loss: 0.5153 - accuracy: 0.8069 - val_loss: 0.5083 - val_accuracy: 0.8052\n",
      "Epoch 3/5\n",
      "261/261 [==============================] - 13s 51ms/step - loss: 0.4613 - accuracy: 0.8310 - val_loss: 0.4567 - val_accuracy: 0.8354\n",
      "Epoch 4/5\n",
      "261/261 [==============================] - 13s 52ms/step - loss: 0.4266 - accuracy: 0.8448 - val_loss: 0.4369 - val_accuracy: 0.8469\n",
      "Epoch 5/5\n",
      "261/261 [==============================] - 14s 52ms/step - loss: 0.4042 - accuracy: 0.8544 - val_loss: 0.4224 - val_accuracy: 0.8487\n",
      "521/521 [==============================] - 5s 9ms/step - loss: 0.4211 - accuracy: 0.8493\n",
      "1042/1042 [==============================] - 9s 8ms/step - loss: 0.4170 - accuracy: 0.8485\n"
     ]
    },
    {
     "name": "stderr",
     "output_type": "stream",
     "text": [
      "C:\\Users\\Arghavan\\Anaconda3\\lib\\site-packages\\sklearn\\base.py:65: DeprecationWarning: KerasRegressor is deprecated, use Sci-Keras (https://github.com/adriangb/scikeras) instead.\n",
      "  new_object = klass(**new_object_params)\n"
     ]
    },
    {
     "name": "stdout",
     "output_type": "stream",
     "text": [
      "Epoch 1/5\n",
      "261/261 [==============================] - 14s 52ms/step - loss: 0.8200 - accuracy: 0.7137 - val_loss: 0.5507 - val_accuracy: 0.7982\n",
      "Epoch 2/5\n",
      "261/261 [==============================] - 13s 51ms/step - loss: 0.5269 - accuracy: 0.8054 - val_loss: 0.4914 - val_accuracy: 0.8216\n",
      "Epoch 3/5\n",
      "261/261 [==============================] - 13s 51ms/step - loss: 0.4690 - accuracy: 0.8299 - val_loss: 0.4490 - val_accuracy: 0.8384\n",
      "Epoch 4/5\n",
      "261/261 [==============================] - 14s 52ms/step - loss: 0.4349 - accuracy: 0.8433 - val_loss: 0.4360 - val_accuracy: 0.8446\n",
      "Epoch 5/5\n",
      "261/261 [==============================] - 14s 53ms/step - loss: 0.4099 - accuracy: 0.8547 - val_loss: 0.4172 - val_accuracy: 0.8506\n",
      "521/521 [==============================] - 4s 8ms/step - loss: 0.4177 - accuracy: 0.8489\n",
      "1042/1042 [==============================] - 9s 9ms/step - loss: 0.3963 - accuracy: 0.8586\n"
     ]
    },
    {
     "name": "stderr",
     "output_type": "stream",
     "text": [
      "C:\\Users\\Arghavan\\Anaconda3\\lib\\site-packages\\sklearn\\base.py:65: DeprecationWarning: KerasRegressor is deprecated, use Sci-Keras (https://github.com/adriangb/scikeras) instead.\n",
      "  new_object = klass(**new_object_params)\n"
     ]
    },
    {
     "name": "stdout",
     "output_type": "stream",
     "text": [
      "Epoch 1/5\n",
      "261/261 [==============================] - 18s 65ms/step - loss: 0.7907 - accuracy: 0.7255 - val_loss: 0.5478 - val_accuracy: 0.7961\n",
      "Epoch 2/5\n",
      "261/261 [==============================] - 16s 63ms/step - loss: 0.4966 - accuracy: 0.8191 - val_loss: 0.4751 - val_accuracy: 0.8314\n",
      "Epoch 3/5\n",
      "261/261 [==============================] - 16s 63ms/step - loss: 0.4410 - accuracy: 0.8412 - val_loss: 0.4274 - val_accuracy: 0.8490\n",
      "Epoch 4/5\n",
      "261/261 [==============================] - 16s 62ms/step - loss: 0.4085 - accuracy: 0.8556 - val_loss: 0.3991 - val_accuracy: 0.8618\n",
      "Epoch 5/5\n",
      "261/261 [==============================] - 16s 63ms/step - loss: 0.3877 - accuracy: 0.8625 - val_loss: 0.3884 - val_accuracy: 0.8627\n",
      "521/521 [==============================] - 5s 9ms/step - loss: 0.3859 - accuracy: 0.8625\n",
      "1042/1042 [==============================] - 9s 9ms/step - loss: 0.3733 - accuracy: 0.8669\n"
     ]
    },
    {
     "name": "stderr",
     "output_type": "stream",
     "text": [
      "C:\\Users\\Arghavan\\Anaconda3\\lib\\site-packages\\sklearn\\base.py:65: DeprecationWarning: KerasRegressor is deprecated, use Sci-Keras (https://github.com/adriangb/scikeras) instead.\n",
      "  new_object = klass(**new_object_params)\n"
     ]
    },
    {
     "name": "stdout",
     "output_type": "stream",
     "text": [
      "Epoch 1/5\n",
      "261/261 [==============================] - 16s 58ms/step - loss: 0.7785 - accuracy: 0.7277 - val_loss: 0.5079 - val_accuracy: 0.8180\n",
      "Epoch 2/5\n",
      "261/261 [==============================] - 14s 55ms/step - loss: 0.4840 - accuracy: 0.8206 - val_loss: 0.4489 - val_accuracy: 0.8380\n",
      "Epoch 3/5\n",
      "261/261 [==============================] - 14s 54ms/step - loss: 0.4258 - accuracy: 0.8473 - val_loss: 0.4173 - val_accuracy: 0.8559\n",
      "Epoch 4/5\n",
      "261/261 [==============================] - 15s 56ms/step - loss: 0.3970 - accuracy: 0.8569 - val_loss: 0.4013 - val_accuracy: 0.8594\n",
      "Epoch 5/5\n",
      "261/261 [==============================] - 15s 58ms/step - loss: 0.3768 - accuracy: 0.8660 - val_loss: 0.3828 - val_accuracy: 0.8628\n",
      "521/521 [==============================] - 4s 8ms/step - loss: 0.3807 - accuracy: 0.8667\n",
      "1042/1042 [==============================] - 8s 7ms/step - loss: 0.3651 - accuracy: 0.8685\n"
     ]
    },
    {
     "name": "stderr",
     "output_type": "stream",
     "text": [
      "C:\\Users\\Arghavan\\Anaconda3\\lib\\site-packages\\sklearn\\base.py:65: DeprecationWarning: KerasRegressor is deprecated, use Sci-Keras (https://github.com/adriangb/scikeras) instead.\n",
      "  new_object = klass(**new_object_params)\n"
     ]
    },
    {
     "name": "stdout",
     "output_type": "stream",
     "text": [
      "Epoch 1/5\n",
      "261/261 [==============================] - 16s 58ms/step - loss: 0.7639 - accuracy: 0.7366 - val_loss: 0.5291 - val_accuracy: 0.8035\n",
      "Epoch 2/5\n",
      "261/261 [==============================] - 15s 57ms/step - loss: 0.4801 - accuracy: 0.8235 - val_loss: 0.4495 - val_accuracy: 0.8405\n",
      "Epoch 3/5\n",
      "261/261 [==============================] - 15s 56ms/step - loss: 0.4289 - accuracy: 0.8466 - val_loss: 0.4307 - val_accuracy: 0.8447\n",
      "Epoch 4/5\n",
      "261/261 [==============================] - 15s 57ms/step - loss: 0.4006 - accuracy: 0.8574 - val_loss: 0.3905 - val_accuracy: 0.8657\n",
      "Epoch 5/5\n",
      "261/261 [==============================] - 15s 58ms/step - loss: 0.3765 - accuracy: 0.8683 - val_loss: 0.3889 - val_accuracy: 0.8672\n",
      "521/521 [==============================] - 4s 8ms/step - loss: 0.3880 - accuracy: 0.8641\n",
      "1042/1042 [==============================] - 8s 8ms/step - loss: 0.3637 - accuracy: 0.8738\n"
     ]
    },
    {
     "name": "stderr",
     "output_type": "stream",
     "text": [
      "C:\\Users\\Arghavan\\Anaconda3\\lib\\site-packages\\sklearn\\base.py:65: DeprecationWarning: KerasRegressor is deprecated, use Sci-Keras (https://github.com/adriangb/scikeras) instead.\n",
      "  new_object = klass(**new_object_params)\n"
     ]
    },
    {
     "name": "stdout",
     "output_type": "stream",
     "text": [
      "Epoch 1/5\n",
      "261/261 [==============================] - 26s 97ms/step - loss: 0.6684 - accuracy: 0.7623 - val_loss: 0.4761 - val_accuracy: 0.8364\n",
      "Epoch 2/5\n",
      "261/261 [==============================] - 25s 96ms/step - loss: 0.4301 - accuracy: 0.8462 - val_loss: 0.4056 - val_accuracy: 0.8573\n",
      "Epoch 3/5\n",
      "261/261 [==============================] - 25s 96ms/step - loss: 0.3885 - accuracy: 0.8632 - val_loss: 0.3853 - val_accuracy: 0.8662\n",
      "Epoch 4/5\n",
      "261/261 [==============================] - 25s 97ms/step - loss: 0.3620 - accuracy: 0.8729 - val_loss: 0.3722 - val_accuracy: 0.8728\n",
      "Epoch 5/5\n",
      "261/261 [==============================] - 25s 96ms/step - loss: 0.3405 - accuracy: 0.8795 - val_loss: 0.3447 - val_accuracy: 0.8818\n",
      "521/521 [==============================] - 6s 11ms/step - loss: 0.3378 - accuracy: 0.8811\n",
      "1042/1042 [==============================] - 12s 11ms/step - loss: 0.3167 - accuracy: 0.8890\n"
     ]
    },
    {
     "name": "stderr",
     "output_type": "stream",
     "text": [
      "C:\\Users\\Arghavan\\Anaconda3\\lib\\site-packages\\sklearn\\base.py:65: DeprecationWarning: KerasRegressor is deprecated, use Sci-Keras (https://github.com/adriangb/scikeras) instead.\n",
      "  new_object = klass(**new_object_params)\n"
     ]
    },
    {
     "name": "stdout",
     "output_type": "stream",
     "text": [
      "Epoch 1/5\n",
      "261/261 [==============================] - 25s 95ms/step - loss: 0.6722 - accuracy: 0.7615 - val_loss: 0.4567 - val_accuracy: 0.8366\n",
      "Epoch 2/5\n",
      "261/261 [==============================] - 24s 93ms/step - loss: 0.4247 - accuracy: 0.8469 - val_loss: 0.3988 - val_accuracy: 0.8626\n",
      "Epoch 3/5\n",
      "261/261 [==============================] - 25s 94ms/step - loss: 0.3864 - accuracy: 0.8633 - val_loss: 0.3836 - val_accuracy: 0.8677\n",
      "Epoch 4/5\n",
      "261/261 [==============================] - 24s 94ms/step - loss: 0.3541 - accuracy: 0.8750 - val_loss: 0.3685 - val_accuracy: 0.8696\n",
      "Epoch 5/5\n",
      "261/261 [==============================] - 24s 92ms/step - loss: 0.3361 - accuracy: 0.8800 - val_loss: 0.3545 - val_accuracy: 0.8769\n",
      "521/521 [==============================] - 6s 11ms/step - loss: 0.3504 - accuracy: 0.8799\n",
      "1042/1042 [==============================] - 11s 11ms/step - loss: 0.3213 - accuracy: 0.8832\n"
     ]
    },
    {
     "name": "stderr",
     "output_type": "stream",
     "text": [
      "C:\\Users\\Arghavan\\Anaconda3\\lib\\site-packages\\sklearn\\base.py:65: DeprecationWarning: KerasRegressor is deprecated, use Sci-Keras (https://github.com/adriangb/scikeras) instead.\n",
      "  new_object = klass(**new_object_params)\n"
     ]
    },
    {
     "name": "stdout",
     "output_type": "stream",
     "text": [
      "Epoch 1/5\n",
      "261/261 [==============================] - 26s 97ms/step - loss: 0.6871 - accuracy: 0.7565 - val_loss: 0.4780 - val_accuracy: 0.8291\n",
      "Epoch 2/5\n",
      "261/261 [==============================] - 26s 100ms/step - loss: 0.4424 - accuracy: 0.8421 - val_loss: 0.4434 - val_accuracy: 0.8427\n",
      "Epoch 3/5\n",
      "261/261 [==============================] - 26s 101ms/step - loss: 0.3947 - accuracy: 0.8603 - val_loss: 0.4287 - val_accuracy: 0.8447\n",
      "Epoch 4/5\n",
      "261/261 [==============================] - 26s 101ms/step - loss: 0.3667 - accuracy: 0.8709 - val_loss: 0.3848 - val_accuracy: 0.8675\n",
      "Epoch 5/5\n",
      "261/261 [==============================] - 26s 101ms/step - loss: 0.3486 - accuracy: 0.8778 - val_loss: 0.3555 - val_accuracy: 0.8757\n",
      "521/521 [==============================] - 6s 12ms/step - loss: 0.3548 - accuracy: 0.8749\n",
      "1042/1042 [==============================] - 12s 12ms/step - loss: 0.3265 - accuracy: 0.8849\n"
     ]
    },
    {
     "name": "stderr",
     "output_type": "stream",
     "text": [
      "C:\\Users\\Arghavan\\Anaconda3\\lib\\site-packages\\sklearn\\base.py:65: DeprecationWarning: KerasRegressor is deprecated, use Sci-Keras (https://github.com/adriangb/scikeras) instead.\n",
      "  new_object = klass(**new_object_params)\n"
     ]
    },
    {
     "name": "stdout",
     "output_type": "stream",
     "text": [
      "Epoch 1/5\n",
      "261/261 [==============================] - 23s 84ms/step - loss: 0.8597 - accuracy: 0.7053 - val_loss: 0.5776 - val_accuracy: 0.7929\n",
      "Epoch 2/5\n",
      "261/261 [==============================] - 22s 83ms/step - loss: 0.5428 - accuracy: 0.7999 - val_loss: 0.5284 - val_accuracy: 0.8094\n",
      "Epoch 3/5\n",
      "261/261 [==============================] - 22s 83ms/step - loss: 0.4973 - accuracy: 0.8154 - val_loss: 0.4887 - val_accuracy: 0.8270\n",
      "Epoch 4/5\n",
      "261/261 [==============================] - 22s 83ms/step - loss: 0.4622 - accuracy: 0.8325 - val_loss: 0.4540 - val_accuracy: 0.8383\n",
      "Epoch 5/5\n",
      "261/261 [==============================] - 22s 83ms/step - loss: 0.4350 - accuracy: 0.8449 - val_loss: 0.4391 - val_accuracy: 0.8447\n",
      "521/521 [==============================] - 6s 12ms/step - loss: 0.4328 - accuracy: 0.8437\n",
      "1042/1042 [==============================] - 11s 11ms/step - loss: 0.4223 - accuracy: 0.8476\n"
     ]
    },
    {
     "name": "stderr",
     "output_type": "stream",
     "text": [
      "C:\\Users\\Arghavan\\Anaconda3\\lib\\site-packages\\sklearn\\base.py:65: DeprecationWarning: KerasRegressor is deprecated, use Sci-Keras (https://github.com/adriangb/scikeras) instead.\n",
      "  new_object = klass(**new_object_params)\n"
     ]
    },
    {
     "name": "stdout",
     "output_type": "stream",
     "text": [
      "Epoch 1/5\n",
      "261/261 [==============================] - 23s 84ms/step - loss: 0.8673 - accuracy: 0.6970 - val_loss: 0.5652 - val_accuracy: 0.7903\n",
      "Epoch 2/5\n",
      "261/261 [==============================] - 22s 84ms/step - loss: 0.5337 - accuracy: 0.8005 - val_loss: 0.4995 - val_accuracy: 0.8190\n",
      "Epoch 3/5\n",
      "261/261 [==============================] - 23s 88ms/step - loss: 0.4853 - accuracy: 0.8213 - val_loss: 0.4745 - val_accuracy: 0.8223\n",
      "Epoch 4/5\n",
      "261/261 [==============================] - 22s 83ms/step - loss: 0.4485 - accuracy: 0.8384 - val_loss: 0.4640 - val_accuracy: 0.8261\n",
      "Epoch 5/5\n",
      "261/261 [==============================] - 22s 83ms/step - loss: 0.4253 - accuracy: 0.8467 - val_loss: 0.4358 - val_accuracy: 0.8420\n",
      "521/521 [==============================] - 5s 9ms/step - loss: 0.4342 - accuracy: 0.8452\n",
      "1042/1042 [==============================] - 11s 10ms/step - loss: 0.4266 - accuracy: 0.8439\n"
     ]
    },
    {
     "name": "stderr",
     "output_type": "stream",
     "text": [
      "C:\\Users\\Arghavan\\Anaconda3\\lib\\site-packages\\sklearn\\base.py:65: DeprecationWarning: KerasRegressor is deprecated, use Sci-Keras (https://github.com/adriangb/scikeras) instead.\n",
      "  new_object = klass(**new_object_params)\n"
     ]
    },
    {
     "name": "stdout",
     "output_type": "stream",
     "text": [
      "Epoch 1/5\n",
      "261/261 [==============================] - 22s 83ms/step - loss: 0.8878 - accuracy: 0.6949 - val_loss: 0.5763 - val_accuracy: 0.7837\n",
      "Epoch 2/5\n",
      "261/261 [==============================] - 21s 82ms/step - loss: 0.5449 - accuracy: 0.8003 - val_loss: 0.5472 - val_accuracy: 0.8058\n",
      "Epoch 3/5\n",
      "261/261 [==============================] - 21s 82ms/step - loss: 0.4960 - accuracy: 0.8210 - val_loss: 0.4897 - val_accuracy: 0.8229\n",
      "Epoch 4/5\n",
      "261/261 [==============================] - 22s 83ms/step - loss: 0.4645 - accuracy: 0.8313 - val_loss: 0.4529 - val_accuracy: 0.8393\n",
      "Epoch 5/5\n",
      "261/261 [==============================] - 22s 83ms/step - loss: 0.4370 - accuracy: 0.8446 - val_loss: 0.4324 - val_accuracy: 0.8468\n",
      "521/521 [==============================] - 5s 10ms/step - loss: 0.4334 - accuracy: 0.8445\n",
      "1042/1042 [==============================] - 11s 11ms/step - loss: 0.4167 - accuracy: 0.8529\n"
     ]
    },
    {
     "name": "stderr",
     "output_type": "stream",
     "text": [
      "C:\\Users\\Arghavan\\Anaconda3\\lib\\site-packages\\sklearn\\base.py:65: DeprecationWarning: KerasRegressor is deprecated, use Sci-Keras (https://github.com/adriangb/scikeras) instead.\n",
      "  new_object = klass(**new_object_params)\n"
     ]
    },
    {
     "name": "stdout",
     "output_type": "stream",
     "text": [
      "Epoch 1/5\n",
      "261/261 [==============================] - 23s 87ms/step - loss: 0.8093 - accuracy: 0.7274 - val_loss: 0.5514 - val_accuracy: 0.8029\n",
      "Epoch 2/5\n",
      "261/261 [==============================] - 22s 86ms/step - loss: 0.5077 - accuracy: 0.8137 - val_loss: 0.4790 - val_accuracy: 0.8267\n",
      "Epoch 3/5\n",
      "261/261 [==============================] - 22s 86ms/step - loss: 0.4519 - accuracy: 0.8355 - val_loss: 0.4454 - val_accuracy: 0.8355\n",
      "Epoch 4/5\n",
      "261/261 [==============================] - 23s 86ms/step - loss: 0.4183 - accuracy: 0.8503 - val_loss: 0.4166 - val_accuracy: 0.8536\n",
      "Epoch 5/5\n",
      "261/261 [==============================] - 23s 87ms/step - loss: 0.3973 - accuracy: 0.8591 - val_loss: 0.4094 - val_accuracy: 0.8593\n",
      "521/521 [==============================] - 5s 10ms/step - loss: 0.4047 - accuracy: 0.8586\n",
      "1042/1042 [==============================] - 10s 10ms/step - loss: 0.3892 - accuracy: 0.8628\n"
     ]
    },
    {
     "name": "stderr",
     "output_type": "stream",
     "text": [
      "C:\\Users\\Arghavan\\Anaconda3\\lib\\site-packages\\sklearn\\base.py:65: DeprecationWarning: KerasRegressor is deprecated, use Sci-Keras (https://github.com/adriangb/scikeras) instead.\n",
      "  new_object = klass(**new_object_params)\n"
     ]
    },
    {
     "name": "stdout",
     "output_type": "stream",
     "text": [
      "Epoch 1/5\n",
      "261/261 [==============================] - 24s 86ms/step - loss: 0.8060 - accuracy: 0.7203 - val_loss: 0.5510 - val_accuracy: 0.7866\n",
      "Epoch 2/5\n",
      "261/261 [==============================] - 23s 87ms/step - loss: 0.5090 - accuracy: 0.8096 - val_loss: 0.5087 - val_accuracy: 0.8143\n",
      "Epoch 3/5\n",
      "261/261 [==============================] - 23s 87ms/step - loss: 0.4567 - accuracy: 0.8340 - val_loss: 0.4269 - val_accuracy: 0.8499\n",
      "Epoch 4/5\n",
      "261/261 [==============================] - 23s 87ms/step - loss: 0.4210 - accuracy: 0.8478 - val_loss: 0.4111 - val_accuracy: 0.8587\n",
      "Epoch 5/5\n",
      "261/261 [==============================] - 23s 87ms/step - loss: 0.3967 - accuracy: 0.8577 - val_loss: 0.4196 - val_accuracy: 0.8504\n",
      "521/521 [==============================] - 6s 12ms/step - loss: 0.4134 - accuracy: 0.8522\n",
      "1042/1042 [==============================] - 12s 11ms/step - loss: 0.3968 - accuracy: 0.8552\n"
     ]
    },
    {
     "name": "stderr",
     "output_type": "stream",
     "text": [
      "C:\\Users\\Arghavan\\Anaconda3\\lib\\site-packages\\sklearn\\base.py:65: DeprecationWarning: KerasRegressor is deprecated, use Sci-Keras (https://github.com/adriangb/scikeras) instead.\n",
      "  new_object = klass(**new_object_params)\n"
     ]
    },
    {
     "name": "stdout",
     "output_type": "stream",
     "text": [
      "Epoch 1/5\n",
      "261/261 [==============================] - 24s 88ms/step - loss: 0.8019 - accuracy: 0.7253 - val_loss: 0.5254 - val_accuracy: 0.8061\n",
      "Epoch 2/5\n",
      "261/261 [==============================] - 23s 89ms/step - loss: 0.4974 - accuracy: 0.8184 - val_loss: 0.4670 - val_accuracy: 0.8297\n",
      "Epoch 3/5\n",
      "261/261 [==============================] - 23s 89ms/step - loss: 0.4424 - accuracy: 0.8415 - val_loss: 0.4369 - val_accuracy: 0.8451\n",
      "Epoch 4/5\n",
      "261/261 [==============================] - 23s 89ms/step - loss: 0.4095 - accuracy: 0.8553 - val_loss: 0.4126 - val_accuracy: 0.8591\n",
      "Epoch 5/5\n",
      "261/261 [==============================] - 23s 89ms/step - loss: 0.3870 - accuracy: 0.8631 - val_loss: 0.4120 - val_accuracy: 0.8558\n",
      "521/521 [==============================] - 6s 11ms/step - loss: 0.4176 - accuracy: 0.8547 0s - loss: 0.4183 - accuracy\n",
      "1042/1042 [==============================] - 12s 12ms/step - loss: 0.3947 - accuracy: 0.8614\n"
     ]
    },
    {
     "name": "stderr",
     "output_type": "stream",
     "text": [
      "C:\\Users\\Arghavan\\Anaconda3\\lib\\site-packages\\sklearn\\base.py:65: DeprecationWarning: KerasRegressor is deprecated, use Sci-Keras (https://github.com/adriangb/scikeras) instead.\n",
      "  new_object = klass(**new_object_params)\n"
     ]
    },
    {
     "name": "stdout",
     "output_type": "stream",
     "text": [
      "Epoch 1/5\n",
      "261/261 [==============================] - 26s 96ms/step - loss: 0.7519 - accuracy: 0.7362 - val_loss: 0.5529 - val_accuracy: 0.7923\n",
      "Epoch 2/5\n",
      "261/261 [==============================] - 25s 96ms/step - loss: 0.4843 - accuracy: 0.8249 - val_loss: 0.4846 - val_accuracy: 0.8220\n",
      "Epoch 3/5\n",
      "261/261 [==============================] - 26s 98ms/step - loss: 0.4275 - accuracy: 0.8460 - val_loss: 0.4188 - val_accuracy: 0.8552\n",
      "Epoch 4/5\n",
      "261/261 [==============================] - 26s 98ms/step - loss: 0.3913 - accuracy: 0.8607 - val_loss: 0.4005 - val_accuracy: 0.8611\n",
      "Epoch 5/5\n",
      "261/261 [==============================] - 25s 97ms/step - loss: 0.3748 - accuracy: 0.8679 - val_loss: 0.3972 - val_accuracy: 0.8654\n",
      "521/521 [==============================] - 5s 10ms/step - loss: 0.3890 - accuracy: 0.8646\n",
      "1042/1042 [==============================] - 14s 13ms/step - loss: 0.3727 - accuracy: 0.8700\n"
     ]
    },
    {
     "name": "stderr",
     "output_type": "stream",
     "text": [
      "C:\\Users\\Arghavan\\Anaconda3\\lib\\site-packages\\sklearn\\base.py:65: DeprecationWarning: KerasRegressor is deprecated, use Sci-Keras (https://github.com/adriangb/scikeras) instead.\n",
      "  new_object = klass(**new_object_params)\n"
     ]
    },
    {
     "name": "stdout",
     "output_type": "stream",
     "text": [
      "Epoch 1/5\n",
      "261/261 [==============================] - 26s 96ms/step - loss: 0.7487 - accuracy: 0.7307 - val_loss: 0.5097 - val_accuracy: 0.8083\n",
      "Epoch 2/5\n",
      "261/261 [==============================] - 25s 95ms/step - loss: 0.4793 - accuracy: 0.8227 - val_loss: 0.4401 - val_accuracy: 0.8437\n",
      "Epoch 3/5\n",
      "261/261 [==============================] - 25s 95ms/step - loss: 0.4222 - accuracy: 0.8473 - val_loss: 0.4408 - val_accuracy: 0.8429\n",
      "Epoch 4/5\n",
      "261/261 [==============================] - 25s 95ms/step - loss: 0.3936 - accuracy: 0.8589 - val_loss: 0.4097 - val_accuracy: 0.8580\n",
      "Epoch 5/5\n",
      "261/261 [==============================] - 25s 95ms/step - loss: 0.3713 - accuracy: 0.8683 - val_loss: 0.3929 - val_accuracy: 0.8659\n",
      "521/521 [==============================] - 6s 11ms/step - loss: 0.3849 - accuracy: 0.8669\n",
      "1042/1042 [==============================] - 11s 11ms/step - loss: 0.3635 - accuracy: 0.8685\n"
     ]
    },
    {
     "name": "stderr",
     "output_type": "stream",
     "text": [
      "C:\\Users\\Arghavan\\Anaconda3\\lib\\site-packages\\sklearn\\base.py:65: DeprecationWarning: KerasRegressor is deprecated, use Sci-Keras (https://github.com/adriangb/scikeras) instead.\n",
      "  new_object = klass(**new_object_params)\n"
     ]
    },
    {
     "name": "stdout",
     "output_type": "stream",
     "text": [
      "Epoch 1/5\n",
      "261/261 [==============================] - 26s 96ms/step - loss: 0.7474 - accuracy: 0.7408 - val_loss: 0.5210 - val_accuracy: 0.8049\n",
      "Epoch 2/5\n",
      "261/261 [==============================] - 25s 96ms/step - loss: 0.4704 - accuracy: 0.8301 - val_loss: 0.4575 - val_accuracy: 0.8311\n",
      "Epoch 3/5\n",
      "261/261 [==============================] - 24s 92ms/step - loss: 0.4189 - accuracy: 0.8515 - val_loss: 0.4315 - val_accuracy: 0.8523\n",
      "Epoch 4/5\n",
      "261/261 [==============================] - 24s 91ms/step - loss: 0.3907 - accuracy: 0.8622 - val_loss: 0.3885 - val_accuracy: 0.8640\n",
      "Epoch 5/5\n",
      "261/261 [==============================] - 24s 92ms/step - loss: 0.3708 - accuracy: 0.8687 - val_loss: 0.3937 - val_accuracy: 0.8642\n",
      "521/521 [==============================] - 6s 11ms/step - loss: 0.3930 - accuracy: 0.8603\n",
      "1042/1042 [==============================] - 12s 11ms/step - loss: 0.3699 - accuracy: 0.8676\n"
     ]
    },
    {
     "name": "stderr",
     "output_type": "stream",
     "text": [
      "C:\\Users\\Arghavan\\Anaconda3\\lib\\site-packages\\sklearn\\base.py:65: DeprecationWarning: KerasRegressor is deprecated, use Sci-Keras (https://github.com/adriangb/scikeras) instead.\n",
      "  new_object = klass(**new_object_params)\n"
     ]
    },
    {
     "name": "stdout",
     "output_type": "stream",
     "text": [
      "Epoch 1/5\n",
      "261/261 [==============================] - 39s 147ms/step - loss: 0.6573 - accuracy: 0.7650 - val_loss: 0.4831 - val_accuracy: 0.8252\n",
      "Epoch 2/5\n",
      "261/261 [==============================] - 38s 145ms/step - loss: 0.4321 - accuracy: 0.8447 - val_loss: 0.4100 - val_accuracy: 0.8587\n",
      "Epoch 3/5\n",
      "261/261 [==============================] - 38s 145ms/step - loss: 0.3868 - accuracy: 0.8642 - val_loss: 0.3764 - val_accuracy: 0.8686\n",
      "Epoch 4/5\n",
      "261/261 [==============================] - 38s 146ms/step - loss: 0.3577 - accuracy: 0.8737 - val_loss: 0.3583 - val_accuracy: 0.8759\n",
      "Epoch 5/5\n",
      "261/261 [==============================] - 38s 145ms/step - loss: 0.3381 - accuracy: 0.8798 - val_loss: 0.3452 - val_accuracy: 0.8787\n",
      "521/521 [==============================] - 8s 15ms/step - loss: 0.3410 - accuracy: 0.8785\n",
      "1042/1042 [==============================] - 16s 15ms/step - loss: 0.3124 - accuracy: 0.8887 ETA: 3s - l - - ETA: 0s\n"
     ]
    },
    {
     "name": "stderr",
     "output_type": "stream",
     "text": [
      "C:\\Users\\Arghavan\\Anaconda3\\lib\\site-packages\\sklearn\\base.py:65: DeprecationWarning: KerasRegressor is deprecated, use Sci-Keras (https://github.com/adriangb/scikeras) instead.\n",
      "  new_object = klass(**new_object_params)\n"
     ]
    },
    {
     "name": "stdout",
     "output_type": "stream",
     "text": [
      "Epoch 1/5\n",
      "261/261 [==============================] - 38s 145ms/step - loss: 0.6816 - accuracy: 0.7524 - val_loss: 0.4705 - val_accuracy: 0.8343\n",
      "Epoch 2/5\n",
      "261/261 [==============================] - 37s 143ms/step - loss: 0.4353 - accuracy: 0.8441 - val_loss: 0.4348 - val_accuracy: 0.8460\n",
      "Epoch 3/5\n",
      "261/261 [==============================] - 38s 145ms/step - loss: 0.3851 - accuracy: 0.8615 - val_loss: 0.3792 - val_accuracy: 0.8672\n",
      "Epoch 4/5\n",
      "261/261 [==============================] - 38s 145ms/step - loss: 0.3581 - accuracy: 0.8711 - val_loss: 0.3950 - val_accuracy: 0.8628\n",
      "Epoch 5/5\n",
      "261/261 [==============================] - 37s 143ms/step - loss: 0.3352 - accuracy: 0.8800 - val_loss: 0.3592 - val_accuracy: 0.8712\n",
      "521/521 [==============================] - 8s 15ms/step - loss: 0.3570 - accuracy: 0.8757\n",
      "1042/1042 [==============================] - 15s 15ms/step - loss: 0.3300 - accuracy: 0.8794\n"
     ]
    },
    {
     "name": "stderr",
     "output_type": "stream",
     "text": [
      "C:\\Users\\Arghavan\\Anaconda3\\lib\\site-packages\\sklearn\\base.py:65: DeprecationWarning: KerasRegressor is deprecated, use Sci-Keras (https://github.com/adriangb/scikeras) instead.\n",
      "  new_object = klass(**new_object_params)\n"
     ]
    },
    {
     "name": "stdout",
     "output_type": "stream",
     "text": [
      "Epoch 1/5\n",
      "261/261 [==============================] - 38s 144ms/step - loss: 0.6636 - accuracy: 0.7626 - val_loss: 0.4677 - val_accuracy: 0.8339\n",
      "Epoch 2/5\n",
      "261/261 [==============================] - 37s 143ms/step - loss: 0.4206 - accuracy: 0.8479 - val_loss: 0.3939 - val_accuracy: 0.8615\n",
      "Epoch 3/5\n",
      "261/261 [==============================] - 37s 143ms/step - loss: 0.3788 - accuracy: 0.8668 - val_loss: 0.3844 - val_accuracy: 0.8636\n",
      "Epoch 4/5\n",
      "261/261 [==============================] - 37s 143ms/step - loss: 0.3547 - accuracy: 0.8754 - val_loss: 0.3598 - val_accuracy: 0.8743\n",
      "Epoch 5/5\n",
      "261/261 [==============================] - 37s 144ms/step - loss: 0.3296 - accuracy: 0.8838 - val_loss: 0.3447 - val_accuracy: 0.8762\n",
      "521/521 [==============================] - 8s 15ms/step - loss: 0.3409 - accuracy: 0.8778 \n",
      "1042/1042 [==============================] - 15s 15ms/step - loss: 0.3106 - accuracy: 0.8890\n"
     ]
    },
    {
     "name": "stderr",
     "output_type": "stream",
     "text": [
      "C:\\Users\\Arghavan\\Anaconda3\\lib\\site-packages\\sklearn\\base.py:65: DeprecationWarning: KerasRegressor is deprecated, use Sci-Keras (https://github.com/adriangb/scikeras) instead.\n",
      "  new_object = klass(**new_object_params)\n"
     ]
    },
    {
     "name": "stdout",
     "output_type": "stream",
     "text": [
      "Epoch 1/5\n",
      "261/261 [==============================] - 67s 254ms/step - loss: 0.8080 - accuracy: 0.7206 - val_loss: 0.5503 - val_accuracy: 0.7978\n",
      "Epoch 2/5\n",
      "261/261 [==============================] - 66s 253ms/step - loss: 0.5160 - accuracy: 0.8096 - val_loss: 0.4828 - val_accuracy: 0.8241\n",
      "Epoch 3/5\n",
      "261/261 [==============================] - 67s 256ms/step - loss: 0.4653 - accuracy: 0.8322 - val_loss: 0.4538 - val_accuracy: 0.8368\n",
      "Epoch 4/5\n",
      "261/261 [==============================] - 66s 254ms/step - loss: 0.4260 - accuracy: 0.8489 - val_loss: 0.4170 - val_accuracy: 0.8519\n",
      "Epoch 5/5\n",
      "261/261 [==============================] - 67s 255ms/step - loss: 0.4039 - accuracy: 0.8562 - val_loss: 0.3962 - val_accuracy: 0.8613\n",
      "521/521 [==============================] - 10s 20ms/step - loss: 0.3955 - accuracy: 0.8582\n",
      "1042/1042 [==============================] - 21s 20ms/step - loss: 0.3830 - accuracy: 0.8654\n"
     ]
    },
    {
     "name": "stderr",
     "output_type": "stream",
     "text": [
      "C:\\Users\\Arghavan\\Anaconda3\\lib\\site-packages\\sklearn\\base.py:65: DeprecationWarning: KerasRegressor is deprecated, use Sci-Keras (https://github.com/adriangb/scikeras) instead.\n",
      "  new_object = klass(**new_object_params)\n"
     ]
    },
    {
     "name": "stdout",
     "output_type": "stream",
     "text": [
      "Epoch 1/5\n",
      "261/261 [==============================] - 67s 253ms/step - loss: 0.8389 - accuracy: 0.7037 - val_loss: 0.5704 - val_accuracy: 0.7829\n",
      "Epoch 2/5\n",
      "261/261 [==============================] - 66s 253ms/step - loss: 0.5372 - accuracy: 0.8018 - val_loss: 0.4977 - val_accuracy: 0.8196\n",
      "Epoch 3/5\n",
      "261/261 [==============================] - 66s 252ms/step - loss: 0.4889 - accuracy: 0.8207 - val_loss: 0.4692 - val_accuracy: 0.8354\n",
      "Epoch 4/5\n",
      "261/261 [==============================] - 67s 257ms/step - loss: 0.4502 - accuracy: 0.8364 - val_loss: 0.4482 - val_accuracy: 0.8357\n",
      "Epoch 5/5\n",
      "261/261 [==============================] - 66s 254ms/step - loss: 0.4261 - accuracy: 0.8471 - val_loss: 0.4151 - val_accuracy: 0.8571\n",
      "521/521 [==============================] - 10s 20ms/step - loss: 0.4065 - accuracy: 0.8606\n",
      "1042/1042 [==============================] - 22s 21ms/step - loss: 0.4002 - accuracy: 0.8591\n"
     ]
    },
    {
     "name": "stderr",
     "output_type": "stream",
     "text": [
      "C:\\Users\\Arghavan\\Anaconda3\\lib\\site-packages\\sklearn\\base.py:65: DeprecationWarning: KerasRegressor is deprecated, use Sci-Keras (https://github.com/adriangb/scikeras) instead.\n",
      "  new_object = klass(**new_object_params)\n"
     ]
    },
    {
     "name": "stdout",
     "output_type": "stream",
     "text": [
      "Epoch 1/5\n",
      "261/261 [==============================] - 68s 257ms/step - loss: 0.8330 - accuracy: 0.7190 - val_loss: 0.5713 - val_accuracy: 0.7907\n",
      "Epoch 2/5\n",
      "261/261 [==============================] - 67s 258ms/step - loss: 0.5393 - accuracy: 0.8030 - val_loss: 0.5051 - val_accuracy: 0.8118\n",
      "Epoch 3/5\n",
      "261/261 [==============================] - 67s 258ms/step - loss: 0.4799 - accuracy: 0.8253 - val_loss: 0.4558 - val_accuracy: 0.8401\n",
      "Epoch 4/5\n",
      "261/261 [==============================] - 68s 260ms/step - loss: 0.4347 - accuracy: 0.8461 - val_loss: 0.4244 - val_accuracy: 0.8479\n",
      "Epoch 5/5\n",
      "261/261 [==============================] - 68s 260ms/step - loss: 0.4047 - accuracy: 0.8580 - val_loss: 0.4065 - val_accuracy: 0.8571\n",
      "521/521 [==============================] - 11s 21ms/step - loss: 0.4036 - accuracy: 0.8544\n",
      "1042/1042 [==============================] - 22s 21ms/step - loss: 0.3868 - accuracy: 0.8629\n"
     ]
    },
    {
     "name": "stderr",
     "output_type": "stream",
     "text": [
      "C:\\Users\\Arghavan\\Anaconda3\\lib\\site-packages\\sklearn\\base.py:65: DeprecationWarning: KerasRegressor is deprecated, use Sci-Keras (https://github.com/adriangb/scikeras) instead.\n",
      "  new_object = klass(**new_object_params)\n"
     ]
    },
    {
     "name": "stdout",
     "output_type": "stream",
     "text": [
      "Epoch 1/5\n",
      "261/261 [==============================] - 71s 270ms/step - loss: 0.7545 - accuracy: 0.7339 - val_loss: 0.5355 - val_accuracy: 0.7935\n",
      "Epoch 2/5\n",
      "261/261 [==============================] - 70s 269ms/step - loss: 0.4824 - accuracy: 0.8220 - val_loss: 0.4499 - val_accuracy: 0.8429\n",
      "Epoch 3/5\n",
      "261/261 [==============================] - 71s 270ms/step - loss: 0.4255 - accuracy: 0.8491 - val_loss: 0.4372 - val_accuracy: 0.8390\n",
      "Epoch 4/5\n",
      "261/261 [==============================] - 70s 269ms/step - loss: 0.3920 - accuracy: 0.8615 - val_loss: 0.3986 - val_accuracy: 0.8635\n",
      "Epoch 5/5\n",
      "261/261 [==============================] - 71s 271ms/step - loss: 0.3810 - accuracy: 0.8652 - val_loss: 0.3722 - val_accuracy: 0.8732\n",
      "521/521 [==============================] - 11s 22ms/step - loss: 0.3685 - accuracy: 0.8703\n",
      "1042/1042 [==============================] - 22s 21ms/step - loss: 0.3523 - accuracy: 0.8765\n"
     ]
    },
    {
     "name": "stderr",
     "output_type": "stream",
     "text": [
      "C:\\Users\\Arghavan\\Anaconda3\\lib\\site-packages\\sklearn\\base.py:65: DeprecationWarning: KerasRegressor is deprecated, use Sci-Keras (https://github.com/adriangb/scikeras) instead.\n",
      "  new_object = klass(**new_object_params)\n"
     ]
    },
    {
     "name": "stdout",
     "output_type": "stream",
     "text": [
      "Epoch 1/5\n",
      "261/261 [==============================] - 71s 270ms/step - loss: 0.7613 - accuracy: 0.7349 - val_loss: 0.5530 - val_accuracy: 0.8004\n",
      "Epoch 2/5\n",
      "261/261 [==============================] - 70s 269ms/step - loss: 0.4992 - accuracy: 0.8148 - val_loss: 0.4888 - val_accuracy: 0.8273\n",
      "Epoch 3/5\n",
      "261/261 [==============================] - 71s 271ms/step - loss: 0.4420 - accuracy: 0.8396 - val_loss: 0.4172 - val_accuracy: 0.8538\n",
      "Epoch 4/5\n",
      "261/261 [==============================] - 70s 269ms/step - loss: 0.4063 - accuracy: 0.8562 - val_loss: 0.3961 - val_accuracy: 0.8622\n",
      "Epoch 5/5\n",
      "261/261 [==============================] - 70s 269ms/step - loss: 0.3800 - accuracy: 0.8646 - val_loss: 0.3873 - val_accuracy: 0.8691\n",
      "521/521 [==============================] - 11s 21ms/step - loss: 0.3895 - accuracy: 0.8662\n",
      "1042/1042 [==============================] - 22s 21ms/step - loss: 0.3725 - accuracy: 0.8666\n"
     ]
    },
    {
     "name": "stderr",
     "output_type": "stream",
     "text": [
      "C:\\Users\\Arghavan\\Anaconda3\\lib\\site-packages\\sklearn\\base.py:65: DeprecationWarning: KerasRegressor is deprecated, use Sci-Keras (https://github.com/adriangb/scikeras) instead.\n",
      "  new_object = klass(**new_object_params)\n"
     ]
    },
    {
     "name": "stdout",
     "output_type": "stream",
     "text": [
      "Epoch 1/5\n",
      "261/261 [==============================] - 70s 266ms/step - loss: 0.7571 - accuracy: 0.7345 - val_loss: 0.5540 - val_accuracy: 0.7935\n",
      "Epoch 2/5\n",
      "261/261 [==============================] - 45s 174ms/step - loss: 0.4811 - accuracy: 0.8236 - val_loss: 0.4461 - val_accuracy: 0.8423\n",
      "Epoch 3/5\n",
      "261/261 [==============================] - 45s 171ms/step - loss: 0.4218 - accuracy: 0.8481 - val_loss: 0.4202 - val_accuracy: 0.8498\n",
      "Epoch 4/5\n",
      "261/261 [==============================] - 45s 174ms/step - loss: 0.3899 - accuracy: 0.8630 - val_loss: 0.4090 - val_accuracy: 0.8539\n",
      "Epoch 5/5\n",
      "261/261 [==============================] - 46s 177ms/step - loss: 0.3736 - accuracy: 0.8681 - val_loss: 0.3798 - val_accuracy: 0.8663\n",
      "521/521 [==============================] - 7s 13ms/step - loss: 0.3786 - accuracy: 0.8642\n",
      "1042/1042 [==============================] - 13s 13ms/step - loss: 0.3533 - accuracy: 0.8760\n"
     ]
    },
    {
     "name": "stderr",
     "output_type": "stream",
     "text": [
      "C:\\Users\\Arghavan\\Anaconda3\\lib\\site-packages\\sklearn\\base.py:65: DeprecationWarning: KerasRegressor is deprecated, use Sci-Keras (https://github.com/adriangb/scikeras) instead.\n",
      "  new_object = klass(**new_object_params)\n"
     ]
    },
    {
     "name": "stdout",
     "output_type": "stream",
     "text": [
      "Epoch 1/5\n",
      "261/261 [==============================] - 55s 208ms/step - loss: 0.7154 - accuracy: 0.7427 - val_loss: 0.5146 - val_accuracy: 0.8104\n",
      "Epoch 2/5\n",
      "261/261 [==============================] - 58s 221ms/step - loss: 0.4601 - accuracy: 0.8325 - val_loss: 0.4402 - val_accuracy: 0.8461\n",
      "Epoch 3/5\n",
      "261/261 [==============================] - 54s 208ms/step - loss: 0.4075 - accuracy: 0.8564 - val_loss: 0.4030 - val_accuracy: 0.8590\n",
      "Epoch 4/5\n",
      "261/261 [==============================] - 54s 207ms/step - loss: 0.3762 - accuracy: 0.8669 - val_loss: 0.3879 - val_accuracy: 0.8681\n",
      "Epoch 5/5\n",
      "261/261 [==============================] - 54s 207ms/step - loss: 0.3576 - accuracy: 0.8735 - val_loss: 0.3825 - val_accuracy: 0.8649\n",
      "521/521 [==============================] - 8s 16ms/step - loss: 0.3728 - accuracy: 0.8657\n",
      "1042/1042 [==============================] - 16s 16ms/step - loss: 0.3537 - accuracy: 0.8719\n"
     ]
    },
    {
     "name": "stderr",
     "output_type": "stream",
     "text": [
      "C:\\Users\\Arghavan\\Anaconda3\\lib\\site-packages\\sklearn\\base.py:65: DeprecationWarning: KerasRegressor is deprecated, use Sci-Keras (https://github.com/adriangb/scikeras) instead.\n",
      "  new_object = klass(**new_object_params)\n"
     ]
    },
    {
     "name": "stdout",
     "output_type": "stream",
     "text": [
      "Epoch 1/5\n",
      "261/261 [==============================] - 54s 205ms/step - loss: 0.7175 - accuracy: 0.7392 - val_loss: 0.5102 - val_accuracy: 0.8130\n",
      "Epoch 2/5\n",
      "261/261 [==============================] - 53s 205ms/step - loss: 0.4659 - accuracy: 0.8294 - val_loss: 0.4357 - val_accuracy: 0.8495\n",
      "Epoch 3/5\n",
      "261/261 [==============================] - 54s 207ms/step - loss: 0.4076 - accuracy: 0.8546 - val_loss: 0.4004 - val_accuracy: 0.8617\n",
      "Epoch 4/5\n",
      "261/261 [==============================] - 55s 209ms/step - loss: 0.3792 - accuracy: 0.8638 - val_loss: 0.3752 - val_accuracy: 0.8702\n",
      "Epoch 5/5\n",
      "261/261 [==============================] - 55s 209ms/step - loss: 0.3583 - accuracy: 0.8717 - val_loss: 0.3567 - val_accuracy: 0.8755\n",
      "521/521 [==============================] - 8s 16ms/step - loss: 0.3542 - accuracy: 0.8766\n",
      "1042/1042 [==============================] - 17s 16ms/step - loss: 0.3316 - accuracy: 0.8824\n"
     ]
    },
    {
     "name": "stderr",
     "output_type": "stream",
     "text": [
      "C:\\Users\\Arghavan\\Anaconda3\\lib\\site-packages\\sklearn\\base.py:65: DeprecationWarning: KerasRegressor is deprecated, use Sci-Keras (https://github.com/adriangb/scikeras) instead.\n",
      "  new_object = klass(**new_object_params)\n"
     ]
    },
    {
     "name": "stdout",
     "output_type": "stream",
     "text": [
      "Epoch 1/5\n",
      "261/261 [==============================] - 55s 209ms/step - loss: 0.7238 - accuracy: 0.7423 - val_loss: 0.5241 - val_accuracy: 0.8018\n",
      "Epoch 2/5\n",
      "261/261 [==============================] - 54s 209ms/step - loss: 0.4694 - accuracy: 0.8295 - val_loss: 0.4486 - val_accuracy: 0.8426\n",
      "Epoch 3/5\n",
      "261/261 [==============================] - 56s 216ms/step - loss: 0.4150 - accuracy: 0.8542 - val_loss: 0.4108 - val_accuracy: 0.8562\n",
      "Epoch 4/5\n",
      "261/261 [==============================] - 54s 207ms/step - loss: 0.3825 - accuracy: 0.8650 - val_loss: 0.3990 - val_accuracy: 0.8586\n",
      "Epoch 5/5\n",
      "261/261 [==============================] - 57s 219ms/step - loss: 0.3637 - accuracy: 0.8714 - val_loss: 0.3721 - val_accuracy: 0.8713\n",
      "521/521 [==============================] - 9s 17ms/step - loss: 0.3685 - accuracy: 0.8699\n",
      "1042/1042 [==============================] - 18s 17ms/step - loss: 0.3431 - accuracy: 0.8781\n"
     ]
    },
    {
     "name": "stderr",
     "output_type": "stream",
     "text": [
      "C:\\Users\\Arghavan\\Anaconda3\\lib\\site-packages\\sklearn\\base.py:65: DeprecationWarning: KerasRegressor is deprecated, use Sci-Keras (https://github.com/adriangb/scikeras) instead.\n",
      "  new_object = klass(**new_object_params)\n"
     ]
    },
    {
     "name": "stdout",
     "output_type": "stream",
     "text": [
      "Epoch 1/5\n",
      "261/261 [==============================] - 91s 349ms/step - loss: 0.6218 - accuracy: 0.7735 - val_loss: 0.4646 - val_accuracy: 0.8331\n",
      "Epoch 2/5\n",
      "261/261 [==============================] - 92s 354ms/step - loss: 0.4059 - accuracy: 0.8545 - val_loss: 0.3816 - val_accuracy: 0.8677\n",
      "Epoch 3/5\n",
      "261/261 [==============================] - 90s 345ms/step - loss: 0.3622 - accuracy: 0.8721 - val_loss: 0.3575 - val_accuracy: 0.8781\n",
      "Epoch 4/5\n",
      "261/261 [==============================] - 88s 338ms/step - loss: 0.3301 - accuracy: 0.8844 - val_loss: 0.3305 - val_accuracy: 0.8877\n",
      "Epoch 5/5\n",
      "261/261 [==============================] - 88s 338ms/step - loss: 0.3078 - accuracy: 0.8910 - val_loss: 0.3411 - val_accuracy: 0.8772\n",
      "521/521 [==============================] - 13s 26ms/step - loss: 0.3400 - accuracy: 0.8760\n",
      "1042/1042 [==============================] - 28s 26ms/step - loss: 0.2983 - accuracy: 0.8926\n"
     ]
    },
    {
     "name": "stderr",
     "output_type": "stream",
     "text": [
      "C:\\Users\\Arghavan\\Anaconda3\\lib\\site-packages\\sklearn\\base.py:65: DeprecationWarning: KerasRegressor is deprecated, use Sci-Keras (https://github.com/adriangb/scikeras) instead.\n",
      "  new_object = klass(**new_object_params)\n"
     ]
    },
    {
     "name": "stdout",
     "output_type": "stream",
     "text": [
      "Epoch 1/5\n",
      "261/261 [==============================] - 91s 348ms/step - loss: 0.6307 - accuracy: 0.7737 - val_loss: 0.4511 - val_accuracy: 0.8424\n",
      "Epoch 2/5\n",
      "261/261 [==============================] - 89s 341ms/step - loss: 0.4101 - accuracy: 0.8530 - val_loss: 0.3946 - val_accuracy: 0.8655\n",
      "Epoch 3/5\n",
      "261/261 [==============================] - 91s 348ms/step - loss: 0.3623 - accuracy: 0.8715 - val_loss: 0.3830 - val_accuracy: 0.8602\n",
      "Epoch 4/5\n",
      "261/261 [==============================] - 87s 332ms/step - loss: 0.3301 - accuracy: 0.8832 - val_loss: 0.3364 - val_accuracy: 0.8827\n",
      "Epoch 5/5\n",
      "261/261 [==============================] - 89s 339ms/step - loss: 0.3048 - accuracy: 0.8893 - val_loss: 0.3155 - val_accuracy: 0.8898\n",
      "521/521 [==============================] - 13s 26ms/step - loss: 0.3152 - accuracy: 0.8939\n",
      "1042/1042 [==============================] - 27s 26ms/step - loss: 0.2763 - accuracy: 0.9028\n"
     ]
    },
    {
     "name": "stderr",
     "output_type": "stream",
     "text": [
      "C:\\Users\\Arghavan\\Anaconda3\\lib\\site-packages\\sklearn\\base.py:65: DeprecationWarning: KerasRegressor is deprecated, use Sci-Keras (https://github.com/adriangb/scikeras) instead.\n",
      "  new_object = klass(**new_object_params)\n"
     ]
    },
    {
     "name": "stdout",
     "output_type": "stream",
     "text": [
      "Epoch 1/5\n",
      "261/261 [==============================] - 86s 330ms/step - loss: 0.6256 - accuracy: 0.7758 - val_loss: 0.4736 - val_accuracy: 0.8271\n",
      "Epoch 2/5\n",
      "261/261 [==============================] - 85s 327ms/step - loss: 0.4015 - accuracy: 0.8579 - val_loss: 0.3806 - val_accuracy: 0.8687\n",
      "Epoch 3/5\n",
      "261/261 [==============================] - 85s 326ms/step - loss: 0.3593 - accuracy: 0.8726 - val_loss: 0.3603 - val_accuracy: 0.8717\n",
      "Epoch 4/5\n",
      "261/261 [==============================] - 85s 327ms/step - loss: 0.3291 - accuracy: 0.8843 - val_loss: 0.3482 - val_accuracy: 0.8773\n",
      "Epoch 5/5\n",
      "261/261 [==============================] - 86s 329ms/step - loss: 0.3093 - accuracy: 0.8895 - val_loss: 0.3198 - val_accuracy: 0.8874\n",
      "521/521 [==============================] - 14s 27ms/step - loss: 0.3189 - accuracy: 0.8871\n",
      "1042/1042 [==============================] - 29s 28ms/step - loss: 0.2834 - accuracy: 0.8994\n"
     ]
    },
    {
     "name": "stderr",
     "output_type": "stream",
     "text": [
      "C:\\Users\\Arghavan\\Anaconda3\\lib\\site-packages\\sklearn\\base.py:65: DeprecationWarning: KerasRegressor is deprecated, use Sci-Keras (https://github.com/adriangb/scikeras) instead.\n",
      "  new_object = klass(**new_object_params)\n"
     ]
    },
    {
     "name": "stdout",
     "output_type": "stream",
     "text": [
      "Epoch 1/5\n",
      "391/391 [==============================] - 137s 350ms/step - loss: 0.5674 - accuracy: 0.7949 - val_loss: 0.4487 - val_accuracy: 0.8332\n",
      "Epoch 2/5\n",
      "391/391 [==============================] - 129s 329ms/step - loss: 0.3796 - accuracy: 0.8656 - val_loss: 0.3606 - val_accuracy: 0.8770\n",
      "Epoch 3/5\n",
      "391/391 [==============================] - 128s 328ms/step - loss: 0.3338 - accuracy: 0.8819 - val_loss: 0.3610 - val_accuracy: 0.8692\n",
      "Epoch 4/5\n",
      "391/391 [==============================] - 130s 332ms/step - loss: 0.3049 - accuracy: 0.8899 - val_loss: 0.3310 - val_accuracy: 0.8795\n",
      "Epoch 5/5\n",
      "391/391 [==============================] - 129s 330ms/step - loss: 0.2808 - accuracy: 0.8993 - val_loss: 0.2964 - val_accuracy: 0.8940\n"
     ]
    },
    {
     "data": {
      "text/plain": [
       "GridSearchCV(cv='warn', error_score='raise-deprecating',\n",
       "       estimator=<keras.wrappers.scikit_learn.KerasRegressor object at 0x0000016C18F332B0>,\n",
       "       fit_params=None, iid='warn', n_jobs=None,\n",
       "       param_grid={'n_units1': [16, 32, 64, 256], 'n_units2': [16, 32, 64, 256]},\n",
       "       pre_dispatch='2*n_jobs', refit=True, return_train_score='warn',\n",
       "       scoring=None, verbose=0)"
      ]
     },
     "execution_count": 30,
     "metadata": {},
     "output_type": "execute_result"
    }
   ],
   "source": [
    "grid_search.fit(X_train, Y_train, epochs=5,batch_size=128,\n",
    "                validation_data=(X_valid, Y_valid))\n"
   ]
  },
  {
   "cell_type": "code",
   "execution_count": 31,
   "metadata": {},
   "outputs": [
    {
     "name": "stdout",
     "output_type": "stream",
     "text": [
      "{'n_units1': 256, 'n_units2': 256}\n",
      "313/313 [==============================] - 13s 43ms/step - loss: 0.3069 - accuracy: 0.8919\n"
     ]
    },
    {
     "data": {
      "text/plain": [
       "[0.30685263872146606, 0.8919000029563904]"
      ]
     },
     "execution_count": 31,
     "metadata": {},
     "output_type": "execute_result"
    }
   ],
   "source": [
    "print(grid_search.best_params_)\n",
    "\n",
    "model = grid_search.best_estimator_.model\n",
    "model.evaluate(X_test, Y_test)"
   ]
  },
  {
   "cell_type": "code",
   "execution_count": 193,
   "metadata": {},
   "outputs": [
    {
     "name": "stdout",
     "output_type": "stream",
     "text": [
      "Epoch 1/15\n",
      "391/391 [==============================] - 123s 315ms/step - loss: 0.5614 - accuracy: 0.7972 - val_loss: 0.4533 - val_accuracy: 0.8398\n",
      "Epoch 2/15\n",
      "391/391 [==============================] - 126s 322ms/step - loss: 0.3773 - accuracy: 0.8665 - val_loss: 0.3691 - val_accuracy: 0.8700\n",
      "Epoch 3/15\n",
      "391/391 [==============================] - 126s 323ms/step - loss: 0.3300 - accuracy: 0.8816 - val_loss: 0.3310 - val_accuracy: 0.8874\n",
      "Epoch 4/15\n",
      "391/391 [==============================] - 131s 335ms/step - loss: 0.2989 - accuracy: 0.8938 - val_loss: 0.3026 - val_accuracy: 0.8895\n",
      "Epoch 5/15\n",
      "391/391 [==============================] - 124s 318ms/step - loss: 0.2770 - accuracy: 0.9000 - val_loss: 0.2876 - val_accuracy: 0.8984\n",
      "Epoch 6/15\n",
      "391/391 [==============================] - 128s 327ms/step - loss: 0.2553 - accuracy: 0.9074 - val_loss: 0.2735 - val_accuracy: 0.9020\n",
      "Epoch 7/15\n",
      "391/391 [==============================] - 128s 326ms/step - loss: 0.2384 - accuracy: 0.9144 - val_loss: 0.2690 - val_accuracy: 0.9022\n",
      "Epoch 8/15\n",
      "391/391 [==============================] - 126s 321ms/step - loss: 0.2195 - accuracy: 0.9204 - val_loss: 0.2598 - val_accuracy: 0.9065\n",
      "Epoch 9/15\n",
      "391/391 [==============================] - 132s 338ms/step - loss: 0.2083 - accuracy: 0.9245 - val_loss: 0.2745 - val_accuracy: 0.9028\n",
      "Epoch 10/15\n",
      "391/391 [==============================] - 117s 298ms/step - loss: 0.1936 - accuracy: 0.9293 - val_loss: 0.2402 - val_accuracy: 0.9159\n",
      "Epoch 11/15\n",
      "391/391 [==============================] - 112s 288ms/step - loss: 0.1780 - accuracy: 0.9346 - val_loss: 0.2459 - val_accuracy: 0.9147\n",
      "Epoch 12/15\n",
      "391/391 [==============================] - 124s 317ms/step - loss: 0.1657 - accuracy: 0.9394 - val_loss: 0.2489 - val_accuracy: 0.9145\n",
      "Epoch 13/15\n",
      "391/391 [==============================] - 128s 326ms/step - loss: 0.1523 - accuracy: 0.9444 - val_loss: 0.2434 - val_accuracy: 0.9187\n",
      "Epoch 14/15\n",
      "391/391 [==============================] - 126s 322ms/step - loss: 0.1407 - accuracy: 0.9495 - val_loss: 0.2553 - val_accuracy: 0.9117\n",
      "Epoch 15/15\n",
      "391/391 [==============================] - 126s 321ms/step - loss: 0.1309 - accuracy: 0.9530 - val_loss: 0.2701 - val_accuracy: 0.9088\n"
     ]
    }
   ],
   "source": [
    "model = keras.models.Sequential([\n",
    "    keras.layers.Conv2D(filters=256, kernel_size=[3,3], activation= 'relu', input_shape=[28, 28,1]),\n",
    "    keras.layers.MaxPool2D(pool_size=[2,2]),\n",
    "    keras.layers.Conv2D(filters=256, kernel_size=[2,2], activation='relu'),\n",
    "    keras.layers.Flatten(),\n",
    "    keras.layers.Dense(10, activation=\"softmax\")\n",
    "    ])\n",
    "  \n",
    "model.compile(loss=\"sparse_categorical_crossentropy\",\n",
    "              optimizer='Adam',\n",
    "              metrics=[\"accuracy\"])\n",
    "\n",
    "history = model.fit(X_train, Y_train, epochs=15, batch_size=128,\n",
    "                  validation_data=(X_valid, Y_valid))\n",
    "\n"
   ]
  },
  {
   "cell_type": "code",
   "execution_count": 194,
   "metadata": {},
   "outputs": [
    {
     "data": {
      "image/png": "[encoded data removed]",
      "text/plain": [
       "<Figure size 576x360 with 1 Axes>"
      ]
     },
     "metadata": {
      "needs_background": "light"
     },
     "output_type": "display_data"
    }
   ],
   "source": [
    "def plot_learning_curves(history):\n",
    "    plt.figure(figsize=(8, 5))\n",
    "    plt.plot(history.epoch,history.history['loss'], label='train loss')\n",
    "    plt.plot(history.epoch,history.history['val_loss'], label='valid loss')\n",
    "    plt.legend()\n",
    "    plt.title('loss')\n",
    "    plt.grid(True)\n",
    "    plt.show()\n",
    "plot_learning_curves(history)"
   ]
  },
  {
   "cell_type": "code",
   "execution_count": 132,
   "metadata": {},
   "outputs": [
    {
     "data": {
      "image/png": "[encoded data removed]",
      "text/plain": [
       "<Figure size 576x360 with 1 Axes>"
      ]
     },
     "metadata": {
      "needs_background": "light"
     },
     "output_type": "display_data"
    }
   ],
   "source": [
    "def plot_learning_curves(history):\n",
    "    plt.figure(figsize=(8, 5))\n",
    "    plt.plot(history.epoch,history.history['accuracy'], label='train accuracy')\n",
    "    plt.plot(history.epoch,history.history['val_accuracy'], label='valid accuracy')\n",
    "    plt.legend()\n",
    "    plt.title('Accuracy')\n",
    "    plt.grid(True)\n",
    "    plt.show()\n",
    "plot_learning_curves(history)"
   ]
  },
  {
   "cell_type": "code",
   "execution_count": 195,
   "metadata": {},
   "outputs": [
    {
     "name": "stdout",
     "output_type": "stream",
     "text": [
      "313/313 - 7s - loss: 0.2793 - accuracy: 0.9067 - 7s/epoch - 21ms/step\n",
      " accuracy: 90.67%\n"
     ]
    }
   ],
   "source": [
    "scores = model.evaluate(X_test, Y_test, verbose=2)\n",
    "print(\" %s: %.2f%%\" % (model.metrics_names[1], scores[1]*100))\n"
   ]
  },
  {
   "cell_type": "markdown",
   "metadata": {},
   "source": [
    "**As we can see it seems we have overfitting so lets add 2 dropout layers again**"
   ]
  },
  {
   "cell_type": "markdown",
   "metadata": {},
   "source": [
    "**Batchsize 128:**"
   ]
  },
  {
   "cell_type": "code",
   "execution_count": 156,
   "metadata": {
    "colab": {
     "base_uri": "https://localhost:8080/",
     "height": 218
    },
    "id": "f0n0eqCm_FNd",
    "outputId": "5cf0a5ee-5a6c-44ef-d929-88db83242383"
   },
   "outputs": [
    {
     "name": "stdout",
     "output_type": "stream",
     "text": [
      "Epoch 1/15\n",
      "391/391 [==============================] - 135s 344ms/step - loss: 0.5822 - accuracy: 0.7864 - val_loss: 0.4192 - val_accuracy: 0.8573\n",
      "Epoch 2/15\n",
      "391/391 [==============================] - 143s 366ms/step - loss: 0.3924 - accuracy: 0.8599 - val_loss: 0.3662 - val_accuracy: 0.8714\n",
      "Epoch 3/15\n",
      "391/391 [==============================] - 156s 398ms/step - loss: 0.3520 - accuracy: 0.8749 - val_loss: 0.3253 - val_accuracy: 0.8848\n",
      "Epoch 4/15\n",
      "391/391 [==============================] - 158s 404ms/step - loss: 0.3231 - accuracy: 0.8841 - val_loss: 0.3174 - val_accuracy: 0.8874\n",
      "Epoch 5/15\n",
      "391/391 [==============================] - 157s 401ms/step - loss: 0.3010 - accuracy: 0.8911 - val_loss: 0.3073 - val_accuracy: 0.8929\n",
      "Epoch 6/15\n",
      "391/391 [==============================] - 155s 396ms/step - loss: 0.2807 - accuracy: 0.8982 - val_loss: 0.2890 - val_accuracy: 0.9015\n",
      "Epoch 7/15\n",
      "391/391 [==============================] - 154s 393ms/step - loss: 0.2663 - accuracy: 0.9035 - val_loss: 0.2787 - val_accuracy: 0.8981\n",
      "Epoch 8/15\n",
      "391/391 [==============================] - 154s 393ms/step - loss: 0.2512 - accuracy: 0.9084 - val_loss: 0.2599 - val_accuracy: 0.9068\n",
      "Epoch 9/15\n",
      "391/391 [==============================] - 155s 397ms/step - loss: 0.2380 - accuracy: 0.9135 - val_loss: 0.2496 - val_accuracy: 0.9107\n",
      "Epoch 10/15\n",
      "391/391 [==============================] - 152s 388ms/step - loss: 0.2286 - accuracy: 0.9153 - val_loss: 0.2462 - val_accuracy: 0.9102\n",
      "Epoch 11/15\n",
      "391/391 [==============================] - 154s 394ms/step - loss: 0.2175 - accuracy: 0.9193 - val_loss: 0.2482 - val_accuracy: 0.9122\n",
      "Epoch 12/15\n",
      "391/391 [==============================] - 155s 396ms/step - loss: 0.2082 - accuracy: 0.9237 - val_loss: 0.2439 - val_accuracy: 0.9128\n",
      "Epoch 13/15\n",
      "391/391 [==============================] - 155s 397ms/step - loss: 0.1994 - accuracy: 0.9261 - val_loss: 0.2424 - val_accuracy: 0.9116\n",
      "Epoch 14/15\n",
      "391/391 [==============================] - 156s 398ms/step - loss: 0.1913 - accuracy: 0.9297 - val_loss: 0.2361 - val_accuracy: 0.9173\n",
      "Epoch 15/15\n",
      "391/391 [==============================] - 156s 399ms/step - loss: 0.1853 - accuracy: 0.9308 - val_loss: 0.2375 - val_accuracy: 0.9174\n"
     ]
    }
   ],
   "source": [
    "model = keras.models.Sequential([\n",
    "    keras.layers.Conv2D(filters=256, kernel_size=[3,3], activation= 'relu', input_shape=[28, 28,1]),\n",
    "    keras.layers.MaxPool2D(pool_size=[2,2]),\n",
    "    tf.keras.layers.Dropout(0.35),\n",
    "    keras.layers.Conv2D(filters=256, kernel_size=[2,2], activation='relu'),\n",
    "    keras.layers.Flatten(),\n",
    "    tf.keras.layers.Dropout(0.35),\n",
    "    keras.layers.Dense(10, activation=\"softmax\")\n",
    "    ])\n",
    "  \n",
    "model.compile(loss=\"sparse_categorical_crossentropy\",\n",
    "              optimizer='Adam',\n",
    "              metrics=[\"accuracy\"])\n",
    "\n",
    "history = model.fit(X_train, Y_train, epochs=15, batch_size=128,\n",
    "                  validation_data=(X_valid, Y_valid))\n",
    "\n"
   ]
  },
  {
   "cell_type": "code",
   "execution_count": 158,
   "metadata": {},
   "outputs": [
    {
     "data": {
      "image/png": "[encoded data removed]",
      "text/plain": [
       "<Figure size 576x360 with 1 Axes>"
      ]
     },
     "metadata": {
      "needs_background": "light"
     },
     "output_type": "display_data"
    }
   ],
   "source": [
    "def plot_learning_curves(history):\n",
    "    plt.figure(figsize=(8, 5))\n",
    "    plt.plot(history.epoch,history.history['loss'], label='train loss')\n",
    "    plt.plot(history.epoch,history.history['val_loss'], label='valid loss')\n",
    "    plt.legend()\n",
    "    plt.title('loss')\n",
    "    plt.grid(True)\n",
    "    plt.show()\n",
    "plot_learning_curves(history)"
   ]
  },
  {
   "cell_type": "code",
   "execution_count": 159,
   "metadata": {},
   "outputs": [
    {
     "data": {
      "image/png": "[encoded data removed]",
      "text/plain": [
       "<Figure size 576x360 with 1 Axes>"
      ]
     },
     "metadata": {
      "needs_background": "light"
     },
     "output_type": "display_data"
    }
   ],
   "source": [
    "def plot_learning_curves(history):\n",
    "    plt.figure(figsize=(8, 5))\n",
    "    plt.plot(history.epoch,history.history['accuracy'], label='train accuracy')\n",
    "    plt.plot(history.epoch,history.history['val_accuracy'], label='valid accuracy')\n",
    "    plt.legend()\n",
    "    plt.title('Accuracy')\n",
    "    plt.grid(True)\n",
    "    plt.show()\n",
    "plot_learning_curves(history)"
   ]
  },
  {
   "cell_type": "code",
   "execution_count": 157,
   "metadata": {},
   "outputs": [
    {
     "name": "stdout",
     "output_type": "stream",
     "text": [
      "313/313 - 8s - loss: 0.2528 - accuracy: 0.9084 - 8s/epoch - 26ms/step\n",
      " accuracy: 90.84%\n"
     ]
    }
   ],
   "source": [
    "scores = model.evaluate(X_test, Y_test, verbose=2)\n",
    "print(\" %s: %.2f%%\" % (model.metrics_names[1], scores[1]*100))\n"
   ]
  },
  {
   "cell_type": "markdown",
   "metadata": {},
   "source": [
    "**Batchsize 256:**"
   ]
  },
  {
   "cell_type": "code",
   "execution_count": 208,
   "metadata": {},
   "outputs": [
    {
     "name": "stdout",
     "output_type": "stream",
     "text": [
      "Epoch 1/15\n",
      "196/196 [==============================] - 136s 691ms/step - loss: 0.6703 - accuracy: 0.7595 - val_loss: 0.4613 - val_accuracy: 0.8325\n",
      "Epoch 2/15\n",
      "196/196 [==============================] - 156s 796ms/step - loss: 0.4264 - accuracy: 0.8463 - val_loss: 0.4061 - val_accuracy: 0.8581\n",
      "Epoch 3/15\n",
      "196/196 [==============================] - 160s 816ms/step - loss: 0.3840 - accuracy: 0.8631 - val_loss: 0.3790 - val_accuracy: 0.8692\n",
      "Epoch 4/15\n",
      "196/196 [==============================] - 156s 797ms/step - loss: 0.3574 - accuracy: 0.8731 - val_loss: 0.3501 - val_accuracy: 0.8783\n",
      "Epoch 5/15\n",
      "196/196 [==============================] - 160s 814ms/step - loss: 0.3366 - accuracy: 0.8801 - val_loss: 0.3406 - val_accuracy: 0.8806\n",
      "Epoch 6/15\n",
      "196/196 [==============================] - 155s 793ms/step - loss: 0.3211 - accuracy: 0.8865 - val_loss: 0.3249 - val_accuracy: 0.8854\n",
      "Epoch 7/15\n",
      "196/196 [==============================] - 155s 792ms/step - loss: 0.3080 - accuracy: 0.8899 - val_loss: 0.3079 - val_accuracy: 0.8910\n",
      "Epoch 8/15\n",
      "196/196 [==============================] - 156s 797ms/step - loss: 0.2951 - accuracy: 0.8936 - val_loss: 0.2910 - val_accuracy: 0.8971\n",
      "Epoch 9/15\n",
      "196/196 [==============================] - 155s 791ms/step - loss: 0.2807 - accuracy: 0.8990 - val_loss: 0.2888 - val_accuracy: 0.8975\n",
      "Epoch 10/15\n",
      "196/196 [==============================] - 172s 876ms/step - loss: 0.2697 - accuracy: 0.9031 - val_loss: 0.2786 - val_accuracy: 0.8989\n",
      "Epoch 11/15\n",
      "196/196 [==============================] - 165s 844ms/step - loss: 0.2626 - accuracy: 0.9057 - val_loss: 0.2742 - val_accuracy: 0.9033\n",
      "Epoch 12/15\n",
      "196/196 [==============================] - 165s 840ms/step - loss: 0.2547 - accuracy: 0.9070 - val_loss: 0.2664 - val_accuracy: 0.9045\n",
      "Epoch 13/15\n",
      "196/196 [==============================] - 161s 820ms/step - loss: 0.2458 - accuracy: 0.9110 - val_loss: 0.2638 - val_accuracy: 0.9042\n",
      "Epoch 14/15\n",
      "196/196 [==============================] - 155s 791ms/step - loss: 0.2344 - accuracy: 0.9150 - val_loss: 0.2550 - val_accuracy: 0.9091\n",
      "Epoch 15/15\n",
      "196/196 [==============================] - 155s 790ms/step - loss: 0.2266 - accuracy: 0.9182 - val_loss: 0.2462 - val_accuracy: 0.9106\n"
     ]
    }
   ],
   "source": [
    "model = keras.models.Sequential([\n",
    "    keras.layers.Conv2D(filters=256, kernel_size=[3,3], activation= 'relu', input_shape=[28, 28,1]),\n",
    "    keras.layers.MaxPool2D(pool_size=[2,2]),\n",
    "    tf.keras.layers.Dropout(0.35),\n",
    "    keras.layers.Conv2D(filters=256, kernel_size=[2,2], activation='relu'),\n",
    "    keras.layers.Flatten(),\n",
    "    tf.keras.layers.Dropout(0.35),\n",
    "    keras.layers.Dense(10, activation=\"softmax\")\n",
    "    ])\n",
    "  \n",
    "model.compile(loss=\"sparse_categorical_crossentropy\",\n",
    "              optimizer='Adam',\n",
    "              metrics=[\"accuracy\"])\n",
    "\n",
    "history = model.fit(X_train, Y_train, epochs=15, batch_size=256,\n",
    "                  validation_data=(X_valid, Y_valid))"
   ]
  },
  {
   "cell_type": "code",
   "execution_count": 209,
   "metadata": {},
   "outputs": [
    {
     "data": {
      "image/png": "[encoded data removed]",
      "text/plain": [
       "<Figure size 576x360 with 1 Axes>"
      ]
     },
     "metadata": {
      "needs_background": "light"
     },
     "output_type": "display_data"
    }
   ],
   "source": [
    "def plot_learning_curves(history):\n",
    "    plt.figure(figsize=(8, 5))\n",
    "    plt.plot(history.epoch,history.history['loss'], label='train loss')\n",
    "    plt.plot(history.epoch,history.history['val_loss'], label='valid loss')\n",
    "    plt.legend()\n",
    "    plt.title('loss')\n",
    "    plt.grid(True)\n",
    "    plt.show()\n",
    "plot_learning_curves(history)"
   ]
  },
  {
   "cell_type": "code",
   "execution_count": 210,
   "metadata": {},
   "outputs": [
    {
     "data": {
      "image/png": "[encoded data removed]",
      "text/plain": [
       "<Figure size 576x360 with 1 Axes>"
      ]
     },
     "metadata": {
      "needs_background": "light"
     },
     "output_type": "display_data"
    }
   ],
   "source": [
    "def plot_learning_curves(history):\n",
    "    plt.figure(figsize=(8, 5))\n",
    "    plt.plot(history.epoch,history.history['accuracy'], label='train accuracy')\n",
    "    plt.plot(history.epoch,history.history['val_accuracy'], label='valid accuracy')\n",
    "    plt.legend()\n",
    "    plt.title('Accuracy')\n",
    "    plt.grid(True)\n",
    "    plt.show()\n",
    "plot_learning_curves(history)"
   ]
  },
  {
   "cell_type": "code",
   "execution_count": 211,
   "metadata": {},
   "outputs": [
    {
     "name": "stdout",
     "output_type": "stream",
     "text": [
      "313/313 - 7s - loss: 0.2676 - accuracy: 0.9037 - 7s/epoch - 21ms/step\n",
      " accuracy: 90.37%\n"
     ]
    }
   ],
   "source": [
    "scores = model.evaluate(X_test, Y_test, verbose=2)\n",
    "print(\" %s: %.2f%%\" % (model.metrics_names[1], scores[1]*100))\n"
   ]
  },
  {
   "cell_type": "code",
   "execution_count": 216,
   "metadata": {},
   "outputs": [],
   "source": [
    "predict_x=model.predict(X_test) \n",
    "classes_x=np.argmax(predict_x,axis=1)"
   ]
  },
  {
   "cell_type": "code",
   "execution_count": 217,
   "metadata": {},
   "outputs": [
    {
     "name": "stdout",
     "output_type": "stream",
     "text": [
      "              precision    recall  f1-score   support\n",
      "\n",
      "           0       0.86      0.86      0.86      1000\n",
      "           1       0.99      0.97      0.98      1000\n",
      "           2       0.84      0.85      0.84      1000\n",
      "           3       0.90      0.92      0.91      1000\n",
      "           4       0.82      0.87      0.85      1000\n",
      "           5       0.98      0.97      0.98      1000\n",
      "           6       0.75      0.69      0.72      1000\n",
      "           7       0.95      0.96      0.96      1000\n",
      "           8       0.98      0.97      0.97      1000\n",
      "           9       0.96      0.96      0.96      1000\n",
      "\n",
      "   micro avg       0.90      0.90      0.90     10000\n",
      "   macro avg       0.90      0.90      0.90     10000\n",
      "weighted avg       0.90      0.90      0.90     10000\n",
      "\n"
     ]
    }
   ],
   "source": [
    "print(classification_report(Y_test, classes_x))"
   ]
  },
  {
   "cell_type": "code",
   "execution_count": null,
   "metadata": {},
   "outputs": [],
   "source": []
  }
 ],
 "metadata": {
  "colab": {
   "collapsed_sections": [],
   "name": "ML-Gridsearch.ipynb",
   "provenance": []
  },
  "kernelspec": {
   "display_name": "Python 3",
   "language": "python",
   "name": "python3"
  },
  "language_info": {
   "codemirror_mode": {
    "name": "ipython",
    "version": 3
   },
   "file_extension": ".py",
   "mimetype": "text/x-python",
   "name": "python",
   "nbconvert_exporter": "python",
   "pygments_lexer": "ipython3",
   "version": "3.7.3"
  }
 },
 "nbformat": 4,
 "nbformat_minor": 1
}
